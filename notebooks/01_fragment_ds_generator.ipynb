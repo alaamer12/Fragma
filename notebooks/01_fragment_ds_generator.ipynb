{
 "cells": [
  {
   "cell_type": "markdown",
   "metadata": {
    "id": "2dWZ9-FA_BGD"
   },
   "source": [
    "# 📘 Notebook: 01_fragment_ds_generator.ipynb\n",
    "_**Part of the Fragma IPython Notebook Project Series**_\n",
    "\n",
    "*Focused on dataset generation and preparation for fragment detection.*\n",
    "\n",
    "---\n",
    "\n",
    "## 🧭 Table of Contents\n",
    "\n",
    "1. [📘 Overview & Navigation](#overview)\n",
    "2. [🧠 Context & Purpose](#context)\n",
    "3. [🧩 Main Components](#components)\n",
    "4. [🧭 Notebook Structure](#notebooks)\n",
    "5. [📦 Dependencies](#dependencies)\n",
    "6. [🛠️ Config & Setup](#setup)\n",
    "7. [📥 Inputs & Outputs](#io)\n",
    "8. [📚 Resources](#resources)\n",
    "9. [👥 Contributors](#team)\n",
    "\n",
    "> **Quick Links:** [🏠 Home](#overview) | [🔄 Status](#notebooks) | [📚 Docs](#resources)\n",
    "\n",
    "---"
   ]
  },
  {
   "cell_type": "markdown",
   "metadata": {
    "id": "5h0fodmB_BGG"
   },
   "source": [
    "## 🧪 Overview & Navigation\n",
    "\n",
    "This notebook is part of a multi-step data pipeline project that creates and prepares datasets for fragment detection.\n",
    "It focuses on: **Building a high-quality dataset for training fragment detection models using intelligent sentence splitting and linguistic analysis.**\n",
    "\n",
    "---\n",
    "\n",
    "## 🧠 Context & Purpose\n",
    "\n",
    "**🔍 Purpose:**  \n",
    "To create a balanced, well-structured dataset for training models to detect sentence fragments in autocomplete systems.\n",
    "\n",
    "**🎯 Objectives:**  \n",
    "- Generate a labeled dataset of sentence fragments and complete sentences\n",
    "- Apply intelligent splitting rules based on linguistic patterns\n",
    "- Balance dataset using expansion or reduction strategies\n",
    "- Extract and analyze linguistic features for each fragment\n",
    "\n",
    "**📘 Context:**  \n",
    "This notebook is the first step in the fragment detection pipeline. It preprocesses raw text data from social media posts and applies linguistic rules to create training data for the fragment detection model.\n",
    "\n",
    "---"
   ]
  },
  {
   "cell_type": "markdown",
   "metadata": {
    "id": "YAR84yKe_BGH"
   },
   "source": [
    "## 🧩 Main Components\n",
    "\n",
    "### `SmartExpander`\n",
    "> Intelligent sentence splitting based on linguistic patterns and rules.\n",
    "```python\n",
    "expander = SmartExpander()\n",
    "fragments = expander.split_sentence(\"The graphics are amazing but the story needs work.\") # Returns: [\"The graphics are amazing.\", \"But the story needs work.\"]\n",
    "```\n",
    "\n",
    "### `FeatureExtractor`\n",
    "> Extracts linguistic features from text fragments for analysis.\n",
    "```python\n",
    "extractor = FeatureExtractor()\n",
    "features = extractor.extract_features(\"Clearly, this is interesting.\") # Returns: {'has_auxiliary': True, 'has_comma': True, ...}\n",
    "```\n",
    "\n",
    "### `process_dataset`\n",
    "> Core function for dataset creation and balancing.\n",
    "```python\n",
    "process_dataset(input_file='raw_data.csv',\n",
    "               output_file='fragments.csv',\n",
    "               balance_strategy='expand')\n",
    "```"
   ]
  },
  {
   "cell_type": "markdown",
   "metadata": {
    "id": "11JDG5ad_BGH"
   },
   "source": [
    "## 🧭 Notebook Series Structure {#notebooks}\n",
    "\n",
    "| 🔢 Order | 📓 Notebook | 📝 Description |\n",
    "|---------:|------------|----------------|\n",
    "| 0 | [00-Fragma-Overview.ipynb](https://colab.research.google.com/drive/1oUmSqBuPqv2gObJjhezXaa6xBxe_Tl4g?usp=sharing) | Project overview and setup |\n",
    "| 1 | [01-Fragment-DS-Generator.ipynb](https://colab.research.google.com/drive/1aAVCptdYyRHmytnY7O__anYKpZh5Hl-w?usp=sharing) | Dataset generation (Current) |\n",
    "| 2 | [02-Fragment-Detection.ipynb](https://colab.research.google.com/drive/1QbVTz71jGvVvr2rXwJk9RKGKS4r1ntCC?usp=sharing) | Fragment detection and preprocessing |\n",
    "| 3 | [03-Model-Development.ipynb](https://colab.research.google.com/drive/1CDwjXuqBj1LBdXXvvFymNh6etWNpUnth?usp=sharing) | Model training and evaluation |\n",
    "\n",
    "> ⏮ **Previous:** [00-Fragma-Overview.ipynb](https://colab.research.google.com/drive/1oUmSqBuPqv2gObJjhezXaa6xBxe_Tl4g?usp=sharing)\n",
    "\n",
    "> ⏭ **Next:** [02-Fragment-Detection.ipynb](https://colab.research.google.com/drive/1QbVTz71jGvVvr2rXwJk9RKGKS4r1ntCC?usp=sharing)"
   ]
  },
  {
   "cell_type": "markdown",
   "metadata": {
    "id": "FFCTtYr__BGI"
   },
   "source": [
    "## 📦 Dependencies\n",
    "\n",
    "```bash\n",
    "pandas         # Data manipulation\n",
    "tqdm          # Progress bars\n",
    "nltk          # NLP tools\n",
    "ftfy          # Unicode fixing\n",
    "emoji         # Emoji handling\n",
    "textblob      # Text processing\n",
    "contractions  # Contraction expansion\n",
    "kagglehub    # Dataset download\n",
    "colab_print  # Pretty printing\n",
    "```"
   ]
  },
  {
   "cell_type": "markdown",
   "metadata": {
    "id": "E1nS3MkpBTay"
   },
   "source": [
    "### Installation and Import"
   ]
  },
  {
   "cell_type": "code",
   "execution_count": null,
   "metadata": {
    "colab": {
     "base_uri": "https://localhost:8080/"
    },
    "executionInfo": {
     "elapsed": 28358,
     "status": "ok",
     "timestamp": 1747096623697,
     "user": {
      "displayName": "amr muhamed",
      "userId": "08354309562380829108"
     },
     "user_tz": -180
    },
    "id": "JNo7JvkO_BGI",
    "outputId": "8beb3bec-07a0-45f0-cb71-e6f1d0acf1a7"
   },
   "outputs": [
    {
     "name": "stdout",
     "output_type": "stream",
     "text": [
      "Requirement already satisfied: kagglehub in /usr/local/lib/python3.11/dist-packages (0.3.12)\n",
      "Requirement already satisfied: pandas in /usr/local/lib/python3.11/dist-packages (2.2.2)\n",
      "Requirement already satisfied: numpy in /usr/local/lib/python3.11/dist-packages (2.0.2)\n",
      "Requirement already satisfied: tqdm in /usr/local/lib/python3.11/dist-packages (4.67.1)\n",
      "Requirement already satisfied: matplotlib in /usr/local/lib/python3.11/dist-packages (3.10.0)\n",
      "Requirement already satisfied: seaborn in /usr/local/lib/python3.11/dist-packages (0.13.2)\n",
      "Requirement already satisfied: nltk in /usr/local/lib/python3.11/dist-packages (3.9.1)\n",
      "Requirement already satisfied: scikit-learn in /usr/local/lib/python3.11/dist-packages (1.6.1)\n",
      "Collecting ftfy\n",
      "  Downloading ftfy-6.3.1-py3-none-any.whl.metadata (7.3 kB)\n",
      "Collecting contractions\n",
      "  Downloading contractions-0.1.73-py2.py3-none-any.whl.metadata (1.2 kB)\n",
      "Collecting emoji\n",
      "  Downloading emoji-2.14.1-py3-none-any.whl.metadata (5.7 kB)\n",
      "Requirement already satisfied: textblob in /usr/local/lib/python3.11/dist-packages (0.19.0)\n",
      "Requirement already satisfied: packaging in /usr/local/lib/python3.11/dist-packages (from kagglehub) (24.2)\n",
      "Requirement already satisfied: pyyaml in /usr/local/lib/python3.11/dist-packages (from kagglehub) (6.0.2)\n",
      "Requirement already satisfied: requests in /usr/local/lib/python3.11/dist-packages (from kagglehub) (2.32.3)\n",
      "Requirement already satisfied: python-dateutil>=2.8.2 in /usr/local/lib/python3.11/dist-packages (from pandas) (2.9.0.post0)\n",
      "Requirement already satisfied: pytz>=2020.1 in /usr/local/lib/python3.11/dist-packages (from pandas) (2025.2)\n",
      "Requirement already satisfied: tzdata>=2022.7 in /usr/local/lib/python3.11/dist-packages (from pandas) (2025.2)\n",
      "Requirement already satisfied: contourpy>=1.0.1 in /usr/local/lib/python3.11/dist-packages (from matplotlib) (1.3.2)\n",
      "Requirement already satisfied: cycler>=0.10 in /usr/local/lib/python3.11/dist-packages (from matplotlib) (0.12.1)\n",
      "Requirement already satisfied: fonttools>=4.22.0 in /usr/local/lib/python3.11/dist-packages (from matplotlib) (4.57.0)\n",
      "Requirement already satisfied: kiwisolver>=1.3.1 in /usr/local/lib/python3.11/dist-packages (from matplotlib) (1.4.8)\n",
      "Requirement already satisfied: pillow>=8 in /usr/local/lib/python3.11/dist-packages (from matplotlib) (11.2.1)\n",
      "Requirement already satisfied: pyparsing>=2.3.1 in /usr/local/lib/python3.11/dist-packages (from matplotlib) (3.2.3)\n",
      "Requirement already satisfied: click in /usr/local/lib/python3.11/dist-packages (from nltk) (8.1.8)\n",
      "Requirement already satisfied: joblib in /usr/local/lib/python3.11/dist-packages (from nltk) (1.5.0)\n",
      "Requirement already satisfied: regex>=2021.8.3 in /usr/local/lib/python3.11/dist-packages (from nltk) (2024.11.6)\n",
      "Requirement already satisfied: scipy>=1.6.0 in /usr/local/lib/python3.11/dist-packages (from scikit-learn) (1.15.2)\n",
      "Requirement already satisfied: threadpoolctl>=3.1.0 in /usr/local/lib/python3.11/dist-packages (from scikit-learn) (3.6.0)\n",
      "Requirement already satisfied: wcwidth in /usr/local/lib/python3.11/dist-packages (from ftfy) (0.2.13)\n",
      "Collecting textsearch>=0.0.21 (from contractions)\n",
      "  Downloading textsearch-0.0.24-py2.py3-none-any.whl.metadata (1.2 kB)\n",
      "Requirement already satisfied: six>=1.5 in /usr/local/lib/python3.11/dist-packages (from python-dateutil>=2.8.2->pandas) (1.17.0)\n",
      "Collecting anyascii (from textsearch>=0.0.21->contractions)\n",
      "  Downloading anyascii-0.3.2-py3-none-any.whl.metadata (1.5 kB)\n",
      "Collecting pyahocorasick (from textsearch>=0.0.21->contractions)\n",
      "  Downloading pyahocorasick-2.1.0-cp311-cp311-manylinux_2_17_x86_64.manylinux2014_x86_64.whl.metadata (13 kB)\n",
      "Requirement already satisfied: charset-normalizer<4,>=2 in /usr/local/lib/python3.11/dist-packages (from requests->kagglehub) (3.4.2)\n",
      "Requirement already satisfied: idna<4,>=2.5 in /usr/local/lib/python3.11/dist-packages (from requests->kagglehub) (3.10)\n",
      "Requirement already satisfied: urllib3<3,>=1.21.1 in /usr/local/lib/python3.11/dist-packages (from requests->kagglehub) (2.4.0)\n",
      "Requirement already satisfied: certifi>=2017.4.17 in /usr/local/lib/python3.11/dist-packages (from requests->kagglehub) (2025.4.26)\n",
      "Downloading ftfy-6.3.1-py3-none-any.whl (44 kB)\n",
      "\u001b[2K   \u001b[90m━━━━━━━━━━━━━━━━━━━━━━━━━━━━━━━━━━━━━━━━\u001b[0m \u001b[32m44.8/44.8 kB\u001b[0m \u001b[31m1.9 MB/s\u001b[0m eta \u001b[36m0:00:00\u001b[0m\n",
      "\u001b[?25hDownloading contractions-0.1.73-py2.py3-none-any.whl (8.7 kB)\n",
      "Downloading emoji-2.14.1-py3-none-any.whl (590 kB)\n",
      "\u001b[2K   \u001b[90m━━━━━━━━━━━━━━━━━━━━━━━━━━━━━━━━━━━━━━━━\u001b[0m \u001b[32m590.6/590.6 kB\u001b[0m \u001b[31m10.6 MB/s\u001b[0m eta \u001b[36m0:00:00\u001b[0m\n",
      "\u001b[?25hDownloading textsearch-0.0.24-py2.py3-none-any.whl (7.6 kB)\n",
      "Downloading anyascii-0.3.2-py3-none-any.whl (289 kB)\n",
      "\u001b[2K   \u001b[90m━━━━━━━━━━━━━━━━━━━━━━━━━━━━━━━━━━━━━━━━\u001b[0m \u001b[32m289.9/289.9 kB\u001b[0m \u001b[31m17.9 MB/s\u001b[0m eta \u001b[36m0:00:00\u001b[0m\n",
      "\u001b[?25hDownloading pyahocorasick-2.1.0-cp311-cp311-manylinux_2_17_x86_64.manylinux2014_x86_64.whl (118 kB)\n",
      "\u001b[2K   \u001b[90m━━━━━━━━━━━━━━━━━━━━━━━━━━━━━━━━━━━━━━━━\u001b[0m \u001b[32m118.3/118.3 kB\u001b[0m \u001b[31m3.5 MB/s\u001b[0m eta \u001b[36m0:00:00\u001b[0m\n",
      "\u001b[?25hInstalling collected packages: pyahocorasick, ftfy, emoji, anyascii, textsearch, contractions\n",
      "Successfully installed anyascii-0.3.2 contractions-0.1.73 emoji-2.14.1 ftfy-6.3.1 pyahocorasick-2.1.0 textsearch-0.0.24\n",
      "Collecting colab_print\n",
      "  Downloading colab_print-0.4.1-py3-none-any.whl.metadata (12 kB)\n",
      "Requirement already satisfied: ipython>=7.0.0 in /usr/local/lib/python3.11/dist-packages (from colab_print) (7.34.0)\n",
      "Requirement already satisfied: pandas>=1.0.0 in /usr/local/lib/python3.11/dist-packages (from colab_print) (2.2.2)\n",
      "Requirement already satisfied: setuptools>=18.5 in /usr/local/lib/python3.11/dist-packages (from ipython>=7.0.0->colab_print) (75.2.0)\n",
      "Collecting jedi>=0.16 (from ipython>=7.0.0->colab_print)\n",
      "  Downloading jedi-0.19.2-py2.py3-none-any.whl.metadata (22 kB)\n",
      "Requirement already satisfied: decorator in /usr/local/lib/python3.11/dist-packages (from ipython>=7.0.0->colab_print) (4.4.2)\n",
      "Requirement already satisfied: pickleshare in /usr/local/lib/python3.11/dist-packages (from ipython>=7.0.0->colab_print) (0.7.5)\n",
      "Requirement already satisfied: traitlets>=4.2 in /usr/local/lib/python3.11/dist-packages (from ipython>=7.0.0->colab_print) (5.7.1)\n",
      "Requirement already satisfied: prompt-toolkit!=3.0.0,!=3.0.1,<3.1.0,>=2.0.0 in /usr/local/lib/python3.11/dist-packages (from ipython>=7.0.0->colab_print) (3.0.51)\n",
      "Requirement already satisfied: pygments in /usr/local/lib/python3.11/dist-packages (from ipython>=7.0.0->colab_print) (2.19.1)\n",
      "Requirement already satisfied: backcall in /usr/local/lib/python3.11/dist-packages (from ipython>=7.0.0->colab_print) (0.2.0)\n",
      "Requirement already satisfied: matplotlib-inline in /usr/local/lib/python3.11/dist-packages (from ipython>=7.0.0->colab_print) (0.1.7)\n",
      "Requirement already satisfied: pexpect>4.3 in /usr/local/lib/python3.11/dist-packages (from ipython>=7.0.0->colab_print) (4.9.0)\n",
      "Requirement already satisfied: numpy>=1.23.2 in /usr/local/lib/python3.11/dist-packages (from pandas>=1.0.0->colab_print) (2.0.2)\n",
      "Requirement already satisfied: python-dateutil>=2.8.2 in /usr/local/lib/python3.11/dist-packages (from pandas>=1.0.0->colab_print) (2.9.0.post0)\n",
      "Requirement already satisfied: pytz>=2020.1 in /usr/local/lib/python3.11/dist-packages (from pandas>=1.0.0->colab_print) (2025.2)\n",
      "Requirement already satisfied: tzdata>=2022.7 in /usr/local/lib/python3.11/dist-packages (from pandas>=1.0.0->colab_print) (2025.2)\n",
      "Requirement already satisfied: parso<0.9.0,>=0.8.4 in /usr/local/lib/python3.11/dist-packages (from jedi>=0.16->ipython>=7.0.0->colab_print) (0.8.4)\n",
      "Requirement already satisfied: ptyprocess>=0.5 in /usr/local/lib/python3.11/dist-packages (from pexpect>4.3->ipython>=7.0.0->colab_print) (0.7.0)\n",
      "Requirement already satisfied: wcwidth in /usr/local/lib/python3.11/dist-packages (from prompt-toolkit!=3.0.0,!=3.0.1,<3.1.0,>=2.0.0->ipython>=7.0.0->colab_print) (0.2.13)\n",
      "Requirement already satisfied: six>=1.5 in /usr/local/lib/python3.11/dist-packages (from python-dateutil>=2.8.2->pandas>=1.0.0->colab_print) (1.17.0)\n",
      "Downloading colab_print-0.4.1-py3-none-any.whl (53 kB)\n",
      "\u001b[2K   \u001b[90m━━━━━━━━━━━━━━━━━━━━━━━━━━━━━━━━━━━━━━━━\u001b[0m \u001b[32m53.1/53.1 kB\u001b[0m \u001b[31m2.0 MB/s\u001b[0m eta \u001b[36m0:00:00\u001b[0m\n",
      "\u001b[?25hDownloading jedi-0.19.2-py2.py3-none-any.whl (1.6 MB)\n",
      "\u001b[2K   \u001b[90m━━━━━━━━━━━━━━━━━━━━━━━━━━━━━━━━━━━━━━━━\u001b[0m \u001b[32m1.6/1.6 MB\u001b[0m \u001b[31m16.4 MB/s\u001b[0m eta \u001b[36m0:00:00\u001b[0m\n",
      "\u001b[?25hInstalling collected packages: jedi, colab_print\n",
      "Successfully installed colab_print-0.4.1 jedi-0.19.2\n"
     ]
    }
   ],
   "source": [
    "!pip install kagglehub pandas numpy tqdm matplotlib seaborn nltk scikit-learn ftfy contractions emoji textblob\n",
    "!pip install -U colab_print # Always use last version"
   ]
  },
  {
   "cell_type": "code",
   "execution_count": null,
   "metadata": {
    "id": "O68lLHQ-_BGJ"
   },
   "outputs": [],
   "source": [
    "import os\n",
    "import re\n",
    "import pandas as pd\n",
    "import subprocess\n",
    "import argparse\n",
    "import random\n",
    "from colab_print import Printer, header, list_, table, dfd, info, error, success, warning, title\n",
    "from typing import Tuple, List, Dict, Optional, Union\n",
    "from tqdm.auto import tqdm\n",
    "import unicodedata\n",
    "import html\n",
    "import nltk\n",
    "import shutil\n",
    "from typing import List, Optional, Dict, Tuple, Any, Union, Literal\n",
    "from nltk.corpus import stopwords\n",
    "from nltk.tokenize import word_tokenize\n",
    "import ftfy\n",
    "from colab_print import header, table, info, error, success, warning\n",
    "from contractions import fix\n",
    "import emoji\n",
    "from textblob import TextBlob"
   ]
  },
  {
   "cell_type": "markdown",
   "metadata": {
    "id": "75w_lTN7_BGJ"
   },
   "source": [
    "## 🛠️ Config / Setup\n",
    "- ### Helper and Utility Functions\n",
    "- ### Paths, Constants and etc.\n",
    "```python\n",
    "URL = \"tomthescientist/netflix-facebook-posts-as-sentences-for-llm-input\"\n",
    "DSPATH = os.path.join(download_ds(URL), \"netflix_fb_sentences.csv\")\n",
    "FDPATH = 'dataset_fragments.csv'\n",
    "EXPANDPATH = 'expanded_dataset.csv'\n",
    "\n",
    "```"
   ]
  },
  {
   "cell_type": "code",
   "execution_count": null,
   "metadata": {
    "id": "LViXnjbxUIXy"
   },
   "outputs": [],
   "source": [
    "def download_ds(url):\n",
    "  import kagglehub\n",
    "\n",
    "  # Download latest version\n",
    "  path = kagglehub.dataset_download(url)\n",
    "\n",
    "  print(\"Path to dataset files:\", path)\n",
    "  return path\n",
    "\n",
    "def mount_drive():\n",
    "  from google.colab import drive\n",
    "  \"\"\"Uploads the dataset_fragments.csv file to Google Drive.\"\"\"\n",
    "  drive.mount('/content/drive')\n",
    "\n",
    "def move_to_nlp_drive(file, path):\n",
    "  if not os.path.exists(path):\n",
    "    raise ValueError(\"Path does not exist\")\n",
    "\n",
    "  shutil.move(file, path)\n",
    "\n",
    "def count_fragments(df):\n",
    "    count_t = df['is_fragment'].sum() # True Count\n",
    "    count_f = len(df) - count_t # False Count\n",
    "    return count_t, count_f\n",
    "\n",
    "def get_df(path, **kwargs):\n",
    "  return pd.read_csv(path, **kwargs)\n",
    "\n",
    "def sync_colab_workspace(files: list, sync_strategy: Literal[\"clone\", \"upload\", \"copy\"] = \"copy\", **kwargs):\n",
    "    \"\"\"Ensure all modules and files exist in Google Colab.\"\"\"\n",
    "    from google.colab import files, drive\n",
    "\n",
    "    script_files = files\n",
    "\n",
    "    if sync_strategy == \"copy\":\n",
    "        drive_path = \"/content/drive\"\n",
    "        if not os.path.exists(drive_path):\n",
    "            drive.mount()\n",
    "\n",
    "        nlp_project_path = kwargs.get(\"nlp\")\n",
    "\n",
    "        for file in tqdm(script_files, leave=False):\n",
    "            src = os.path.join(nlp_project_path, file)\n",
    "            dst = os.path.join(\"/content\", file)\n",
    "            if os.path.exists(src):\n",
    "                shutil.copy(src, dst)\n",
    "            else:\n",
    "                warning(f\"Warning: {file} not found in Drive path.\")\n",
    "\n",
    "    elif sync_strategy == \"upload\":\n",
    "        uploaded = files.upload()\n",
    "        for name in uploaded.keys():\n",
    "            success(f\"Uploaded: {name}\")\n",
    "\n",
    "    elif sync_strategy == \"clone\":\n",
    "        repo_url = kwargs.get(\"repo_url\")\n",
    "        project_name = kwargs.get(\"project_name\")\n",
    "\n",
    "        repo_dir = f\"/content/{project_name}\"\n",
    "        if os.path.exists(repo_dir):\n",
    "            shutil.rmtree(repo_dir)\n",
    "        subprocess.run([\"git\", \"clone\", repo_url], check=True)\n",
    "\n",
    "        for file in script_files:\n",
    "            src = os.path.join(repo_dir, file)\n",
    "            dst = os.path.join(\"/content\", file)\n",
    "            if os.path.exists(src):\n",
    "                shutil.copy(src, dst)\n",
    "            else:\n",
    "                warning(f\"Warning: {file} not found in cloned repo.\")\n",
    "\n",
    "    else:\n",
    "        raise ValueError(\"Invalid sync_strategy. Choose from 'copy', 'upload', or 'clone'.\")\n",
    "\n",
    "    def verify_files():\n",
    "        print(\"\\nVerifying required files in /content:\")\n",
    "        missing = []\n",
    "        for file in script_files:\n",
    "            if not os.path.exists(os.path.join(\"/content\", file)):\n",
    "                missing.append(file)\n",
    "        if missing:\n",
    "            print(\"Missing files:\", missing)\n",
    "        else:\n",
    "            print(\"✅ All files are present.\")\n",
    "\n",
    "    verify_files()\n"
   ]
  },
  {
   "cell_type": "code",
   "execution_count": null,
   "metadata": {
    "colab": {
     "base_uri": "https://localhost:8080/"
    },
    "executionInfo": {
     "elapsed": 5984,
     "status": "ok",
     "timestamp": 1747096635815,
     "user": {
      "displayName": "amr muhamed",
      "userId": "08354309562380829108"
     },
     "user_tz": -180
    },
    "id": "0mp0sn6q_pVK",
    "outputId": "6b8a59d2-748e-442f-8d1d-f380277d2788"
   },
   "outputs": [
    {
     "name": "stdout",
     "output_type": "stream",
     "text": [
      "Downloading from https://www.kaggle.com/api/v1/datasets/download/tomthescientist/netflix-facebook-posts-as-sentences-for-llm-input?dataset_version_number=3...\n"
     ]
    },
    {
     "name": "stderr",
     "output_type": "stream",
     "text": [
      "100%|██████████| 8.26M/8.26M [00:00<00:00, 75.2MB/s]"
     ]
    },
    {
     "name": "stdout",
     "output_type": "stream",
     "text": [
      "Extracting files...\n"
     ]
    },
    {
     "name": "stderr",
     "output_type": "stream",
     "text": [
      "\n"
     ]
    },
    {
     "name": "stdout",
     "output_type": "stream",
     "text": [
      "Path to dataset files: /root/.cache/kagglehub/datasets/tomthescientist/netflix-facebook-posts-as-sentences-for-llm-input/versions/3\n"
     ]
    }
   ],
   "source": [
    "URL = \"tomthescientist/netflix-facebook-posts-as-sentences-for-llm-input\"\n",
    "PROJECT_URL = \"https://github.com/alaamer12/Fragma\"\n",
    "PROJECT_NAME = \"Fragma\"\n",
    "NLP_PROJECT_PATH = \"/content/drive/MyDrive/Colab Notebooks/College/3rd Level 2nd Term/Natural Language Processing/Project\"\n",
    "FILENAME = \"netflix_fb_sentences.csv\"\n",
    "DSPATH  = os.path.join(download_ds(URL), FILENAME)\n",
    "FDPATH = 'dataset_fragments.csv'\n",
    "EXPANDPATH = 'expanded_dataset.csv'\n",
    "STRATEGY = 'expand'\n",
    "BALANCE_PER = \"95%\"\n",
    "TOLERANCE = \"0.1%\"\n",
    "SCRIPT_FILES = [\n",
    "        \"fd_dataset_creator_script.py\",\n",
    "        \"fd_ds_expander.py\",\n",
    "        \"fd_linguistic_features.py\",\n",
    "        \"preprocessor.py\",\n",
    "        \"README.md\",\n",
    "        \"FD.md\",\n",
    "    ]\n",
    "\n",
    "DEFAULT_PREPROCESSING_CONFIG = {\n",
    "    \"fix_unicode\": True,\n",
    "    \"remove_invalid\": True,\n",
    "    \"normalize_whitespace\": True,\n",
    "    \"remove_emojis\": True,\n",
    "    \"lowercase\": True,\n",
    "    \"normalize_words\": True,\n",
    "    \"expand_contractions\": True,\n",
    "    \"normalize_punctuation\": True,\n",
    "    \"strip_platform_noise\": True,\n",
    "    \"remove_stopwords\": False,\n",
    "    \"tokenize\": False,\n",
    "    \"keep_punctuation_tokens\": False, # Only if tokenize is True\n",
    "    \"spell_correct\": False     # Optional step (expensive)\n",
    "}\n",
    "\n",
    "# SYNC_STRATEGY = \"copy\"\n",
    "# sync_colab_workspace(SCRIPT_FILES, SYNC_STRATEGY) # Dont forget to send kwargs for each strategy"
   ]
  },
  {
   "cell_type": "markdown",
   "metadata": {
    "id": "G0DX64qO_BGK"
   },
   "source": [
    "## 📥 Inputs & Outputs\n",
    "\n",
    "**📥 Inputs:**\n",
    "- `netflix_fb_sentences.csv`: Raw social media posts dataset\n",
    "  - Format: CSV with 'Sentence' column\n",
    "  - Source: Kaggle Dataset\n",
    "\n",
    "**📤 Outputs:**\n",
    "- `dataset_fragments.csv`: Initial fragment dataset\n",
    "  - Columns: 'Sentence Fragment', 'is_fragment'\n",
    "- `expanded_dataset.csv`: Dataset with linguistic features\n",
    "  - Additional columns for linguistic patterns\n",
    "  - Feature indicators (has_auxiliary, has_comma, etc.)"
   ]
  },
  {
   "cell_type": "markdown",
   "metadata": {
    "id": "UbV2ysJUBbXS"
   },
   "source": [
    "## 🧬 Core Implementation\n",
    "Below are the key classes and methods used in this notebook for fragment detection dataset generation:\n"
   ]
  },
  {
   "cell_type": "markdown",
   "metadata": {
    "id": "KyxhlZRvvzId"
   },
   "source": [
    "### 🧪 Linguistics"
   ]
  },
  {
   "cell_type": "code",
   "execution_count": null,
   "metadata": {
    "id": "rZARJEltvxdt"
   },
   "outputs": [],
   "source": [
    "# 1. Auxiliary Verbs (verbs indicating tense, state, or activity)\n",
    "AUXILIARY_VERBS = [\n",
    "    \"is\", \"are\", \"was\", \"were\", \"be\", \"been\", \"am\", \"being\",\n",
    "    \"has\", \"have\", \"had\", \"does\", \"do\", \"did\",\n",
    "    \"can\", \"could\", \"may\", \"might\", \"must\", \"shall\", \"should\", \"will\", \"would\",\n",
    "    \"ought\", \"need\", \"dare\", \"used\", \"going\", \"get\", \"gets\", \"got\", \"gotten\",\n",
    "    \"keep\", \"keeps\", \"kept\", \"seem\", \"seems\", \"seemed\", \"become\", \"becomes\", \"became\",\n",
    "    \"remain\", \"remains\", \"remained\", \"stay\", \"stays\", \"stayed\", \"appear\", \"appears\", \"appeared\"\n",
    "]\n",
    "\n",
    "# 2. Common Expressions / Exclamations\n",
    "COMMON_EXPRESSIONS = [\n",
    "    \"wow\", \"oops\", \"amazing\", \"fantastic\", \"unbelievable\", \"incredible\",\n",
    "    \"interesting\", \"sadly\", \"fortunately\", \"surprisingly\", \"finally\",\n",
    "    \"oh\", \"ah\", \"ugh\", \"yikes\", \"gosh\", \"goodness\", \"jeez\", \"alas\", \"phew\",\n",
    "    \"hmm\", \"huh\", \"meh\", \"yay\", \"hooray\", \"bingo\", \"bravo\", \"congrats\", \"darn\",\n",
    "    \"excellent\", \"great\", \"wonderful\", \"terrific\", \"brilliant\", \"splendid\", \"marvelous\",\n",
    "    \"unfortunately\", \"regrettably\", \"honestly\", \"frankly\", \"truthfully\", \"admittedly\",\n",
    "    \"basically\", \"essentially\", \"literally\", \"virtually\", \"practically\", \"technically\",\n",
    "    \"ironically\", \"curiously\", \"strangely\", \"oddly\", \"weirdly\", \"bizarrely\"\n",
    "]\n",
    "\n",
    "# 3. Conjunctions (links between ideas)\n",
    "CONJUNCTIONS = [\n",
    "    \"and\", \"but\", \"or\", \"so\", \"because\", \"although\", \"however\",\n",
    "    \"yet\", \"still\", \"therefore\", \"meanwhile\", \"whereas\",\n",
    "    \"since\", \"unless\", \"until\", \"while\", \"though\", \"if\", \"whether\",\n",
    "    \"as\", \"when\", \"where\", \"whenever\", \"wherever\", \"once\", \"before\",\n",
    "    \"after\", \"than\", \"that\", \"which\", \"who\", \"whom\", \"whose\", \"what\",\n",
    "    \"whatever\", \"whichever\", \"whoever\", \"whomever\", \"nor\", \"for\", \"plus\",\n",
    "    \"furthermore\", \"moreover\", \"additionally\", \"consequently\", \"hence\",\n",
    "    \"thus\", \"accordingly\", \"otherwise\", \"nevertheless\", \"nonetheless\",\n",
    "    \"instead\", \"alternatively\", \"conversely\", \"similarly\", \"likewise\"\n",
    "]\n",
    "\n",
    "# 4. Temporal Words (expressions indicating time changes)\n",
    "TEMPORAL_WORDS = [\n",
    "    \"then\", \"after\", \"before\", \"later\", \"suddenly\", \"soon\",\n",
    "    \"eventually\", \"earlier\", \"now\", \"today\", \"tonight\", \"tomorrow\",\n",
    "    \"yesterday\", \"morning\", \"afternoon\", \"evening\", \"night\", \"midnight\",\n",
    "    \"dawn\", \"dusk\", \"weekly\", \"monthly\", \"yearly\", \"daily\", \"hourly\",\n",
    "    \"instantly\", \"immediately\", \"promptly\", \"currently\", \"presently\",\n",
    "    \"previously\", \"formerly\", \"lately\", \"recently\", \"nowadays\", \"momentarily\",\n",
    "    \"temporarily\", \"briefly\", \"shortly\", \"occasionally\", \"frequently\", \"regularly\",\n",
    "    \"periodically\", \"constantly\", \"continuously\", \"perpetually\", \"eternally\",\n",
    "    \"forever\", \"always\", \"never\", \"ever\", \"seldom\", \"rarely\", \"sometimes\",\n",
    "    \"often\", \"usually\", \"generally\", \"typically\", \"historically\", \"traditionally\",\n",
    "    \"initially\", \"ultimately\", \"finally\", \"lastly\", \"meanwhile\", \"simultaneously\",\n",
    "    \"concurrently\", \"subsequently\", \"consequently\", \"accordingly\", \"henceforth\"\n",
    "]\n",
    "\n",
    "# 5. Adverbs of Opinion / Degree - Common explicit ones\n",
    "ADVERBS_OPINION = [\n",
    "    \"clearly\", \"obviously\", \"probably\", \"certainly\", \"absolutely\",\n",
    "    \"seriously\", \"undoubtedly\", \"definitely\", \"arguably\", \"presumably\",\n",
    "    \"apparently\", \"evidently\", \"seemingly\", \"supposedly\", \"allegedly\",\n",
    "    \"conceivably\", \"possibly\", \"perhaps\", \"maybe\", \"likely\", \"unlikely\",\n",
    "    \"surely\", \"truly\", \"really\", \"actually\", \"honestly\", \"frankly\",\n",
    "    \"admittedly\", \"unfortunately\", \"fortunately\", \"surprisingly\", \"amazingly\",\n",
    "    \"astonishingly\", \"shockingly\", \"disappointingly\", \"regrettably\", \"sadly\",\n",
    "    \"happily\", \"gladly\", \"hopefully\", \"mercifully\", \"thankfully\", \"luckily\",\n",
    "    \"incredibly\", \"remarkably\", \"notably\", \"significantly\", \"substantially\",\n",
    "    \"considerably\", \"essentially\", \"fundamentally\", \"basically\", \"primarily\",\n",
    "    \"mainly\", \"largely\", \"mostly\", \"generally\", \"typically\", \"usually\",\n",
    "    \"normally\", \"commonly\", \"frequently\", \"occasionally\", \"rarely\", \"seldom\"\n",
    "]\n",
    "\n",
    "# 6. Sentence Starters / Fillers\n",
    "SENTENCE_STARTERS = [\n",
    "    \"well\", \"so\", \"anyway\", \"besides\", \"actually\", \"by the way\",\n",
    "    \"in fact\", \"as a matter of fact\", \"to be honest\", \"honestly\",\n",
    "    \"frankly\", \"to tell the truth\", \"truthfully\", \"admittedly\",\n",
    "    \"obviously\", \"clearly\", \"evidently\", \"apparently\", \"seemingly\",\n",
    "    \"interestingly\", \"surprisingly\", \"remarkably\", \"notably\", \"significantly\",\n",
    "    \"importantly\", \"essentially\", \"basically\", \"fundamentally\", \"generally\",\n",
    "    \"typically\", \"usually\", \"normally\", \"commonly\", \"frequently\", \"occasionally\",\n",
    "    \"first\", \"firstly\", \"second\", \"secondly\", \"third\", \"thirdly\", \"finally\", \"lastly\",\n",
    "    \"meanwhile\", \"subsequently\", \"consequently\", \"therefore\", \"thus\", \"hence\",\n",
    "    \"accordingly\", \"as a result\", \"for this reason\", \"due to this\", \"because of this\",\n",
    "    \"nevertheless\", \"nonetheless\", \"however\", \"on the other hand\", \"conversely\",\n",
    "    \"in contrast\", \"alternatively\", \"instead\", \"rather\", \"in addition\", \"furthermore\",\n",
    "    \"moreover\", \"similarly\", \"likewise\", \"in the same way\", \"for example\", \"for instance\",\n",
    "    \"specifically\", \"in particular\", \"namely\", \"to illustrate\", \"such as\", \"including\",\n",
    "    \"in conclusion\", \"to conclude\", \"to summarize\", \"in summary\", \"overall\", \"ultimately\",\n",
    "    \"in the end\", \"eventually\", \"after all\", \"all in all\", \"on the whole\", \"by and large\"\n",
    "]\n",
    "\n",
    "# Regex patterns for linguistic features\n",
    "ADVERB_PATTERNS = [\n",
    "    r'\\b\\w+ly\\b',         # Words ending with 'ly' (carefully, quickly, etc.)\n",
    "    r'\\b\\w+ily\\b',        # Words ending with 'ily' (happily, easily, etc.)\n",
    "    r'\\b\\w+ally\\b',       # Words ending with 'ally' (basically, naturally, etc.)\n",
    "    r'\\b\\w+ically\\b',     # Words ending with 'ically' (specifically, dramatically, etc.)\n",
    "]\n",
    "\n",
    "# Past tense verb patterns\n",
    "PAST_VERB_PATTERNS = [\n",
    "    r'\\b\\w{3,}ed\\b',      # Regular past tense (played, walked, etc.)\n",
    "    r'\\b\\w{3,}en\\b',      # Past participles (taken, broken, etc.)\n",
    "    r'\\b\\w+ied\\b',        # Words ending with 'ied' (cried, tried, etc.)\n",
    "    r'\\b\\w+ought\\b',      # Irregular past tense (thought, bought, etc.)\n",
    "    r'\\b\\w+aught\\b',      # Irregular past tense (caught, taught, etc.)\n",
    "    r'\\bwent\\b',          # Irregular past tense of 'go'\n",
    "    r'\\bsaw\\b',           # Irregular past tense of 'see'\n",
    "    r'\\bcame\\b',          # Irregular past tense of 'come'\n",
    "    r'\\btook\\b',          # Irregular past tense of 'take'\n",
    "    r'\\bgave\\b',          # Irregular past tense of 'give'\n",
    "    r'\\bmade\\b',          # Irregular past tense of 'make'\n",
    "    r'\\bsaid\\b',          # Irregular past tense of 'say'\n",
    "    r'\\bfelt\\b',          # Irregular past tense of 'feel'\n",
    "    r'\\bheld\\b',          # Irregular past tense of 'hold'\n",
    "    r'\\bfound\\b',         # Irregular past tense of 'find'\n",
    "    r'\\bknew\\b',          # Irregular past tense of 'know'\n",
    "    r'\\bgot\\b',           # Irregular past tense of 'get'\n",
    "    r'\\bput\\b',           # Irregular past tense of 'put'\n",
    "    r'\\bset\\b',           # Irregular past tense of 'set'\n",
    "    r'\\bran\\b',           # Irregular past tense of 'run'\n",
    "    r'\\bwrote\\b',         # Irregular past tense of 'write'\n",
    "]\n",
    "\n",
    "# Gerund patterns\n",
    "GERUND_PATTERNS = [\n",
    "    r'\\b\\w{3,}ing\\b',     # Standard gerunds (playing, walking, etc.)\n",
    "    r'\\b\\w+ying\\b',       # Words ending with 'ying' (trying, crying, etc.)\n",
    "    r'\\b\\w+ling\\b',       # Words ending with 'ling' (handling, cycling, etc.)\n",
    "    r'\\b\\w+ting\\b',       # Words ending with 'ting' (sitting, getting, etc.)\n",
    "    r'\\b\\w+ping\\b',       # Words ending with 'ping' (shopping, clapping, etc.)\n",
    "    r'\\b\\w+ning\\b',       # Words ending with 'ning' (running, planning, etc.)\n",
    "    r'\\b\\w+ming\\b',       # Words ending with 'ming' (swimming, coming, etc.)\n",
    "    r'\\b\\w+ding\\b',       # Words ending with 'ding' (reading, building, etc.)\n",
    "    r'\\b\\w+cing\\b',       # Words ending with 'cing' (dancing, racing, etc.)\n",
    "    r'\\b\\w+king\\b',       # Words ending with 'king' (talking, making, etc.)\n",
    "    r'\\b\\w+ging\\b',       # Words ending with 'ging' (hanging, bringing, etc.)\n",
    "]\n",
    "\n",
    "# Common adverbs that don't end with 'ly' but should be excluded from pattern matching\n",
    "NON_SPLITTING_ADVERBS = [\n",
    "    \"very\", \"quite\", \"rather\", \"too\", \"so\", \"just\", \"only\",\n",
    "    \"almost\", \"nearly\", \"really\", \"pretty\", \"even\"\n",
    "]\n",
    "\n",
    "# Feature descriptions for documentation and display\n",
    "FEATURE_DESCRIPTIONS = {\n",
    "    \"has_auxiliary\": \"Contains auxiliary verbs (is, are, was, were, etc.)\",\n",
    "    \"has_fullstop\": \"Contains a period (.)\",\n",
    "    \"has_question_mark\": \"Contains a question mark (?)\",\n",
    "    \"has_exclamation_mark\": \"Contains an exclamation mark (!)\",\n",
    "    \"has_comma\": \"Contains a comma (,)\",\n",
    "    \"has_semicolon\": \"Contains a semicolon (;)\",\n",
    "    \"has_colon\": \"Contains a colon (:)\",\n",
    "    \"has_quotation\": \"Contains quotation marks (' or \\\")\",\n",
    "    \"has_expression\": \"Contains common expressions or exclamations\",\n",
    "    \"has_conjunction\": \"Contains conjunctions (and, but, or, etc.)\",\n",
    "    \"has_temporal\": \"Contains temporal words (then, after, before, etc.)\",\n",
    "    \"has_opinion_adverb\": \"Contains adverbs of opinion (clearly, obviously, etc.)\",\n",
    "    \"has_adverb\": \"Contains adverbs (words ending with -ly, -ily, etc.)\",\n",
    "    \"has_starter\": \"Contains sentence starters or fillers (well, so, etc.)\",\n",
    "    \"has_past_verb\": \"Contains past tense verbs (words ending with -ed or -en)\",\n",
    "    \"has_gerund\": \"Contains gerunds/present participles (words ending with -ing)\",\n",
    "    \"word_count\": \"Number of words in the sentence\",\n",
    "    \"char_count\": \"Number of characters in the sentence\",\n",
    "    \"starts_capitalized\": \"Sentence starts with a capital letter\",\n",
    "    \"all_caps_word\": \"Contains a word in all capital letters\"\n",
    "}"
   ]
  },
  {
   "cell_type": "markdown",
   "metadata": {
    "id": "qbkqQ66Vu4ve"
   },
   "source": [
    "### 📊 Fragment Detection Dataset Creation\n",
    "\n",
    "#### Overview\n",
    "\n",
    "The Fragment Detection Dataset Creator is a dedicated class that prepares data for fragment detection by:\n",
    "- Removing noise words and standardizing text\n",
    "- Handling each dataset instance consistently\n",
    "- Providing two balancing strategies\n",
    "\n",
    "#### Balance Strategies\n",
    "\n",
    "**1. Reduction Strategy** 🔻\n",
    "- Reduces majority class instances (`is_fragment = False`)\n",
    "- Makes dataset balanced by removing excess complete sentences\n",
    "- No new data creation, only removal of existing data\n",
    "\n",
    "**2. Expansion Strategy** 🔼\n",
    "- Increases minority class instances (`is_fragment = True`)\n",
    "- Creates new fragments from complete sentences\n",
    "- Uses intelligent linguistic analysis for natural splits\n",
    "\n",
    "#### Expansion Process\n",
    "\n",
    "For each row where `is_fragment = False`:\n",
    "1. Analyze sentence structure\n",
    "2. Find natural linguistic breakpoints\n",
    "3. Split sentence into two fragments\n",
    "4. Create new instances (rows) for each fragment"
   ]
  },
  {
   "cell_type": "markdown",
   "metadata": {
    "id": "RhPNRTSqSIS2"
   },
   "source": [
    "##### Smart Expander is a helper class to create fragement detection dataset\n",
    "- It is a sub-strategy encapsulated because of its complexity\n",
    "- Smart expander follows a pattern for expanding the dataset, which could lead to limitation of expansion [after several iterations the expansion will be less than 1%]\n",
    "- This is becuase of how the pattern is work\n",
    "- **Suggestions**: You can improve it by providing randomness in steps which could lead to better results, but it wont fix the problem entirely\n",
    "- This class could lead to duplications in data so alway **clean** your data"
   ]
  },
  {
   "cell_type": "code",
   "execution_count": null,
   "metadata": {
    "id": "19BJZMC9j5jl"
   },
   "outputs": [],
   "source": [
    "class SmartExpander:\n",
    "    def __init__(self):\n",
    "        # Use imported word lists from fd_linguistic_features\n",
    "        self.auxiliary_verbs = AUXILIARY_VERBS\n",
    "        self.common_expressions = COMMON_EXPRESSIONS\n",
    "        self.conjunctions = CONJUNCTIONS\n",
    "        self.temporal_words = TEMPORAL_WORDS\n",
    "        self.adverbs_opinion = ADVERBS_OPINION\n",
    "        self.sentence_starters = SENTENCE_STARTERS\n",
    "        self.adverb_patterns = ADVERB_PATTERNS\n",
    "        self.non_splitting_adverbs = NON_SPLITTING_ADVERBS\n",
    "        self.past_verb_patterns = PAST_VERB_PATTERNS\n",
    "        self.gerund_patterns = GERUND_PATTERNS\n",
    "\n",
    "        # Keyword categories in priority order\n",
    "        self.keyword_categories = [\n",
    "            self.common_expressions,\n",
    "            self.sentence_starters,\n",
    "            self.conjunctions,\n",
    "            self.auxiliary_verbs,\n",
    "            self.temporal_words,\n",
    "            self.adverbs_opinion\n",
    "        ]\n",
    "\n",
    "    def is_adverb_by_pattern(self, word: str) -> bool:\n",
    "        \"\"\"\n",
    "        Check if a word matches adverb patterns (typically ending with 'ly').\n",
    "        Excludes words that are in the non-splitting adverbs list.\n",
    "\n",
    "        Args:\n",
    "            word: The word to check\n",
    "\n",
    "        Returns:\n",
    "            True if the word matches adverb patterns, False otherwise\n",
    "        \"\"\"\n",
    "        # Clean the word from punctuation\n",
    "        clean_word = re.sub(r'[^\\w\\s]', '', word.lower())\n",
    "\n",
    "        # Skip checking if it's in our non-splitting adverbs list\n",
    "        if clean_word in self.non_splitting_adverbs:\n",
    "            return False\n",
    "\n",
    "        # Check against all adverb patterns\n",
    "        for pattern in self.adverb_patterns:\n",
    "            if re.match(pattern, clean_word):\n",
    "                return True\n",
    "\n",
    "        return False\n",
    "\n",
    "    def is_past_verb(self, word: str) -> bool:\n",
    "        \"\"\"\n",
    "        Check if a word matches past verb patterns (ending with 'ed' or 'en').\n",
    "\n",
    "        Args:\n",
    "            word: The word to check\n",
    "\n",
    "        Returns:\n",
    "            True if the word is likely a past tense verb, False otherwise\n",
    "        \"\"\"\n",
    "        # Clean the word from punctuation\n",
    "        clean_word = re.sub(r'[^\\w\\s]', '', word.lower())\n",
    "\n",
    "        # Check against all past verb patterns\n",
    "        for pattern in self.past_verb_patterns:\n",
    "            if re.match(pattern, clean_word):\n",
    "                return True\n",
    "\n",
    "        return False\n",
    "\n",
    "    def is_gerund(self, word: str) -> bool:\n",
    "        \"\"\"\n",
    "        Check if a word matches gerund patterns (ending with 'ing').\n",
    "\n",
    "        Args:\n",
    "            word: The word to check\n",
    "\n",
    "        Returns:\n",
    "            True if the word is likely a gerund, False otherwise\n",
    "        \"\"\"\n",
    "        # Clean the word from punctuation\n",
    "        clean_word = re.sub(r'[^\\w\\s]', '', word.lower())\n",
    "\n",
    "        # Check against all gerund patterns\n",
    "        for pattern in self.gerund_patterns:\n",
    "            if re.match(pattern, clean_word):\n",
    "                return True\n",
    "\n",
    "        return False\n",
    "\n",
    "    def find_split_point(self, sentence: str) -> Optional[Tuple[int, str]]:\n",
    "        \"\"\"\n",
    "        Find the optimal split point in a sentence based on keyword priority and regex patterns.\n",
    "\n",
    "        Args:\n",
    "            sentence: The sentence to analyze for split points\n",
    "\n",
    "        Returns:\n",
    "            A tuple (position, keyword) if a split point is found, None otherwise\n",
    "        \"\"\"\n",
    "        # Convert to lowercase for case-insensitive matching\n",
    "        words = sentence.lower().split()\n",
    "        original_words = sentence.split()\n",
    "\n",
    "        # Search for keywords in priority order\n",
    "        for keyword_list in self.keyword_categories:\n",
    "            for i, word in enumerate(words):\n",
    "                # Clean the word from punctuation for matching\n",
    "                clean_word = re.sub(r'[^\\w\\s]', '', word)\n",
    "\n",
    "                if clean_word in keyword_list:\n",
    "                    # Return the position and the original keyword\n",
    "                    return i, original_words[i]\n",
    "\n",
    "        # If no keyword match, check for special patterns in this order:\n",
    "        # 1. First check for auxiliary verbs followed by gerunds (e.g., \"is playing\")\n",
    "        for i, word in enumerate(words[:-1]):  # Skip the last word\n",
    "            clean_word = re.sub(r'[^\\w\\s]', '', word)\n",
    "            next_word = re.sub(r'[^\\w\\s]', '', words[i+1])\n",
    "\n",
    "            if clean_word in self.auxiliary_verbs and self.is_gerund(next_word):\n",
    "                # Found auxiliary + gerund pattern (e.g., \"is playing\")\n",
    "                # Split at the gerund to keep the auxiliary with the first part\n",
    "                return i+1, original_words[i+1]\n",
    "\n",
    "        # 2. Check for gerunds\n",
    "        for i, word in enumerate(words):\n",
    "            if self.is_gerund(word):\n",
    "                return i, original_words[i]\n",
    "\n",
    "        # 3. Check for past verbs\n",
    "        for i, word in enumerate(words):\n",
    "            if self.is_past_verb(word):\n",
    "                return i, original_words[i]\n",
    "\n",
    "        # 4. Finally check for adverbs\n",
    "        for i, word in enumerate(words):\n",
    "            if self.is_adverb_by_pattern(word):\n",
    "                return i, original_words[i]\n",
    "\n",
    "        # No keyword or pattern found\n",
    "        return None\n",
    "\n",
    "    def split_sentence(self, sentence: str) -> List[str]:\n",
    "        \"\"\"\n",
    "        Split a sentence intelligently into two fragments.\n",
    "\n",
    "        Args:\n",
    "            sentence: The sentence to split\n",
    "\n",
    "        Returns:\n",
    "            A list of two sentence fragments\n",
    "        \"\"\"\n",
    "        # Find a split point based on keywords or regex patterns\n",
    "        split_info = self.find_split_point(sentence)\n",
    "\n",
    "        if split_info:\n",
    "            # Split at the keyword or pattern match\n",
    "            idx, keyword = split_info\n",
    "            words = sentence.split()\n",
    "\n",
    "            # Create two fragments: before and after the keyword (including it)\n",
    "            fragment1 = ' '.join(words[:idx]).strip()\n",
    "            fragment2 = ' '.join(words[idx:]).strip()\n",
    "\n",
    "            # Handle very short fragments (minimum 2 words where possible)\n",
    "            if len(fragment1.split()) < 2 and len(words) > 4:\n",
    "                # If fragment1 is too short, move one more word to it\n",
    "                fragment1 = ' '.join(words[:idx+1]).strip()\n",
    "                fragment2 = ' '.join(words[idx+1:]).strip()\n",
    "\n",
    "            # If fragment2 would be too short, keep it with fragment1\n",
    "            if len(fragment2.split()) < 2 and len(words) > 4:\n",
    "                fragment1 = sentence\n",
    "                fragment2 = \"\"\n",
    "        else:\n",
    "            # Fallback: split at the middle word\n",
    "            words = sentence.split()\n",
    "            middle_idx = len(words) // 2\n",
    "\n",
    "            fragment1 = ' '.join(words[:middle_idx]).strip()\n",
    "            fragment2 = ' '.join(words[middle_idx:]).strip()\n",
    "\n",
    "        # Clean up fragments: remove leading/trailing punctuation\n",
    "        fragments = []\n",
    "        for fragment in [fragment1, fragment2]:\n",
    "            if fragment:  # Only process non-empty fragments\n",
    "                # Remove leading punctuation except opening quotes\n",
    "                fragment = re.sub(r'^[^\\w\"\\']+', '', fragment)\n",
    "\n",
    "                # If fragment starts with a quote but doesn't end with one, add it\n",
    "                if (fragment.startswith('\"') and not fragment.endswith('\"')) or \\\n",
    "                   (fragment.startswith(\"'\") and not fragment.endswith(\"'\")):\n",
    "                    pass  # The closing quote will be in the other fragment, which is fine\n",
    "\n",
    "                # Ensure sentences end with proper punctuation\n",
    "                if not re.search(r'[.!?]$', fragment) and fragment:\n",
    "                    fragment = fragment.rstrip(',;:-') + '.'\n",
    "\n",
    "                fragments.append(fragment)\n",
    "\n",
    "        return [f for f in fragments if f]  # Return only non-empty fragments\n",
    "\n",
    "\n",
    "def preprocess_sentence(sentence: str) -> str:\n",
    "    \"\"\"\n",
    "    Remove the starting '<name> commented' and ending 'on <date> on <platform>.' parts,\n",
    "    and trim leading/trailing whitespaces.\n",
    "\n",
    "    Args:\n",
    "        sentence: The original sentence to process\n",
    "\n",
    "    Returns:\n",
    "        The cleaned sentence with patterns removed\n",
    "    \"\"\"\n",
    "    # Remove the starting part '<name> commented'\n",
    "    sentence = re.sub(r'^.*? commented\\s*', '', sentence)\n",
    "\n",
    "    # Remove the ending part 'on <date> on <platform>.'\n",
    "    sentence = re.sub(r'\\s*on \\d{4}-\\d{2}-\\d{2} \\d{2}:\\d{2}:\\d{2} on .*?\\.?$', '', sentence)\n",
    "\n",
    "    # If the sentence was in quotes, remove only the outer quotes if they remain\n",
    "    if sentence.startswith('\"') and sentence.endswith('\"'):\n",
    "        sentence = sentence[1:-1]\n",
    "\n",
    "    # Trim leading/trailing whitespaces\n",
    "    return sentence.strip()\n",
    "\n",
    "\n",
    "def extract_fragments(sentence: str) -> List[Dict[str, bool]]:\n",
    "    \"\"\"\n",
    "    Process the sentence and extract fragments according to the rules.\n",
    "\n",
    "    Rules:\n",
    "    - If the sentence contains a comma, split at each comma and mark each part as a fragment\n",
    "    - If no comma, keep up to the first special character (., !, ?) and mark as not a fragment\n",
    "\n",
    "    Args:\n",
    "        sentence: The preprocessed sentence\n",
    "\n",
    "    Returns:\n",
    "        List of dictionaries with keys 'Sentence Fragment' and 'is_fragment'\n",
    "    \"\"\"\n",
    "    fragments = []\n",
    "\n",
    "    # Check if the sentence contains a comma\n",
    "    if ',' in sentence:\n",
    "        # Split at each comma\n",
    "        parts = sentence.split(',')\n",
    "\n",
    "        # Create a new row for each part and set is_fragment = True\n",
    "        for part in parts:\n",
    "            part = part.strip()\n",
    "            if part:  # Only add if part is not empty\n",
    "                fragments.append({'Sentence Fragment': part, 'is_fragment': True})\n",
    "    else:\n",
    "        # Find the first occurrence of special characters\n",
    "        match = re.search(r'[.!?]', sentence)\n",
    "\n",
    "        if match:\n",
    "            # Get the position of the first special character\n",
    "            pos = match.start()\n",
    "\n",
    "            # Keep everything before and including the special character\n",
    "            fragment = sentence[:pos+1].strip()\n",
    "        else:\n",
    "            # If no special character exists, keep the whole text\n",
    "            fragment = sentence.strip()\n",
    "\n",
    "        # Add to fragments list if not empty\n",
    "        if fragment:\n",
    "            fragments.append({'Sentence Fragment': fragment, 'is_fragment': False})\n",
    "\n",
    "    return fragments\n",
    "\n",
    "\n",
    "def balance_dataset(df: pd.DataFrame, strategy: str = \"reduce\",\n",
    "                   keep_balancing: Optional[str] = None, tolerance: Optional[str] = None) -> pd.DataFrame:\n",
    "    \"\"\"\n",
    "    Balance the dataset based on the 'is_fragment' column using the specified strategy.\n",
    "    Optionally maintain a target balance percentage even after duplicate removal.\n",
    "\n",
    "    Args:\n",
    "        df: DataFrame containing the dataset to balance\n",
    "        strategy: Strategy to use for balancing ('reduce' or 'expand')\n",
    "        keep_balancing: Target balance percentage as string (e.g., \"95%\"). If provided,\n",
    "                       iteratively balance and remove duplicates until target is reached.\n",
    "        tolerance: Acceptable imbalance as string (e.g., \"1%\"). If the improvement between\n",
    "                  iterations is less than this value, stop iterating.\n",
    "\n",
    "    Returns:\n",
    "        Balanced DataFrame\n",
    "    \"\"\"\n",
    "    # Extract target percentage if keep_balancing is provided\n",
    "    target_percentage = None\n",
    "    if keep_balancing:\n",
    "        # Extract the percentage value (remove % symbol and convert to float)\n",
    "        try:\n",
    "            target_percentage = float(keep_balancing.strip('%'))\n",
    "            if target_percentage <= 0 or target_percentage > 100:\n",
    "                warning(f\"Invalid target percentage {target_percentage}. Using 95% as default.\")\n",
    "                target_percentage = 95.0\n",
    "        except ValueError:\n",
    "            warning(f\"Could not parse '{keep_balancing}' as percentage. Using 95% as default.\")\n",
    "            target_percentage = 95.0\n",
    "\n",
    "        info(f\"Targeting {target_percentage}% balance after duplicate removal.\")\n",
    "\n",
    "    # Extract tolerance percentage if provided\n",
    "    tolerance_percentage = None\n",
    "    if tolerance:\n",
    "        try:\n",
    "            tolerance_percentage = float(tolerance.strip('%'))\n",
    "            if tolerance_percentage <= 0 or tolerance_percentage > 10:  # Cap at 10% for safety\n",
    "                warning(f\"Invalid tolerance {tolerance_percentage}. Using 1% as default.\")\n",
    "                tolerance_percentage = 1.0\n",
    "        except ValueError:\n",
    "            warning(f\"Could not parse '{tolerance}' as percentage. Using 1% as default.\")\n",
    "            tolerance_percentage = 1.0\n",
    "\n",
    "        info(f\"Will stop when balance improvement is less than {tolerance_percentage}%.\")\n",
    "\n",
    "    # Function to calculate current balance percentage\n",
    "    def calculate_balance_percentage(dataframe):\n",
    "        true_count = dataframe[dataframe['is_fragment'] == True].shape[0]\n",
    "        false_count = dataframe[dataframe['is_fragment'] == False].shape[0]\n",
    "\n",
    "        if true_count == 0 or false_count == 0:\n",
    "            return 0.0\n",
    "\n",
    "        return (min(true_count, false_count) / max(true_count, false_count)) * 100\n",
    "\n",
    "    # Function to display class distribution\n",
    "    def print_distribution(dataframe, label=\"\"):\n",
    "        true_count = dataframe[dataframe['is_fragment'] == True].shape[0]\n",
    "        false_count = dataframe[dataframe['is_fragment'] == False].shape[0]\n",
    "        balance_pct = calculate_balance_percentage(dataframe)\n",
    "\n",
    "        info(f\"{label}: {true_count} fragments, {false_count} non-fragments \" +\n",
    "              f\"(balance: {balance_pct:.2f}%)\")\n",
    "\n",
    "    # Initial distribution\n",
    "    print_distribution(df, \"Before balancing\")\n",
    "\n",
    "    # If target_percentage is None, just balance once without iterative process\n",
    "    if target_percentage is None:\n",
    "        # Perform simple balancing as before\n",
    "        balanced_df = _balance_dataset_once(df, strategy)\n",
    "        print_distribution(balanced_df, \"After balancing\")\n",
    "        return balanced_df\n",
    "\n",
    "    # Iterative balancing to maintain target percentage after deduplication\n",
    "    current_df = df.copy()\n",
    "    iteration = 1\n",
    "    max_iterations = 10  # Prevent infinite loops\n",
    "    previous_balance = calculate_balance_percentage(current_df)\n",
    "\n",
    "    while iteration <= max_iterations:\n",
    "        header(f\"\\nIteration {iteration}:\")\n",
    "\n",
    "        # Step 1: Balance the dataset\n",
    "        current_df = _balance_dataset_once(current_df, strategy)\n",
    "        print_distribution(current_df, \"After balancing\")\n",
    "\n",
    "        # Step 2: Remove duplicates\n",
    "        original_count = len(current_df)\n",
    "        current_df = current_df.drop_duplicates(subset=['Sentence Fragment']).reset_index(drop=True)\n",
    "        removed_count = original_count - len(current_df)\n",
    "\n",
    "        info(f\"Removed {removed_count} duplicates\")\n",
    "        print_distribution(current_df, \"After removing duplicates\")\n",
    "\n",
    "        # Step 3: Check if we've reached the target balance\n",
    "        current_balance = calculate_balance_percentage(current_df)\n",
    "        if current_balance >= target_percentage:\n",
    "            success(f\"Target balance of {target_percentage}% achieved!\")\n",
    "            break\n",
    "\n",
    "        # Check if the improvement is less than the tolerance\n",
    "        if tolerance_percentage is not None:\n",
    "            balance_improvement = current_balance - previous_balance\n",
    "            info(f\"Balance improvement: {balance_improvement:.2f}%\")\n",
    "\n",
    "            if balance_improvement < tolerance_percentage and balance_improvement >= 0:\n",
    "                warning(f\"Balance improvement ({balance_improvement:.2f}%) is less than tolerance ({tolerance_percentage}%).\")\n",
    "                info(f\"Stopping iterations as we're close enough to optimal balance.\")\n",
    "                break\n",
    "\n",
    "            # Update the previous balance for the next iteration\n",
    "            previous_balance = current_balance\n",
    "\n",
    "        # If we didn't reach the target but we're at the last iteration\n",
    "        if iteration == max_iterations:\n",
    "            warning(f\"Could not achieve target balance of {target_percentage}% \" +\n",
    "                  f\"after {max_iterations} iterations. Current balance: {current_balance:.2f}%\")\n",
    "\n",
    "        iteration += 1\n",
    "\n",
    "    return current_df\n",
    "\n",
    "\n",
    "def _balance_dataset_once(df: pd.DataFrame, strategy: str = \"reduce\") -> pd.DataFrame:\n",
    "    \"\"\"\n",
    "    Helper function that performs one round of dataset balancing.\n",
    "\n",
    "    Args:\n",
    "        df: DataFrame containing the dataset to balance\n",
    "        strategy: Strategy to use for balancing ('reduce' or 'expand')\n",
    "\n",
    "    Returns:\n",
    "        Balanced DataFrame\n",
    "    \"\"\"\n",
    "    # Count the instances of each class\n",
    "    true_count = df[df['is_fragment'] == True].shape[0]\n",
    "    false_count = df[df['is_fragment'] == False].shape[0]\n",
    "\n",
    "    # If already balanced, return the original DataFrame\n",
    "    if true_count == false_count:\n",
    "        return df\n",
    "\n",
    "    # Determine which class is the majority\n",
    "    if strategy == \"reduce\":\n",
    "        # Reduction strategy: reduce the number of majority class instances\n",
    "        if true_count > false_count:\n",
    "            # More fragments than non-fragments\n",
    "            # Randomly drop rows where is_fragment = True\n",
    "            drop_count = true_count - false_count\n",
    "            drop_indices = df[df['is_fragment'] == True].sample(drop_count).index\n",
    "            balanced_df = df.drop(drop_indices)\n",
    "        else:\n",
    "            # More non-fragments than fragments\n",
    "            # Randomly drop rows where is_fragment = False\n",
    "            drop_count = false_count - true_count\n",
    "            drop_indices = df[df['is_fragment'] == False].sample(drop_count).index\n",
    "            balanced_df = df.drop(drop_indices)\n",
    "\n",
    "    elif strategy == \"expand\":\n",
    "        # Expansion strategy: increase the number of minority class instances\n",
    "        balanced_df = df.copy()\n",
    "\n",
    "        if true_count < false_count:\n",
    "            # More non-fragments than fragments, need to create more fragments\n",
    "            # Target number of new fragments to create\n",
    "            target_new = false_count - true_count\n",
    "            new_fragments = []\n",
    "\n",
    "            # Create a SmartExpander instance for intelligent splitting\n",
    "            expander = SmartExpander()\n",
    "\n",
    "            # Get non-fragment sentences to split\n",
    "            non_fragments = df[df['is_fragment'] == False]['Sentence Fragment'].tolist()\n",
    "            random.shuffle(non_fragments)  # Shuffle to randomize selection\n",
    "\n",
    "            # Add progress bar for fragment expansion\n",
    "            info(f\"Creating new fragments to balance dataset...\")\n",
    "            for sentence in tqdm(non_fragments, total=None, desc=\"Expanding fragments\", unit=\"sent\", leave=True):\n",
    "                if len(new_fragments) >= target_new:\n",
    "                    break\n",
    "\n",
    "                # Only process sentences with at least 4 words\n",
    "                if len(sentence.split()) >= 4:\n",
    "                    # Use the SmartExpander to split the sentence\n",
    "                    fragments = expander.split_sentence(sentence)\n",
    "\n",
    "                    # Add fragments to the new list\n",
    "                    for fragment in fragments:\n",
    "                        if fragment.strip():  # Only add if not empty\n",
    "                            new_fragments.append({\n",
    "                                'Sentence Fragment': fragment.strip(),\n",
    "                                'is_fragment': True\n",
    "                            })\n",
    "\n",
    "                            # If we've reached our target, stop\n",
    "                            if len(new_fragments) >= target_new:\n",
    "                                break\n",
    "\n",
    "            # Add new fragments to the dataset\n",
    "            if new_fragments:\n",
    "                new_df = pd.DataFrame(new_fragments)\n",
    "                balanced_df = pd.concat([balanced_df, new_df], ignore_index=True)\n",
    "        else:\n",
    "            # More fragments than non-fragments, need to create more non-fragments\n",
    "            # This case is more complex as creating valid non-fragments from fragments\n",
    "            # is challenging. For now, we'll use the reduction strategy as a fallback.\n",
    "            warning(\"Expansion from fragments to non-fragments is not supported. Falling back to reduction strategy.\")\n",
    "            drop_count = true_count - false_count\n",
    "            drop_indices = df[df['is_fragment'] == True].sample(drop_count).index\n",
    "            balanced_df = df.drop(drop_indices)\n",
    "    else:\n",
    "        raise ValueError(f\"Unknown balancing strategy: {strategy}. Use 'reduce' or 'expand'.\")\n",
    "\n",
    "    return balanced_df\n",
    "\n",
    "\n",
    "def process_dataset(input_file: str, output_file: str, balance_strategy: str = None,\n",
    "                   keep_balancing: str = None, tolerance: str = None) -> None:\n",
    "    \"\"\"\n",
    "    Process the dataset file, apply transformations, and save the results.\n",
    "\n",
    "    Args:\n",
    "        input_file: Path to the input CSV file\n",
    "        output_file: Path to save the output CSV file\n",
    "        balance_strategy: Strategy to use for balancing the dataset ('reduce', 'expand', or None for no balancing)\n",
    "        keep_balancing: Target balance percentage after duplicate removal (e.g., \"95%\")\n",
    "        tolerance: Acceptable imbalance percentage (e.g., \"1%\"). If improvement between iterations\n",
    "                  is less than this value, stop iterating.\n",
    "    \"\"\"\n",
    "    try:\n",
    "        # Read the dataset\n",
    "        info(f\"Reading input file: {input_file}\")\n",
    "        df = pd.read_csv(input_file)\n",
    "\n",
    "        if 'Sentence' not in df.columns:\n",
    "            error(f\"Input file must contain a 'Sentence' column.\")\n",
    "            return\n",
    "\n",
    "        # Process each sentence and collect results\n",
    "        all_fragments = []\n",
    "\n",
    "        info(f\"Processing {len(df)} sentences...\")\n",
    "        for _, row in tqdm(df.iterrows(), total=len(df), desc=\"Processing sentences\"):\n",
    "            # Get the current sentence\n",
    "            sentence = row['Sentence']\n",
    "\n",
    "            # Preprocess the sentence\n",
    "            processed_sentence = preprocess_sentence(sentence)\n",
    "\n",
    "            # Extract fragments\n",
    "            fragments = extract_fragments(processed_sentence)\n",
    "\n",
    "            # Add each fragment to the results\n",
    "            all_fragments.extend(fragments)\n",
    "\n",
    "        # Create a new DataFrame with the results\n",
    "        info(\"Creating output DataFrame...\")\n",
    "        result_df = pd.DataFrame(all_fragments)\n",
    "\n",
    "        # Balance the dataset if a strategy is specified\n",
    "        if balance_strategy:\n",
    "            info(f\"Balancing dataset using '{balance_strategy}' strategy...\")\n",
    "            result_df = balance_dataset(result_df, balance_strategy, keep_balancing, tolerance)\n",
    "\n",
    "        # Save to CSV\n",
    "        info(f\"Saving results to: {output_file}\")\n",
    "        result_df.to_csv(output_file, index=False)\n",
    "\n",
    "        success(f\"Processing complete. Output saved to {output_file}\")\n",
    "        info(f\"Processed {len(df)} original sentences into {len(result_df)} fragments.\")\n",
    "\n",
    "    except Exception as e:\n",
    "        error(f\"An error occurred: {str(e)}\")\n"
   ]
  },
  {
   "cell_type": "markdown",
   "metadata": {
    "id": "0Mypb335wiCc"
   },
   "source": [
    "#### Create Fragment Detection dataset"
   ]
  },
  {
   "cell_type": "code",
   "execution_count": null,
   "metadata": {
    "colab": {
     "base_uri": "https://localhost:8080/",
     "height": 1000,
     "referenced_widgets": [
      "b053575bee544e94a6d32638de528008",
      "184a7ecb168046d483ae8f9308a8a28a",
      "4367884572a04499b7c8b3784ff535f4",
      "3e8492f673a647efb2e6f16752436cb4",
      "60142a70ee1145edbc14208ff14c65e9",
      "1169e4e96ed8453bb7ada39a257c046d",
      "70163c647e004526b1dc8e18d70d31ce",
      "aa4c9da80275481bb257145394491eb0",
      "75b430332b734ee083f5010689082cbb",
      "26a1eb3550094d94a50788b863530f03",
      "e581ecc00c8c47908eaef4a183d1c3e9",
      "6319977407c44a4dacb80619dbf78400",
      "6db26fea56244f3180a20d5ac20879e2",
      "a11878ba4884400e912cdc7d6502964a",
      "e23f6403d9b14e9491b24309607eeab4",
      "37c42f1ddbf144128e64825b42c1664b",
      "1831fcb7c5284ace957d8bd07bce1ab7",
      "162d2e1414734eda91bd22e6300c15fb",
      "8e61278779b9411687c4a8727de4b7db",
      "a09305b4c0684b09bc46e1e211be3f3b",
      "78e60995b44549b8b232da517875cc7c",
      "2ddbf53d3798440ea6d8d775b8e3be6d",
      "3937fbe49e8d43098193ddabfa225f3e",
      "8162baa25c5a494eae1fc228703cd608",
      "c08f02ef79954cedb5dbc897a88d6018",
      "6ee50d3da2e74590bfb1d2748ca28238",
      "0fc34d6ca6f0453a8be88d86f46cc8bb",
      "569a174f978a47feb1dfdbee20700ee3",
      "6a854cd9c28c42daa71ffaa2794a8b7a",
      "8b7f5626e3ee4980874da433e2239a0c",
      "c116c194bf3d41a9b5397de5ae625fb4",
      "56f9ddb99db048e792c65bd34f206cf2",
      "53da13af17434131b71ee753e20a8a79",
      "296335ea7bf848a18a954cadd6cc1bbe",
      "004c8ede92e94e4d8580133c25b84b86",
      "eaa35c2427bc42969e9253510a367952",
      "664ba25148c847a9a988981336b2e4b1",
      "b35b75935810496da3f9633b20927b86",
      "e7bec6331cd64db9b22a93a5a539c66c",
      "eeebe683400144c4a306009e842d325a",
      "a147d22c3cbb41baa03a05ea1e5ab1cf",
      "db4a2a8034ec44e5a080800106dcd591",
      "b2a5512528d942d0a7e79deb75e03cc3",
      "2439b71dc2e5434d99ce6233f95b192d",
      "1124084678db4833b23e7e0471ab6356",
      "2ca5a294156247c0a2b6102453729b7e",
      "77751aa5c2f945e0a9550d074e19343c",
      "ebebd3be6475493d90cfe9791fc4f897",
      "ba51558452b44225b2afa0b7b1bb3a99",
      "31304927a3114d448d1a035810d99c84",
      "1f6b16e9785548aab20dc29fb2e4aa6a",
      "458e938604b445c9aa3b5abd87aba55f",
      "d26c94c0354d4ce88be732d282b7685a",
      "59e555f9cb0648d88e5fdce6c92edd16",
      "f729aa10b96b4e00817842209ed4163f",
      "f805929956854662b94fb6e3ceedcff7",
      "28141334c73e4bb48123dd0ee67aead5",
      "8572e7fb43f7484cb495375777ab6cfc",
      "bf982edc2eda442bab686f015e168f91",
      "4730bc63592f4e2f920504665ad0ca3f",
      "b73818944c3149e8a1802e8fd540a527",
      "63b742ccdae743bbac2bcb0aa1a6b4be",
      "833d28a86b9b4f53ac1d313d9f881218",
      "3e62aa5d5f294004a79796d3b096ddc5",
      "42cc2749470645df9a5826f7d8480d39",
      "68a1f30f08644a9fb1a71f81eeff44db",
      "a458afd5d69f43328cbbe8e1d005a71f",
      "0bf88ae43985462fbeb5f9fe3c0d4340",
      "f92ff35dde9d47a99136aa6d8178cf77",
      "3fabc31065674e3cb2a1eef8cd74640f",
      "a878c8b0e72442a383730deae8daa76d",
      "da4d41a8a62c4e69a0542bbe2af87e15",
      "d8f56774aa574ed9939b7b8bfd6b39c6",
      "0975925f7e9f4d21a5c9b7c7a0902ebf",
      "4bb45e218eb3455280b8cf88aa86fcff",
      "2022dfd2b6dc46b684bc41e0b3beec94",
      "5d278225e1194ae2a4c7561f3af653ee",
      "5c0067063d914526a06750cd99dd1a4a",
      "b8ef3b895aa04023a83d870c9fe77b18",
      "362e742b5e9249f6afdd57850fc84072",
      "97be1b01997c410fa2e2a313e2f78d94",
      "b2f6f3ebad4c478ba8ed6b14ab0a6e46",
      "50fc9832ba8a4c4e8a84f79310f11d24",
      "d35a6645195a4a3681a179b89056442c",
      "d3314ab240bd49e3ba96def56a8e0e96",
      "7b7ddb1d7e02419493a3a8525e556037",
      "d49a5561390e4a21abe673a385861f61",
      "9eb100144ada406d8dd5950b224c6c5f",
      "f22c91b4251445ae805d7a8be7736f0c",
      "2e04a4353d6f4f0d8cf311328dc78325",
      "2add80cfdcea42ac8a9921ee2e96d0dc",
      "8f2afcc53282470bb051375f620429cc",
      "8b6c5befc37f44af954efbc022b83309",
      "a5a62fe5ecf84c6d9456dc0eeb0ce152",
      "63cfb092a2b343758311f7c7af89be05",
      "a2bfaf565da645fe8491a91fe5566d3a",
      "b07db48d5abd452689717ef5db90928a",
      "d1a281b683e5461c93b71a384a2e57fc",
      "72f6463fe67a43dfb8869a8b9a7bdb22",
      "8457710c7a10493db6afd71ccc5d8b14",
      "50a1c650e8c947d5a06388e706cbd4f0",
      "454dd2970f58472791ff44d1553b8f94",
      "44b6d37e7e37495885fda153c7b8c121",
      "52997d2927154050973073fdf43de241",
      "d245c71e3614402988a09cdf120d6e9f",
      "da7128214a6345b39fa553b4573cf717",
      "36c0e5b006464d4282744112847b7262",
      "701cdc6fd044441199c0a0759e3638db",
      "a444d8f4750f457c8fc501ca35b9d88d",
      "71a43759197c4b6abc6f87e75586e534",
      "d82420f540ec42bfb2d597087daf8234",
      "fa816387b9ed4e89b4f29ed103ea656d",
      "d298751670d648b7acf78764b8e35a0b",
      "b7b4d41ad06c4a7ca474ef58193411f2",
      "1388dc91638142a78f381817ffc094fa",
      "5b41a832078c4a12a3421130961e4dfd",
      "c4e3e9919a274adeb47b52a4257c43f3",
      "e3ab743244d849e6b486f01aa6d78ee3",
      "6a488a6df00041c3aa534c2dc91bbd2a",
      "30b8690d69cb46fd84344796d361945f",
      "39a563f6a34d40a6ab4bb1a9aaf5052b"
     ]
    },
    "executionInfo": {
     "elapsed": 22922,
     "status": "ok",
     "timestamp": 1747096658897,
     "user": {
      "displayName": "amr muhamed",
      "userId": "08354309562380829108"
     },
     "user_tz": -180
    },
    "id": "FDbCM_kRwZis",
    "outputId": "8ac47e21-305e-4fb1-cbe3-99ffedf2f2bf"
   },
   "outputs": [
    {
     "data": {
      "text/html": [
       "<span style=\"color: #3498DB; font-size: 16px; font-style: italic; font-family: Arial, sans-serif; border-bottom: 1px dotted #3498DB; letter-spacing: 0.3px; background-color: rgba(52, 152, 219, 0.05); padding: 8px; border-radius: 3px; display: block; margin: 25px 0; clear: both;\" >Reading input file: /root/.cache/kagglehub/datasets/tomthescientist/netflix-facebook-posts-as-sentences-for-llm-input/versions/3/netflix_fb_sentences.csv</span>"
      ],
      "text/plain": [
       "<IPython.core.display.HTML object>"
      ]
     },
     "metadata": {},
     "output_type": "display_data"
    },
    {
     "data": {
      "text/html": [
       "<span style=\"color: #3498DB; font-size: 16px; font-style: italic; font-family: Arial, sans-serif; border-bottom: 1px dotted #3498DB; letter-spacing: 0.3px; background-color: rgba(52, 152, 219, 0.05); padding: 8px; border-radius: 3px; display: block; margin: 25px 0; clear: both;\" >Processing 120000 sentences...</span>"
      ],
      "text/plain": [
       "<IPython.core.display.HTML object>"
      ]
     },
     "metadata": {},
     "output_type": "display_data"
    },
    {
     "data": {
      "application/vnd.jupyter.widget-view+json": {
       "model_id": "b053575bee544e94a6d32638de528008",
       "version_major": 2,
       "version_minor": 0
      },
      "text/plain": [
       "Processing sentences:   0%|          | 0/120000 [00:00<?, ?it/s]"
      ]
     },
     "metadata": {},
     "output_type": "display_data"
    },
    {
     "data": {
      "text/html": [
       "<span style=\"color: #3498DB; font-size: 16px; font-style: italic; font-family: Arial, sans-serif; border-bottom: 1px dotted #3498DB; letter-spacing: 0.3px; background-color: rgba(52, 152, 219, 0.05); padding: 8px; border-radius: 3px; display: block; margin: 25px 0; clear: both;\" >Creating output DataFrame...</span>"
      ],
      "text/plain": [
       "<IPython.core.display.HTML object>"
      ]
     },
     "metadata": {},
     "output_type": "display_data"
    },
    {
     "data": {
      "text/html": [
       "<span style=\"color: #3498DB; font-size: 16px; font-style: italic; font-family: Arial, sans-serif; border-bottom: 1px dotted #3498DB; letter-spacing: 0.3px; background-color: rgba(52, 152, 219, 0.05); padding: 8px; border-radius: 3px; display: block; margin: 25px 0; clear: both;\" >Balancing dataset using 'expand' strategy...</span>"
      ],
      "text/plain": [
       "<IPython.core.display.HTML object>"
      ]
     },
     "metadata": {},
     "output_type": "display_data"
    },
    {
     "data": {
      "text/html": [
       "<span style=\"color: #3498DB; font-size: 16px; font-style: italic; font-family: Arial, sans-serif; border-bottom: 1px dotted #3498DB; letter-spacing: 0.3px; background-color: rgba(52, 152, 219, 0.05); padding: 8px; border-radius: 3px; display: block; margin: 25px 0; clear: both;\" >Targeting 95.0% balance after duplicate removal.</span>"
      ],
      "text/plain": [
       "<IPython.core.display.HTML object>"
      ]
     },
     "metadata": {},
     "output_type": "display_data"
    },
    {
     "data": {
      "text/html": [
       "<span style=\"color: #3498DB; font-size: 16px; font-style: italic; font-family: Arial, sans-serif; border-bottom: 1px dotted #3498DB; letter-spacing: 0.3px; background-color: rgba(52, 152, 219, 0.05); padding: 8px; border-radius: 3px; display: block; margin: 25px 0; clear: both;\" >Will stop when balance improvement is less than 0.1%.</span>"
      ],
      "text/plain": [
       "<IPython.core.display.HTML object>"
      ]
     },
     "metadata": {},
     "output_type": "display_data"
    },
    {
     "data": {
      "text/html": [
       "<span style=\"color: #3498DB; font-size: 16px; font-style: italic; font-family: Arial, sans-serif; border-bottom: 1px dotted #3498DB; letter-spacing: 0.3px; background-color: rgba(52, 152, 219, 0.05); padding: 8px; border-radius: 3px; display: block; margin: 25px 0; clear: both;\" >Before balancing: 29639 fragments, 105876 non-fragments (balance: 27.99%)</span>"
      ],
      "text/plain": [
       "<IPython.core.display.HTML object>"
      ]
     },
     "metadata": {},
     "output_type": "display_data"
    },
    {
     "data": {
      "text/html": [
       "<span style=\"color: #1A237E; font-size: 24px; font-weight: bold; font-family: Arial, sans-serif; text-align: center; letter-spacing: 1px; padding: 16px 10px; border-top: 2px dashed #1A237E; border-bottom: 2px dashed #1A237E; margin: 30px 0; background-color: rgba(26, 35, 126, 0.05); display: block; clear: both;\" >\n",
       "Iteration 1:</span>"
      ],
      "text/plain": [
       "<IPython.core.display.HTML object>"
      ]
     },
     "metadata": {},
     "output_type": "display_data"
    },
    {
     "data": {
      "text/html": [
       "<span style=\"color: #3498DB; font-size: 16px; font-style: italic; font-family: Arial, sans-serif; border-bottom: 1px dotted #3498DB; letter-spacing: 0.3px; background-color: rgba(52, 152, 219, 0.05); padding: 8px; border-radius: 3px; display: block; margin: 25px 0; clear: both;\" >Creating new fragments to balance dataset...</span>"
      ],
      "text/plain": [
       "<IPython.core.display.HTML object>"
      ]
     },
     "metadata": {},
     "output_type": "display_data"
    },
    {
     "data": {
      "application/vnd.jupyter.widget-view+json": {
       "model_id": "6319977407c44a4dacb80619dbf78400",
       "version_major": 2,
       "version_minor": 0
      },
      "text/plain": [
       "Expanding fragments:   0%|          | 0/105876 [00:00<?, ?sent/s]"
      ]
     },
     "metadata": {},
     "output_type": "display_data"
    },
    {
     "data": {
      "text/html": [
       "<span style=\"color: #3498DB; font-size: 16px; font-style: italic; font-family: Arial, sans-serif; border-bottom: 1px dotted #3498DB; letter-spacing: 0.3px; background-color: rgba(52, 152, 219, 0.05); padding: 8px; border-radius: 3px; display: block; margin: 25px 0; clear: both;\" >After balancing: 105876 fragments, 105876 non-fragments (balance: 100.00%)</span>"
      ],
      "text/plain": [
       "<IPython.core.display.HTML object>"
      ]
     },
     "metadata": {},
     "output_type": "display_data"
    },
    {
     "data": {
      "text/html": [
       "<span style=\"color: #3498DB; font-size: 16px; font-style: italic; font-family: Arial, sans-serif; border-bottom: 1px dotted #3498DB; letter-spacing: 0.3px; background-color: rgba(52, 152, 219, 0.05); padding: 8px; border-radius: 3px; display: block; margin: 25px 0; clear: both;\" >Removed 168753 duplicates</span>"
      ],
      "text/plain": [
       "<IPython.core.display.HTML object>"
      ]
     },
     "metadata": {},
     "output_type": "display_data"
    },
    {
     "data": {
      "text/html": [
       "<span style=\"color: #3498DB; font-size: 16px; font-style: italic; font-family: Arial, sans-serif; border-bottom: 1px dotted #3498DB; letter-spacing: 0.3px; background-color: rgba(52, 152, 219, 0.05); padding: 8px; border-radius: 3px; display: block; margin: 25px 0; clear: both;\" >After removing duplicates: 17048 fragments, 25951 non-fragments (balance: 65.69%)</span>"
      ],
      "text/plain": [
       "<IPython.core.display.HTML object>"
      ]
     },
     "metadata": {},
     "output_type": "display_data"
    },
    {
     "data": {
      "text/html": [
       "<span style=\"color: #3498DB; font-size: 16px; font-style: italic; font-family: Arial, sans-serif; border-bottom: 1px dotted #3498DB; letter-spacing: 0.3px; background-color: rgba(52, 152, 219, 0.05); padding: 8px; border-radius: 3px; display: block; margin: 25px 0; clear: both;\" >Balance improvement: 37.70%</span>"
      ],
      "text/plain": [
       "<IPython.core.display.HTML object>"
      ]
     },
     "metadata": {},
     "output_type": "display_data"
    },
    {
     "data": {
      "text/html": [
       "<span style=\"color: #1A237E; font-size: 24px; font-weight: bold; font-family: Arial, sans-serif; text-align: center; letter-spacing: 1px; padding: 16px 10px; border-top: 2px dashed #1A237E; border-bottom: 2px dashed #1A237E; margin: 30px 0; background-color: rgba(26, 35, 126, 0.05); display: block; clear: both;\" >\n",
       "Iteration 2:</span>"
      ],
      "text/plain": [
       "<IPython.core.display.HTML object>"
      ]
     },
     "metadata": {},
     "output_type": "display_data"
    },
    {
     "data": {
      "text/html": [
       "<span style=\"color: #3498DB; font-size: 16px; font-style: italic; font-family: Arial, sans-serif; border-bottom: 1px dotted #3498DB; letter-spacing: 0.3px; background-color: rgba(52, 152, 219, 0.05); padding: 8px; border-radius: 3px; display: block; margin: 25px 0; clear: both;\" >Creating new fragments to balance dataset...</span>"
      ],
      "text/plain": [
       "<IPython.core.display.HTML object>"
      ]
     },
     "metadata": {},
     "output_type": "display_data"
    },
    {
     "data": {
      "application/vnd.jupyter.widget-view+json": {
       "model_id": "3937fbe49e8d43098193ddabfa225f3e",
       "version_major": 2,
       "version_minor": 0
      },
      "text/plain": [
       "Expanding fragments:   0%|          | 0/25951 [00:00<?, ?sent/s]"
      ]
     },
     "metadata": {},
     "output_type": "display_data"
    },
    {
     "data": {
      "text/html": [
       "<span style=\"color: #3498DB; font-size: 16px; font-style: italic; font-family: Arial, sans-serif; border-bottom: 1px dotted #3498DB; letter-spacing: 0.3px; background-color: rgba(52, 152, 219, 0.05); padding: 8px; border-radius: 3px; display: block; margin: 25px 0; clear: both;\" >After balancing: 25951 fragments, 25951 non-fragments (balance: 100.00%)</span>"
      ],
      "text/plain": [
       "<IPython.core.display.HTML object>"
      ]
     },
     "metadata": {},
     "output_type": "display_data"
    },
    {
     "data": {
      "text/html": [
       "<span style=\"color: #3498DB; font-size: 16px; font-style: italic; font-family: Arial, sans-serif; border-bottom: 1px dotted #3498DB; letter-spacing: 0.3px; background-color: rgba(52, 152, 219, 0.05); padding: 8px; border-radius: 3px; display: block; margin: 25px 0; clear: both;\" >Removed 8354 duplicates</span>"
      ],
      "text/plain": [
       "<IPython.core.display.HTML object>"
      ]
     },
     "metadata": {},
     "output_type": "display_data"
    },
    {
     "data": {
      "text/html": [
       "<span style=\"color: #3498DB; font-size: 16px; font-style: italic; font-family: Arial, sans-serif; border-bottom: 1px dotted #3498DB; letter-spacing: 0.3px; background-color: rgba(52, 152, 219, 0.05); padding: 8px; border-radius: 3px; display: block; margin: 25px 0; clear: both;\" >After removing duplicates: 17597 fragments, 25951 non-fragments (balance: 67.81%)</span>"
      ],
      "text/plain": [
       "<IPython.core.display.HTML object>"
      ]
     },
     "metadata": {},
     "output_type": "display_data"
    },
    {
     "data": {
      "text/html": [
       "<span style=\"color: #3498DB; font-size: 16px; font-style: italic; font-family: Arial, sans-serif; border-bottom: 1px dotted #3498DB; letter-spacing: 0.3px; background-color: rgba(52, 152, 219, 0.05); padding: 8px; border-radius: 3px; display: block; margin: 25px 0; clear: both;\" >Balance improvement: 2.12%</span>"
      ],
      "text/plain": [
       "<IPython.core.display.HTML object>"
      ]
     },
     "metadata": {},
     "output_type": "display_data"
    },
    {
     "data": {
      "text/html": [
       "<span style=\"color: #1A237E; font-size: 24px; font-weight: bold; font-family: Arial, sans-serif; text-align: center; letter-spacing: 1px; padding: 16px 10px; border-top: 2px dashed #1A237E; border-bottom: 2px dashed #1A237E; margin: 30px 0; background-color: rgba(26, 35, 126, 0.05); display: block; clear: both;\" >\n",
       "Iteration 3:</span>"
      ],
      "text/plain": [
       "<IPython.core.display.HTML object>"
      ]
     },
     "metadata": {},
     "output_type": "display_data"
    },
    {
     "data": {
      "text/html": [
       "<span style=\"color: #3498DB; font-size: 16px; font-style: italic; font-family: Arial, sans-serif; border-bottom: 1px dotted #3498DB; letter-spacing: 0.3px; background-color: rgba(52, 152, 219, 0.05); padding: 8px; border-radius: 3px; display: block; margin: 25px 0; clear: both;\" >Creating new fragments to balance dataset...</span>"
      ],
      "text/plain": [
       "<IPython.core.display.HTML object>"
      ]
     },
     "metadata": {},
     "output_type": "display_data"
    },
    {
     "data": {
      "application/vnd.jupyter.widget-view+json": {
       "model_id": "296335ea7bf848a18a954cadd6cc1bbe",
       "version_major": 2,
       "version_minor": 0
      },
      "text/plain": [
       "Expanding fragments:   0%|          | 0/25951 [00:00<?, ?sent/s]"
      ]
     },
     "metadata": {},
     "output_type": "display_data"
    },
    {
     "data": {
      "text/html": [
       "<span style=\"color: #3498DB; font-size: 16px; font-style: italic; font-family: Arial, sans-serif; border-bottom: 1px dotted #3498DB; letter-spacing: 0.3px; background-color: rgba(52, 152, 219, 0.05); padding: 8px; border-radius: 3px; display: block; margin: 25px 0; clear: both;\" >After balancing: 25951 fragments, 25951 non-fragments (balance: 100.00%)</span>"
      ],
      "text/plain": [
       "<IPython.core.display.HTML object>"
      ]
     },
     "metadata": {},
     "output_type": "display_data"
    },
    {
     "data": {
      "text/html": [
       "<span style=\"color: #3498DB; font-size: 16px; font-style: italic; font-family: Arial, sans-serif; border-bottom: 1px dotted #3498DB; letter-spacing: 0.3px; background-color: rgba(52, 152, 219, 0.05); padding: 8px; border-radius: 3px; display: block; margin: 25px 0; clear: both;\" >Removed 7917 duplicates</span>"
      ],
      "text/plain": [
       "<IPython.core.display.HTML object>"
      ]
     },
     "metadata": {},
     "output_type": "display_data"
    },
    {
     "data": {
      "text/html": [
       "<span style=\"color: #3498DB; font-size: 16px; font-style: italic; font-family: Arial, sans-serif; border-bottom: 1px dotted #3498DB; letter-spacing: 0.3px; background-color: rgba(52, 152, 219, 0.05); padding: 8px; border-radius: 3px; display: block; margin: 25px 0; clear: both;\" >After removing duplicates: 18034 fragments, 25951 non-fragments (balance: 69.49%)</span>"
      ],
      "text/plain": [
       "<IPython.core.display.HTML object>"
      ]
     },
     "metadata": {},
     "output_type": "display_data"
    },
    {
     "data": {
      "text/html": [
       "<span style=\"color: #3498DB; font-size: 16px; font-style: italic; font-family: Arial, sans-serif; border-bottom: 1px dotted #3498DB; letter-spacing: 0.3px; background-color: rgba(52, 152, 219, 0.05); padding: 8px; border-radius: 3px; display: block; margin: 25px 0; clear: both;\" >Balance improvement: 1.68%</span>"
      ],
      "text/plain": [
       "<IPython.core.display.HTML object>"
      ]
     },
     "metadata": {},
     "output_type": "display_data"
    },
    {
     "data": {
      "text/html": [
       "<span style=\"color: #1A237E; font-size: 24px; font-weight: bold; font-family: Arial, sans-serif; text-align: center; letter-spacing: 1px; padding: 16px 10px; border-top: 2px dashed #1A237E; border-bottom: 2px dashed #1A237E; margin: 30px 0; background-color: rgba(26, 35, 126, 0.05); display: block; clear: both;\" >\n",
       "Iteration 4:</span>"
      ],
      "text/plain": [
       "<IPython.core.display.HTML object>"
      ]
     },
     "metadata": {},
     "output_type": "display_data"
    },
    {
     "data": {
      "text/html": [
       "<span style=\"color: #3498DB; font-size: 16px; font-style: italic; font-family: Arial, sans-serif; border-bottom: 1px dotted #3498DB; letter-spacing: 0.3px; background-color: rgba(52, 152, 219, 0.05); padding: 8px; border-radius: 3px; display: block; margin: 25px 0; clear: both;\" >Creating new fragments to balance dataset...</span>"
      ],
      "text/plain": [
       "<IPython.core.display.HTML object>"
      ]
     },
     "metadata": {},
     "output_type": "display_data"
    },
    {
     "data": {
      "application/vnd.jupyter.widget-view+json": {
       "model_id": "1124084678db4833b23e7e0471ab6356",
       "version_major": 2,
       "version_minor": 0
      },
      "text/plain": [
       "Expanding fragments:   0%|          | 0/25951 [00:00<?, ?sent/s]"
      ]
     },
     "metadata": {},
     "output_type": "display_data"
    },
    {
     "data": {
      "text/html": [
       "<span style=\"color: #3498DB; font-size: 16px; font-style: italic; font-family: Arial, sans-serif; border-bottom: 1px dotted #3498DB; letter-spacing: 0.3px; background-color: rgba(52, 152, 219, 0.05); padding: 8px; border-radius: 3px; display: block; margin: 25px 0; clear: both;\" >After balancing: 25951 fragments, 25951 non-fragments (balance: 100.00%)</span>"
      ],
      "text/plain": [
       "<IPython.core.display.HTML object>"
      ]
     },
     "metadata": {},
     "output_type": "display_data"
    },
    {
     "data": {
      "text/html": [
       "<span style=\"color: #3498DB; font-size: 16px; font-style: italic; font-family: Arial, sans-serif; border-bottom: 1px dotted #3498DB; letter-spacing: 0.3px; background-color: rgba(52, 152, 219, 0.05); padding: 8px; border-radius: 3px; display: block; margin: 25px 0; clear: both;\" >Removed 7582 duplicates</span>"
      ],
      "text/plain": [
       "<IPython.core.display.HTML object>"
      ]
     },
     "metadata": {},
     "output_type": "display_data"
    },
    {
     "data": {
      "text/html": [
       "<span style=\"color: #3498DB; font-size: 16px; font-style: italic; font-family: Arial, sans-serif; border-bottom: 1px dotted #3498DB; letter-spacing: 0.3px; background-color: rgba(52, 152, 219, 0.05); padding: 8px; border-radius: 3px; display: block; margin: 25px 0; clear: both;\" >After removing duplicates: 18369 fragments, 25951 non-fragments (balance: 70.78%)</span>"
      ],
      "text/plain": [
       "<IPython.core.display.HTML object>"
      ]
     },
     "metadata": {},
     "output_type": "display_data"
    },
    {
     "data": {
      "text/html": [
       "<span style=\"color: #3498DB; font-size: 16px; font-style: italic; font-family: Arial, sans-serif; border-bottom: 1px dotted #3498DB; letter-spacing: 0.3px; background-color: rgba(52, 152, 219, 0.05); padding: 8px; border-radius: 3px; display: block; margin: 25px 0; clear: both;\" >Balance improvement: 1.29%</span>"
      ],
      "text/plain": [
       "<IPython.core.display.HTML object>"
      ]
     },
     "metadata": {},
     "output_type": "display_data"
    },
    {
     "data": {
      "text/html": [
       "<span style=\"color: #1A237E; font-size: 24px; font-weight: bold; font-family: Arial, sans-serif; text-align: center; letter-spacing: 1px; padding: 16px 10px; border-top: 2px dashed #1A237E; border-bottom: 2px dashed #1A237E; margin: 30px 0; background-color: rgba(26, 35, 126, 0.05); display: block; clear: both;\" >\n",
       "Iteration 5:</span>"
      ],
      "text/plain": [
       "<IPython.core.display.HTML object>"
      ]
     },
     "metadata": {},
     "output_type": "display_data"
    },
    {
     "data": {
      "text/html": [
       "<span style=\"color: #3498DB; font-size: 16px; font-style: italic; font-family: Arial, sans-serif; border-bottom: 1px dotted #3498DB; letter-spacing: 0.3px; background-color: rgba(52, 152, 219, 0.05); padding: 8px; border-radius: 3px; display: block; margin: 25px 0; clear: both;\" >Creating new fragments to balance dataset...</span>"
      ],
      "text/plain": [
       "<IPython.core.display.HTML object>"
      ]
     },
     "metadata": {},
     "output_type": "display_data"
    },
    {
     "data": {
      "application/vnd.jupyter.widget-view+json": {
       "model_id": "f805929956854662b94fb6e3ceedcff7",
       "version_major": 2,
       "version_minor": 0
      },
      "text/plain": [
       "Expanding fragments:   0%|          | 0/25951 [00:00<?, ?sent/s]"
      ]
     },
     "metadata": {},
     "output_type": "display_data"
    },
    {
     "data": {
      "text/html": [
       "<span style=\"color: #3498DB; font-size: 16px; font-style: italic; font-family: Arial, sans-serif; border-bottom: 1px dotted #3498DB; letter-spacing: 0.3px; background-color: rgba(52, 152, 219, 0.05); padding: 8px; border-radius: 3px; display: block; margin: 25px 0; clear: both;\" >After balancing: 25951 fragments, 25951 non-fragments (balance: 100.00%)</span>"
      ],
      "text/plain": [
       "<IPython.core.display.HTML object>"
      ]
     },
     "metadata": {},
     "output_type": "display_data"
    },
    {
     "data": {
      "text/html": [
       "<span style=\"color: #3498DB; font-size: 16px; font-style: italic; font-family: Arial, sans-serif; border-bottom: 1px dotted #3498DB; letter-spacing: 0.3px; background-color: rgba(52, 152, 219, 0.05); padding: 8px; border-radius: 3px; display: block; margin: 25px 0; clear: both;\" >Removed 7320 duplicates</span>"
      ],
      "text/plain": [
       "<IPython.core.display.HTML object>"
      ]
     },
     "metadata": {},
     "output_type": "display_data"
    },
    {
     "data": {
      "text/html": [
       "<span style=\"color: #3498DB; font-size: 16px; font-style: italic; font-family: Arial, sans-serif; border-bottom: 1px dotted #3498DB; letter-spacing: 0.3px; background-color: rgba(52, 152, 219, 0.05); padding: 8px; border-radius: 3px; display: block; margin: 25px 0; clear: both;\" >After removing duplicates: 18631 fragments, 25951 non-fragments (balance: 71.79%)</span>"
      ],
      "text/plain": [
       "<IPython.core.display.HTML object>"
      ]
     },
     "metadata": {},
     "output_type": "display_data"
    },
    {
     "data": {
      "text/html": [
       "<span style=\"color: #3498DB; font-size: 16px; font-style: italic; font-family: Arial, sans-serif; border-bottom: 1px dotted #3498DB; letter-spacing: 0.3px; background-color: rgba(52, 152, 219, 0.05); padding: 8px; border-radius: 3px; display: block; margin: 25px 0; clear: both;\" >Balance improvement: 1.01%</span>"
      ],
      "text/plain": [
       "<IPython.core.display.HTML object>"
      ]
     },
     "metadata": {},
     "output_type": "display_data"
    },
    {
     "data": {
      "text/html": [
       "<span style=\"color: #1A237E; font-size: 24px; font-weight: bold; font-family: Arial, sans-serif; text-align: center; letter-spacing: 1px; padding: 16px 10px; border-top: 2px dashed #1A237E; border-bottom: 2px dashed #1A237E; margin: 30px 0; background-color: rgba(26, 35, 126, 0.05); display: block; clear: both;\" >\n",
       "Iteration 6:</span>"
      ],
      "text/plain": [
       "<IPython.core.display.HTML object>"
      ]
     },
     "metadata": {},
     "output_type": "display_data"
    },
    {
     "data": {
      "text/html": [
       "<span style=\"color: #3498DB; font-size: 16px; font-style: italic; font-family: Arial, sans-serif; border-bottom: 1px dotted #3498DB; letter-spacing: 0.3px; background-color: rgba(52, 152, 219, 0.05); padding: 8px; border-radius: 3px; display: block; margin: 25px 0; clear: both;\" >Creating new fragments to balance dataset...</span>"
      ],
      "text/plain": [
       "<IPython.core.display.HTML object>"
      ]
     },
     "metadata": {},
     "output_type": "display_data"
    },
    {
     "data": {
      "application/vnd.jupyter.widget-view+json": {
       "model_id": "a458afd5d69f43328cbbe8e1d005a71f",
       "version_major": 2,
       "version_minor": 0
      },
      "text/plain": [
       "Expanding fragments:   0%|          | 0/25951 [00:00<?, ?sent/s]"
      ]
     },
     "metadata": {},
     "output_type": "display_data"
    },
    {
     "data": {
      "text/html": [
       "<span style=\"color: #3498DB; font-size: 16px; font-style: italic; font-family: Arial, sans-serif; border-bottom: 1px dotted #3498DB; letter-spacing: 0.3px; background-color: rgba(52, 152, 219, 0.05); padding: 8px; border-radius: 3px; display: block; margin: 25px 0; clear: both;\" >After balancing: 25951 fragments, 25951 non-fragments (balance: 100.00%)</span>"
      ],
      "text/plain": [
       "<IPython.core.display.HTML object>"
      ]
     },
     "metadata": {},
     "output_type": "display_data"
    },
    {
     "data": {
      "text/html": [
       "<span style=\"color: #3498DB; font-size: 16px; font-style: italic; font-family: Arial, sans-serif; border-bottom: 1px dotted #3498DB; letter-spacing: 0.3px; background-color: rgba(52, 152, 219, 0.05); padding: 8px; border-radius: 3px; display: block; margin: 25px 0; clear: both;\" >Removed 7108 duplicates</span>"
      ],
      "text/plain": [
       "<IPython.core.display.HTML object>"
      ]
     },
     "metadata": {},
     "output_type": "display_data"
    },
    {
     "data": {
      "text/html": [
       "<span style=\"color: #3498DB; font-size: 16px; font-style: italic; font-family: Arial, sans-serif; border-bottom: 1px dotted #3498DB; letter-spacing: 0.3px; background-color: rgba(52, 152, 219, 0.05); padding: 8px; border-radius: 3px; display: block; margin: 25px 0; clear: both;\" >After removing duplicates: 18843 fragments, 25951 non-fragments (balance: 72.61%)</span>"
      ],
      "text/plain": [
       "<IPython.core.display.HTML object>"
      ]
     },
     "metadata": {},
     "output_type": "display_data"
    },
    {
     "data": {
      "text/html": [
       "<span style=\"color: #3498DB; font-size: 16px; font-style: italic; font-family: Arial, sans-serif; border-bottom: 1px dotted #3498DB; letter-spacing: 0.3px; background-color: rgba(52, 152, 219, 0.05); padding: 8px; border-radius: 3px; display: block; margin: 25px 0; clear: both;\" >Balance improvement: 0.82%</span>"
      ],
      "text/plain": [
       "<IPython.core.display.HTML object>"
      ]
     },
     "metadata": {},
     "output_type": "display_data"
    },
    {
     "data": {
      "text/html": [
       "<span style=\"color: #1A237E; font-size: 24px; font-weight: bold; font-family: Arial, sans-serif; text-align: center; letter-spacing: 1px; padding: 16px 10px; border-top: 2px dashed #1A237E; border-bottom: 2px dashed #1A237E; margin: 30px 0; background-color: rgba(26, 35, 126, 0.05); display: block; clear: both;\" >\n",
       "Iteration 7:</span>"
      ],
      "text/plain": [
       "<IPython.core.display.HTML object>"
      ]
     },
     "metadata": {},
     "output_type": "display_data"
    },
    {
     "data": {
      "text/html": [
       "<span style=\"color: #3498DB; font-size: 16px; font-style: italic; font-family: Arial, sans-serif; border-bottom: 1px dotted #3498DB; letter-spacing: 0.3px; background-color: rgba(52, 152, 219, 0.05); padding: 8px; border-radius: 3px; display: block; margin: 25px 0; clear: both;\" >Creating new fragments to balance dataset...</span>"
      ],
      "text/plain": [
       "<IPython.core.display.HTML object>"
      ]
     },
     "metadata": {},
     "output_type": "display_data"
    },
    {
     "data": {
      "application/vnd.jupyter.widget-view+json": {
       "model_id": "5c0067063d914526a06750cd99dd1a4a",
       "version_major": 2,
       "version_minor": 0
      },
      "text/plain": [
       "Expanding fragments:   0%|          | 0/25951 [00:00<?, ?sent/s]"
      ]
     },
     "metadata": {},
     "output_type": "display_data"
    },
    {
     "data": {
      "text/html": [
       "<span style=\"color: #3498DB; font-size: 16px; font-style: italic; font-family: Arial, sans-serif; border-bottom: 1px dotted #3498DB; letter-spacing: 0.3px; background-color: rgba(52, 152, 219, 0.05); padding: 8px; border-radius: 3px; display: block; margin: 25px 0; clear: both;\" >After balancing: 25951 fragments, 25951 non-fragments (balance: 100.00%)</span>"
      ],
      "text/plain": [
       "<IPython.core.display.HTML object>"
      ]
     },
     "metadata": {},
     "output_type": "display_data"
    },
    {
     "data": {
      "text/html": [
       "<span style=\"color: #3498DB; font-size: 16px; font-style: italic; font-family: Arial, sans-serif; border-bottom: 1px dotted #3498DB; letter-spacing: 0.3px; background-color: rgba(52, 152, 219, 0.05); padding: 8px; border-radius: 3px; display: block; margin: 25px 0; clear: both;\" >Removed 6932 duplicates</span>"
      ],
      "text/plain": [
       "<IPython.core.display.HTML object>"
      ]
     },
     "metadata": {},
     "output_type": "display_data"
    },
    {
     "data": {
      "text/html": [
       "<span style=\"color: #3498DB; font-size: 16px; font-style: italic; font-family: Arial, sans-serif; border-bottom: 1px dotted #3498DB; letter-spacing: 0.3px; background-color: rgba(52, 152, 219, 0.05); padding: 8px; border-radius: 3px; display: block; margin: 25px 0; clear: both;\" >After removing duplicates: 19019 fragments, 25951 non-fragments (balance: 73.29%)</span>"
      ],
      "text/plain": [
       "<IPython.core.display.HTML object>"
      ]
     },
     "metadata": {},
     "output_type": "display_data"
    },
    {
     "data": {
      "text/html": [
       "<span style=\"color: #3498DB; font-size: 16px; font-style: italic; font-family: Arial, sans-serif; border-bottom: 1px dotted #3498DB; letter-spacing: 0.3px; background-color: rgba(52, 152, 219, 0.05); padding: 8px; border-radius: 3px; display: block; margin: 25px 0; clear: both;\" >Balance improvement: 0.68%</span>"
      ],
      "text/plain": [
       "<IPython.core.display.HTML object>"
      ]
     },
     "metadata": {},
     "output_type": "display_data"
    },
    {
     "data": {
      "text/html": [
       "<span style=\"color: #1A237E; font-size: 24px; font-weight: bold; font-family: Arial, sans-serif; text-align: center; letter-spacing: 1px; padding: 16px 10px; border-top: 2px dashed #1A237E; border-bottom: 2px dashed #1A237E; margin: 30px 0; background-color: rgba(26, 35, 126, 0.05); display: block; clear: both;\" >\n",
       "Iteration 8:</span>"
      ],
      "text/plain": [
       "<IPython.core.display.HTML object>"
      ]
     },
     "metadata": {},
     "output_type": "display_data"
    },
    {
     "data": {
      "text/html": [
       "<span style=\"color: #3498DB; font-size: 16px; font-style: italic; font-family: Arial, sans-serif; border-bottom: 1px dotted #3498DB; letter-spacing: 0.3px; background-color: rgba(52, 152, 219, 0.05); padding: 8px; border-radius: 3px; display: block; margin: 25px 0; clear: both;\" >Creating new fragments to balance dataset...</span>"
      ],
      "text/plain": [
       "<IPython.core.display.HTML object>"
      ]
     },
     "metadata": {},
     "output_type": "display_data"
    },
    {
     "data": {
      "application/vnd.jupyter.widget-view+json": {
       "model_id": "f22c91b4251445ae805d7a8be7736f0c",
       "version_major": 2,
       "version_minor": 0
      },
      "text/plain": [
       "Expanding fragments:   0%|          | 0/25951 [00:00<?, ?sent/s]"
      ]
     },
     "metadata": {},
     "output_type": "display_data"
    },
    {
     "data": {
      "text/html": [
       "<span style=\"color: #3498DB; font-size: 16px; font-style: italic; font-family: Arial, sans-serif; border-bottom: 1px dotted #3498DB; letter-spacing: 0.3px; background-color: rgba(52, 152, 219, 0.05); padding: 8px; border-radius: 3px; display: block; margin: 25px 0; clear: both;\" >After balancing: 25951 fragments, 25951 non-fragments (balance: 100.00%)</span>"
      ],
      "text/plain": [
       "<IPython.core.display.HTML object>"
      ]
     },
     "metadata": {},
     "output_type": "display_data"
    },
    {
     "data": {
      "text/html": [
       "<span style=\"color: #3498DB; font-size: 16px; font-style: italic; font-family: Arial, sans-serif; border-bottom: 1px dotted #3498DB; letter-spacing: 0.3px; background-color: rgba(52, 152, 219, 0.05); padding: 8px; border-radius: 3px; display: block; margin: 25px 0; clear: both;\" >Removed 6783 duplicates</span>"
      ],
      "text/plain": [
       "<IPython.core.display.HTML object>"
      ]
     },
     "metadata": {},
     "output_type": "display_data"
    },
    {
     "data": {
      "text/html": [
       "<span style=\"color: #3498DB; font-size: 16px; font-style: italic; font-family: Arial, sans-serif; border-bottom: 1px dotted #3498DB; letter-spacing: 0.3px; background-color: rgba(52, 152, 219, 0.05); padding: 8px; border-radius: 3px; display: block; margin: 25px 0; clear: both;\" >After removing duplicates: 19168 fragments, 25951 non-fragments (balance: 73.86%)</span>"
      ],
      "text/plain": [
       "<IPython.core.display.HTML object>"
      ]
     },
     "metadata": {},
     "output_type": "display_data"
    },
    {
     "data": {
      "text/html": [
       "<span style=\"color: #3498DB; font-size: 16px; font-style: italic; font-family: Arial, sans-serif; border-bottom: 1px dotted #3498DB; letter-spacing: 0.3px; background-color: rgba(52, 152, 219, 0.05); padding: 8px; border-radius: 3px; display: block; margin: 25px 0; clear: both;\" >Balance improvement: 0.57%</span>"
      ],
      "text/plain": [
       "<IPython.core.display.HTML object>"
      ]
     },
     "metadata": {},
     "output_type": "display_data"
    },
    {
     "data": {
      "text/html": [
       "<span style=\"color: #1A237E; font-size: 24px; font-weight: bold; font-family: Arial, sans-serif; text-align: center; letter-spacing: 1px; padding: 16px 10px; border-top: 2px dashed #1A237E; border-bottom: 2px dashed #1A237E; margin: 30px 0; background-color: rgba(26, 35, 126, 0.05); display: block; clear: both;\" >\n",
       "Iteration 9:</span>"
      ],
      "text/plain": [
       "<IPython.core.display.HTML object>"
      ]
     },
     "metadata": {},
     "output_type": "display_data"
    },
    {
     "data": {
      "text/html": [
       "<span style=\"color: #3498DB; font-size: 16px; font-style: italic; font-family: Arial, sans-serif; border-bottom: 1px dotted #3498DB; letter-spacing: 0.3px; background-color: rgba(52, 152, 219, 0.05); padding: 8px; border-radius: 3px; display: block; margin: 25px 0; clear: both;\" >Creating new fragments to balance dataset...</span>"
      ],
      "text/plain": [
       "<IPython.core.display.HTML object>"
      ]
     },
     "metadata": {},
     "output_type": "display_data"
    },
    {
     "data": {
      "application/vnd.jupyter.widget-view+json": {
       "model_id": "8457710c7a10493db6afd71ccc5d8b14",
       "version_major": 2,
       "version_minor": 0
      },
      "text/plain": [
       "Expanding fragments:   0%|          | 0/25951 [00:00<?, ?sent/s]"
      ]
     },
     "metadata": {},
     "output_type": "display_data"
    },
    {
     "data": {
      "text/html": [
       "<span style=\"color: #3498DB; font-size: 16px; font-style: italic; font-family: Arial, sans-serif; border-bottom: 1px dotted #3498DB; letter-spacing: 0.3px; background-color: rgba(52, 152, 219, 0.05); padding: 8px; border-radius: 3px; display: block; margin: 25px 0; clear: both;\" >After balancing: 25951 fragments, 25951 non-fragments (balance: 100.00%)</span>"
      ],
      "text/plain": [
       "<IPython.core.display.HTML object>"
      ]
     },
     "metadata": {},
     "output_type": "display_data"
    },
    {
     "data": {
      "text/html": [
       "<span style=\"color: #3498DB; font-size: 16px; font-style: italic; font-family: Arial, sans-serif; border-bottom: 1px dotted #3498DB; letter-spacing: 0.3px; background-color: rgba(52, 152, 219, 0.05); padding: 8px; border-radius: 3px; display: block; margin: 25px 0; clear: both;\" >Removed 6658 duplicates</span>"
      ],
      "text/plain": [
       "<IPython.core.display.HTML object>"
      ]
     },
     "metadata": {},
     "output_type": "display_data"
    },
    {
     "data": {
      "text/html": [
       "<span style=\"color: #3498DB; font-size: 16px; font-style: italic; font-family: Arial, sans-serif; border-bottom: 1px dotted #3498DB; letter-spacing: 0.3px; background-color: rgba(52, 152, 219, 0.05); padding: 8px; border-radius: 3px; display: block; margin: 25px 0; clear: both;\" >After removing duplicates: 19293 fragments, 25951 non-fragments (balance: 74.34%)</span>"
      ],
      "text/plain": [
       "<IPython.core.display.HTML object>"
      ]
     },
     "metadata": {},
     "output_type": "display_data"
    },
    {
     "data": {
      "text/html": [
       "<span style=\"color: #3498DB; font-size: 16px; font-style: italic; font-family: Arial, sans-serif; border-bottom: 1px dotted #3498DB; letter-spacing: 0.3px; background-color: rgba(52, 152, 219, 0.05); padding: 8px; border-radius: 3px; display: block; margin: 25px 0; clear: both;\" >Balance improvement: 0.48%</span>"
      ],
      "text/plain": [
       "<IPython.core.display.HTML object>"
      ]
     },
     "metadata": {},
     "output_type": "display_data"
    },
    {
     "data": {
      "text/html": [
       "<span style=\"color: #1A237E; font-size: 24px; font-weight: bold; font-family: Arial, sans-serif; text-align: center; letter-spacing: 1px; padding: 16px 10px; border-top: 2px dashed #1A237E; border-bottom: 2px dashed #1A237E; margin: 30px 0; background-color: rgba(26, 35, 126, 0.05); display: block; clear: both;\" >\n",
       "Iteration 10:</span>"
      ],
      "text/plain": [
       "<IPython.core.display.HTML object>"
      ]
     },
     "metadata": {},
     "output_type": "display_data"
    },
    {
     "data": {
      "text/html": [
       "<span style=\"color: #3498DB; font-size: 16px; font-style: italic; font-family: Arial, sans-serif; border-bottom: 1px dotted #3498DB; letter-spacing: 0.3px; background-color: rgba(52, 152, 219, 0.05); padding: 8px; border-radius: 3px; display: block; margin: 25px 0; clear: both;\" >Creating new fragments to balance dataset...</span>"
      ],
      "text/plain": [
       "<IPython.core.display.HTML object>"
      ]
     },
     "metadata": {},
     "output_type": "display_data"
    },
    {
     "data": {
      "application/vnd.jupyter.widget-view+json": {
       "model_id": "d82420f540ec42bfb2d597087daf8234",
       "version_major": 2,
       "version_minor": 0
      },
      "text/plain": [
       "Expanding fragments:   0%|          | 0/25951 [00:00<?, ?sent/s]"
      ]
     },
     "metadata": {},
     "output_type": "display_data"
    },
    {
     "data": {
      "text/html": [
       "<span style=\"color: #3498DB; font-size: 16px; font-style: italic; font-family: Arial, sans-serif; border-bottom: 1px dotted #3498DB; letter-spacing: 0.3px; background-color: rgba(52, 152, 219, 0.05); padding: 8px; border-radius: 3px; display: block; margin: 25px 0; clear: both;\" >After balancing: 25951 fragments, 25951 non-fragments (balance: 100.00%)</span>"
      ],
      "text/plain": [
       "<IPython.core.display.HTML object>"
      ]
     },
     "metadata": {},
     "output_type": "display_data"
    },
    {
     "data": {
      "text/html": [
       "<span style=\"color: #3498DB; font-size: 16px; font-style: italic; font-family: Arial, sans-serif; border-bottom: 1px dotted #3498DB; letter-spacing: 0.3px; background-color: rgba(52, 152, 219, 0.05); padding: 8px; border-radius: 3px; display: block; margin: 25px 0; clear: both;\" >Removed 6561 duplicates</span>"
      ],
      "text/plain": [
       "<IPython.core.display.HTML object>"
      ]
     },
     "metadata": {},
     "output_type": "display_data"
    },
    {
     "data": {
      "text/html": [
       "<span style=\"color: #3498DB; font-size: 16px; font-style: italic; font-family: Arial, sans-serif; border-bottom: 1px dotted #3498DB; letter-spacing: 0.3px; background-color: rgba(52, 152, 219, 0.05); padding: 8px; border-radius: 3px; display: block; margin: 25px 0; clear: both;\" >After removing duplicates: 19390 fragments, 25951 non-fragments (balance: 74.72%)</span>"
      ],
      "text/plain": [
       "<IPython.core.display.HTML object>"
      ]
     },
     "metadata": {},
     "output_type": "display_data"
    },
    {
     "data": {
      "text/html": [
       "<span style=\"color: #3498DB; font-size: 16px; font-style: italic; font-family: Arial, sans-serif; border-bottom: 1px dotted #3498DB; letter-spacing: 0.3px; background-color: rgba(52, 152, 219, 0.05); padding: 8px; border-radius: 3px; display: block; margin: 25px 0; clear: both;\" >Balance improvement: 0.37%</span>"
      ],
      "text/plain": [
       "<IPython.core.display.HTML object>"
      ]
     },
     "metadata": {},
     "output_type": "display_data"
    },
    {
     "data": {
      "text/html": [
       "<span style=\"color: #F39C12; font-size: 16px; font-weight: 600; font-family: Arial, sans-serif; text-shadow: 1px 1px 2px rgba(243, 156, 18, 0.2); letter-spacing: 0.3px; background-color: rgba(243, 156, 18, 0.05); padding: 8px; border-radius: 3px; border-left: 2px solid #F39C12; display: block; margin: 25px 0; clear: both;\" >Could not achieve target balance of 95.0% after 10 iterations. Current balance: 74.72%</span>"
      ],
      "text/plain": [
       "<IPython.core.display.HTML object>"
      ]
     },
     "metadata": {},
     "output_type": "display_data"
    },
    {
     "data": {
      "text/html": [
       "<span style=\"color: #3498DB; font-size: 16px; font-style: italic; font-family: Arial, sans-serif; border-bottom: 1px dotted #3498DB; letter-spacing: 0.3px; background-color: rgba(52, 152, 219, 0.05); padding: 8px; border-radius: 3px; display: block; margin: 25px 0; clear: both;\" >Saving results to: dataset_fragments.csv</span>"
      ],
      "text/plain": [
       "<IPython.core.display.HTML object>"
      ]
     },
     "metadata": {},
     "output_type": "display_data"
    },
    {
     "data": {
      "text/html": [
       "<span style=\"color: #27AE60; font-size: 16px; font-weight: 600; font-family: Arial, sans-serif; text-shadow: 1px 1px 2px rgba(39, 174, 96, 0.2); letter-spacing: 0.3px; background-color: rgba(39, 174, 96, 0.05); padding: 8px; border-radius: 3px; border-left: 2px solid #27AE60; display: block; margin: 25px 0; clear: both;\" >Processing complete. Output saved to dataset_fragments.csv</span>"
      ],
      "text/plain": [
       "<IPython.core.display.HTML object>"
      ]
     },
     "metadata": {},
     "output_type": "display_data"
    },
    {
     "data": {
      "text/html": [
       "<span style=\"color: #3498DB; font-size: 16px; font-style: italic; font-family: Arial, sans-serif; border-bottom: 1px dotted #3498DB; letter-spacing: 0.3px; background-color: rgba(52, 152, 219, 0.05); padding: 8px; border-radius: 3px; display: block; margin: 25px 0; clear: both;\" >Processed 120000 original sentences into 45341 fragments.</span>"
      ],
      "text/plain": [
       "<IPython.core.display.HTML object>"
      ]
     },
     "metadata": {},
     "output_type": "display_data"
    }
   ],
   "source": [
    "def create_fragement_ds():\n",
    "    \"\"\"Function to parse arguments and execute the script.\"\"\"\n",
    "    input_file = DSPATH\n",
    "    output_file = FDPATH\n",
    "    balance_strategy = STRATEGY\n",
    "    balance_per = BALANCE_PER\n",
    "    tolerance = TOLERANCE\n",
    "\n",
    "    process_dataset(input_file, output_file, balance_strategy, balance_per, tolerance)\n",
    "\n",
    "\n",
    "if __name__ == \"__main__\":\n",
    "    create_fragement_ds()"
   ]
  },
  {
   "cell_type": "markdown",
   "metadata": {
    "id": "ajpvnQy4wbTW"
   },
   "source": [
    "### 🔍 Dataset Feature Expansion\n",
    "\n",
    "#### Purpose\n",
    "\n",
    "The Feature Expander enriches the dataset by:\n",
    "- Adding linguistic feature columns\n",
    "- Detecting special word patterns\n",
    "- Enhancing ML model interpretability\n",
    "\n",
    "#### Feature Types\n",
    "\n",
    "Detects and flags presence of:\n",
    "- Auxiliary verbs\n",
    "- Adverbs\n",
    "- Conjunctions\n",
    "- Temporal expressions\n",
    "- Other linguistic markers\n",
    "\n",
    "#### Usage Guidelines\n",
    "\n",
    "**✅ Recommended for:**\n",
    "- Traditional ML models\n",
    "- Feature importance analysis\n",
    "- Model interpretability studies\n",
    "\n",
    "**⚠️ Considerations for Deep Learning:**\n",
    "- Not always beneficial for DL models\n",
    "- May introduce unnecessary complexity\n",
    "- Consider raw text for transformer models\n",
    "\n",
    "> 🔍 **Note:** Ensure data is clean and deduplicated before feature expansion"
   ]
  },
  {
   "cell_type": "markdown",
   "metadata": {
    "id": "oE59uLcjUkCP"
   },
   "source": [
    "#### Core Implementation of The Feature Extractor"
   ]
  },
  {
   "cell_type": "code",
   "execution_count": null,
   "metadata": {
    "id": "FjxNBty2wQW2"
   },
   "outputs": [],
   "source": [
    "class FeatureExtractor:\n",
    "    \"\"\"\n",
    "    Extracts linguistic features from sentences based on predefined patterns and word lists.\n",
    "    Used to analyze text for specific grammatical and structural elements.\n",
    "    \"\"\"\n",
    "    def __init__(self):\n",
    "        # Use imported word lists from fd_linguistic_features\n",
    "        self.auxiliary_verbs = AUXILIARY_VERBS\n",
    "        self.common_expressions = COMMON_EXPRESSIONS\n",
    "        self.conjunctions = CONJUNCTIONS\n",
    "        self.temporal_words = TEMPORAL_WORDS\n",
    "        self.adverbs_opinion = ADVERBS_OPINION\n",
    "        self.sentence_starters = SENTENCE_STARTERS\n",
    "        self.adverb_patterns = ADVERB_PATTERNS\n",
    "        self.past_verb_patterns = PAST_VERB_PATTERNS\n",
    "        self.gerund_patterns = GERUND_PATTERNS\n",
    "\n",
    "    def extract_features(self, sentence: str) -> Dict[str, bool]:\n",
    "        \"\"\"\n",
    "        Extracts linguistic features from a given sentence.\n",
    "\n",
    "        Args:\n",
    "            sentence: The sentence to analyze\n",
    "\n",
    "        Returns:\n",
    "            Dictionary with feature names as keys and boolean values\n",
    "        \"\"\"\n",
    "        # Convert to lowercase for case-insensitive matching, but keep original for punctuation\n",
    "        original = sentence\n",
    "        sentence = sentence.lower()\n",
    "\n",
    "        # Split into words and remove punctuation for word-level features\n",
    "        words = [re.sub(r'[^\\w\\s]', '', word) for word in sentence.split()]\n",
    "        words = [word for word in words if word]  # Remove empty strings\n",
    "\n",
    "        # Initialize features dictionary\n",
    "        features = {}\n",
    "\n",
    "        # Check for punctuation marks\n",
    "        features[\"has_fullstop\"] = \".\" in original\n",
    "        features[\"has_question_mark\"] = \"?\" in original\n",
    "        features[\"has_exclamation_mark\"] = \"!\" in original\n",
    "        features[\"has_comma\"] = \",\" in original\n",
    "        features[\"has_semicolon\"] = \";\" in original\n",
    "        features[\"has_colon\"] = \":\" in original\n",
    "        features[\"has_quotation\"] = '\"' in original or \"'\" in original\n",
    "\n",
    "        # Check for word-level features\n",
    "        features[\"has_auxiliary\"] = any(word in self.auxiliary_verbs for word in words)\n",
    "        features[\"has_expression\"] = any(word in self.common_expressions for word in words)\n",
    "        features[\"has_conjunction\"] = any(word in self.conjunctions for word in words)\n",
    "        features[\"has_temporal\"] = any(word in self.temporal_words for word in words)\n",
    "        features[\"has_opinion_adverb\"] = any(word in self.adverbs_opinion for word in words)\n",
    "        features[\"has_starter\"] = any(starter in sentence for starter in self.sentence_starters)\n",
    "\n",
    "        # Check for pattern-based features\n",
    "        features[\"has_adverb\"] = any(re.search(pattern, sentence) for pattern in self.adverb_patterns)\n",
    "        features[\"has_past_verb\"] = any(re.search(pattern, sentence) for pattern in self.past_verb_patterns)\n",
    "        features[\"has_gerund\"] = any(re.search(pattern, sentence) for pattern in self.gerund_patterns)\n",
    "\n",
    "        # Capitalization feature\n",
    "        features[\"starts_capitalized\"] = bool(original and original[0].isupper())\n",
    "\n",
    "        return features\n",
    "\n",
    "\n",
    "def preprocess_sentence(sentence: str) -> str:\n",
    "    \"\"\"\n",
    "    Remove the starting '<name> commented' and ending 'on <date> on <platform>.' parts,\n",
    "    and trim leading/trailing whitespaces.\n",
    "\n",
    "    Args:\n",
    "        sentence: The original sentence to process\n",
    "\n",
    "    Returns:\n",
    "        The cleaned sentence with patterns removed\n",
    "    \"\"\"\n",
    "    # Remove the starting part '<name> commented'\n",
    "    sentence = re.sub(r'^.*? commented\\s*', '', sentence)\n",
    "\n",
    "    # Remove the ending part 'on <date> on <platform>.'\n",
    "    sentence = re.sub(r'\\s*on \\d{4}-\\d{2}-\\d{2} \\d{2}:\\d{2}:\\d{2} on .*?\\.?$', '', sentence)\n",
    "\n",
    "    # If the sentence was in quotes, remove only the outer quotes if they remain\n",
    "    if sentence.startswith('\"') and sentence.endswith('\"'):\n",
    "        sentence = sentence[1:-1]\n",
    "\n",
    "    # Trim leading/trailing whitespaces\n",
    "    return sentence.strip()\n",
    "\n",
    "\n",
    "def expand_dataset(input_file: str, output_file: str) -> None:\n",
    "    \"\"\"\n",
    "    Process the dataset, add linguistic feature columns, and save the expanded dataset.\n",
    "\n",
    "    Args:\n",
    "        input_file: Path to the input CSV file\n",
    "        output_file: Path to save the output CSV file\n",
    "    \"\"\"\n",
    "    try:\n",
    "        # Read the dataset\n",
    "        info(f\"Reading input file: {input_file}\")\n",
    "        df = pd.read_csv(input_file)\n",
    "\n",
    "        if 'Sentence Fragment' not in df.columns:\n",
    "            error(f\"Input file must contain a 'Sentence Fragment' column.\")\n",
    "            return\n",
    "\n",
    "        # Create a feature extractor\n",
    "        extractor = FeatureExtractor()\n",
    "\n",
    "        # Process each sentence and add features\n",
    "        info(f\"Extracting features from {len(df)} sentences...\")\n",
    "\n",
    "        # Initialize new columns with empty lists\n",
    "        feature_columns = {\n",
    "            \"has_auxiliary\": [],\n",
    "            \"has_fullstop\": [],\n",
    "            \"has_question_mark\": [],\n",
    "            \"has_exclamation_mark\": [],\n",
    "            \"has_comma\": [],\n",
    "            \"has_semicolon\": [],\n",
    "            \"has_colon\": [],\n",
    "            \"has_quotation\": [],\n",
    "            \"has_expression\": [],\n",
    "            \"has_conjunction\": [],\n",
    "            \"has_temporal\": [],\n",
    "            \"has_opinion_adverb\": [],\n",
    "            \"has_adverb\": [],\n",
    "            \"has_starter\": [],\n",
    "            \"has_past_verb\": [],\n",
    "            \"has_gerund\": [],\n",
    "            \"starts_capitalized\": []\n",
    "        }\n",
    "\n",
    "        # Process sentences with a progress bar\n",
    "        for _, row in tqdm(df.iterrows(), total=len(df), desc=\"Processing sentences\"):\n",
    "            # Get and preprocess the sentence\n",
    "            sentence = row['Sentence Fragment']\n",
    "            processed_sentence = preprocess_sentence(sentence)\n",
    "\n",
    "            # Extract features\n",
    "            features = extractor.extract_features(processed_sentence)\n",
    "\n",
    "            # Add each feature to its corresponding column\n",
    "            for feature, value in features.items():\n",
    "                feature_columns[feature].append(value)\n",
    "\n",
    "        # Add feature columns to the DataFrame\n",
    "        for feature, values in feature_columns.items():\n",
    "            df[feature] = values\n",
    "\n",
    "        # Use imported feature descriptions\n",
    "        descriptions = FEATURE_DESCRIPTIONS\n",
    "\n",
    "        # Save column descriptions as DataFrame metadata (only visible in code)\n",
    "        for col, desc in descriptions.items():\n",
    "            if col in df.columns:\n",
    "                df[col].attrs['description'] = desc\n",
    "\n",
    "        # Save to CSV\n",
    "        info(f\"Saving expanded dataset to: {output_file}\")\n",
    "        df.to_csv(output_file, index=False)\n",
    "\n",
    "        # Print column descriptions for reference\n",
    "        header(\"\\nColumn Descriptions:\")\n",
    "        desc_list = []\n",
    "        for col, desc in descriptions.items():\n",
    "            if col in df.columns:\n",
    "                desc_list.append(f\"{col}: {desc}\")\n",
    "        list_(desc_list)\n",
    "\n",
    "        success(f\"Processing complete. Expanded dataset saved to {output_file}\")\n",
    "\n",
    "    except Exception as e:\n",
    "        error(f\"An error occurred: {str(e)}\")"
   ]
  },
  {
   "cell_type": "markdown",
   "metadata": {
    "id": "NoYo2mimUu3W"
   },
   "source": [
    "#### Expand Dataset"
   ]
  },
  {
   "cell_type": "code",
   "execution_count": null,
   "metadata": {
    "colab": {
     "base_uri": "https://localhost:8080/",
     "height": 906,
     "referenced_widgets": [
      "8466aa18036e4e51b3d50ceebd875dff",
      "752b09257d43426492b3a4b98ef3729c",
      "be9113be4eab40a086a0f34084166f18",
      "b9cc63e3a7dd40658cec8c5b83fb3e87",
      "f11bb06ebfed4ff89a647b508198fb75",
      "f23362c624a74d719e9dc73050df6625",
      "dc02314851014ce49096fe8f6c99c02e",
      "b1ef67dae7ff4716813df15880d0f448",
      "7c4b1bfb32a346caa8d8c4f112f84824",
      "9bdc4ad6f1774ee0b18ceecbc9a55022",
      "ee3535b5b3df4252a9bcff65965f0824"
     ]
    },
    "executionInfo": {
     "elapsed": 9949,
     "status": "ok",
     "timestamp": 1747096668901,
     "user": {
      "displayName": "amr muhamed",
      "userId": "08354309562380829108"
     },
     "user_tz": -180
    },
    "id": "Z8eZVKWlQaZf",
    "outputId": "da792d70-f24d-4a98-f716-bcad16db6234"
   },
   "outputs": [
    {
     "data": {
      "text/html": [
       "<span style=\"color: #3498DB; font-size: 16px; font-style: italic; font-family: Arial, sans-serif; border-bottom: 1px dotted #3498DB; letter-spacing: 0.3px; background-color: rgba(52, 152, 219, 0.05); padding: 8px; border-radius: 3px; display: block; margin: 25px 0; clear: both;\" >Reading input file: dataset_fragments.csv</span>"
      ],
      "text/plain": [
       "<IPython.core.display.HTML object>"
      ]
     },
     "metadata": {},
     "output_type": "display_data"
    },
    {
     "data": {
      "text/html": [
       "<span style=\"color: #3498DB; font-size: 16px; font-style: italic; font-family: Arial, sans-serif; border-bottom: 1px dotted #3498DB; letter-spacing: 0.3px; background-color: rgba(52, 152, 219, 0.05); padding: 8px; border-radius: 3px; display: block; margin: 25px 0; clear: both;\" >Extracting features from 45341 sentences...</span>"
      ],
      "text/plain": [
       "<IPython.core.display.HTML object>"
      ]
     },
     "metadata": {},
     "output_type": "display_data"
    },
    {
     "data": {
      "application/vnd.jupyter.widget-view+json": {
       "model_id": "8466aa18036e4e51b3d50ceebd875dff",
       "version_major": 2,
       "version_minor": 0
      },
      "text/plain": [
       "Processing sentences:   0%|          | 0/45341 [00:00<?, ?it/s]"
      ]
     },
     "metadata": {},
     "output_type": "display_data"
    },
    {
     "data": {
      "text/html": [
       "<span style=\"color: #3498DB; font-size: 16px; font-style: italic; font-family: Arial, sans-serif; border-bottom: 1px dotted #3498DB; letter-spacing: 0.3px; background-color: rgba(52, 152, 219, 0.05); padding: 8px; border-radius: 3px; display: block; margin: 25px 0; clear: both;\" >Saving expanded dataset to: expanded_dataset.csv</span>"
      ],
      "text/plain": [
       "<IPython.core.display.HTML object>"
      ]
     },
     "metadata": {},
     "output_type": "display_data"
    },
    {
     "data": {
      "text/html": [
       "<span style=\"color: #1A237E; font-size: 24px; font-weight: bold; font-family: Arial, sans-serif; text-align: center; letter-spacing: 1px; padding: 16px 10px; border-top: 2px dashed #1A237E; border-bottom: 2px dashed #1A237E; margin: 30px 0; background-color: rgba(26, 35, 126, 0.05); display: block; clear: both;\" >\n",
       "Column Descriptions:</span>"
      ],
      "text/plain": [
       "<IPython.core.display.HTML object>"
      ]
     },
     "metadata": {},
     "output_type": "display_data"
    },
    {
     "data": {
      "text/html": [
       "<ul style=\"color: #000000; font-size: 16px; font-family: Arial, sans-serif; padding-left: 20px; line-height: 1.6; margin: 25px 0; display: block; clear: both;\"><li style=\"color: #3498DB\">has_auxiliary: Contains auxiliary verbs (is, are, was, were, etc.)</li><li style=\"color: #3498DB\">has_fullstop: Contains a period (.)</li><li style=\"color: #3498DB\">has_question_mark: Contains a question mark (?)</li><li style=\"color: #3498DB\">has_exclamation_mark: Contains an exclamation mark (!)</li><li style=\"color: #3498DB\">has_comma: Contains a comma (,)</li><li style=\"color: #3498DB\">has_semicolon: Contains a semicolon (;)</li><li style=\"color: #3498DB\">has_colon: Contains a colon (:)</li><li style=\"color: #3498DB\">has_quotation: Contains quotation marks (' or \")</li><li style=\"color: #3498DB\">has_expression: Contains common expressions or exclamations</li><li style=\"color: #3498DB\">has_conjunction: Contains conjunctions (and, but, or, etc.)</li><li style=\"color: #3498DB\">has_temporal: Contains temporal words (then, after, before, etc.)</li><li style=\"color: #3498DB\">has_opinion_adverb: Contains adverbs of opinion (clearly, obviously, etc.)</li><li style=\"color: #3498DB\">has_adverb: Contains adverbs (words ending with -ly, -ily, etc.)</li><li style=\"color: #3498DB\">has_starter: Contains sentence starters or fillers (well, so, etc.)</li><li style=\"color: #3498DB\">has_past_verb: Contains past tense verbs (words ending with -ed or -en)</li><li style=\"color: #3498DB\">has_gerund: Contains gerunds/present participles (words ending with -ing)</li><li style=\"color: #3498DB\">starts_capitalized: Sentence starts with a capital letter</li></ul>"
      ],
      "text/plain": [
       "<IPython.core.display.HTML object>"
      ]
     },
     "metadata": {},
     "output_type": "display_data"
    },
    {
     "data": {
      "text/html": [
       "<span style=\"color: #27AE60; font-size: 16px; font-weight: 600; font-family: Arial, sans-serif; text-shadow: 1px 1px 2px rgba(39, 174, 96, 0.2); letter-spacing: 0.3px; background-color: rgba(39, 174, 96, 0.05); padding: 8px; border-radius: 3px; border-left: 2px solid #27AE60; display: block; margin: 25px 0; clear: both;\" >Processing complete. Expanded dataset saved to expanded_dataset.csv</span>"
      ],
      "text/plain": [
       "<IPython.core.display.HTML object>"
      ]
     },
     "metadata": {},
     "output_type": "display_data"
    }
   ],
   "source": [
    "def expand_ds():\n",
    "    \"\"\"Function to parse arguments and execute the script.\"\"\"\n",
    "    input_file = FDPATH\n",
    "    output_file = EXPANDPATH\n",
    "\n",
    "    expand_dataset(input_file, output_file)\n",
    "\n",
    "\n",
    "if __name__ == \"__main__\":\n",
    "    expand_ds()"
   ]
  },
  {
   "cell_type": "markdown",
   "metadata": {
    "id": "dDJvORvz_BGK"
   },
   "source": [
    "## 📚 Resources\n",
    "\n",
    "### Dataset\n",
    "- [Netflix & Facebook Posts Dataset](https://www.kaggle.com/datasets/tomthescientist/netflix-facebook-posts-as-sentences-for-llm-input)\n"
   ]
  },
  {
   "cell_type": "markdown",
   "metadata": {
    "id": "g1D9YOyqEX3S"
   },
   "source": [
    "## 🤝 Contributors\n",
    "\n",
    "| 👤 Name | 🧑‍💻 Role | 📬 GitHub | 🔗 LinkedIn |\n",
    "|---------|----------|-----------|------------|\n",
    "| Amr Muhamed | Maintainer | [alaamer12](https://github.com/alaamer12) | [alaamer12](https://linkedin.com/in/alaamer12) |\n",
    "| Muhamed Ibrahim | Data Engineer | [muhammad-senna](https://github.com/muhammad-senna) | [muhammad-senna](https://linkedin.com/in/muhammad-senna) |\n",
    "\n",
    "© 2025 Amr Muhamed. All Rights Reserved.\n",
    "\n",
    "*Last updated: May 12, 2025*"
   ]
  }
 ],
 "metadata": {
  "colab": {
   "collapsed_sections": [
    "aDSaRID4t982",
    "8tb8WreNuzmU",
    "5fzKdnTzu1L0",
    "TdIAtehOu3Kj",
    "KyxhlZRvvzId",
    "RhPNRTSqSIS2",
    "0Mypb335wiCc"
   ],
   "provenance": []
  },
  "kernelspec": {
   "display_name": "Python 3",
   "name": "python3"
  },
  "language_info": {
   "name": "python"
  },
  "widgets": {
   "application/vnd.jupyter.widget-state+json": {
    "004c8ede92e94e4d8580133c25b84b86": {
     "model_module": "@jupyter-widgets/controls",
     "model_module_version": "1.5.0",
     "model_name": "HTMLModel",
     "state": {
      "_dom_classes": [],
      "_model_module": "@jupyter-widgets/controls",
      "_model_module_version": "1.5.0",
      "_model_name": "HTMLModel",
      "_view_count": null,
      "_view_module": "@jupyter-widgets/controls",
      "_view_module_version": "1.5.0",
      "_view_name": "HTMLView",
      "description": "",
      "description_tooltip": null,
      "layout": "IPY_MODEL_e7bec6331cd64db9b22a93a5a539c66c",
      "placeholder": "​",
      "style": "IPY_MODEL_eeebe683400144c4a306009e842d325a",
      "value": "Expanding fragments:  17%"
     }
    },
    "0975925f7e9f4d21a5c9b7c7a0902ebf": {
     "model_module": "@jupyter-widgets/base",
     "model_module_version": "1.2.0",
     "model_name": "LayoutModel",
     "state": {
      "_model_module": "@jupyter-widgets/base",
      "_model_module_version": "1.2.0",
      "_model_name": "LayoutModel",
      "_view_count": null,
      "_view_module": "@jupyter-widgets/base",
      "_view_module_version": "1.2.0",
      "_view_name": "LayoutView",
      "align_content": null,
      "align_items": null,
      "align_self": null,
      "border": null,
      "bottom": null,
      "display": null,
      "flex": null,
      "flex_flow": null,
      "grid_area": null,
      "grid_auto_columns": null,
      "grid_auto_flow": null,
      "grid_auto_rows": null,
      "grid_column": null,
      "grid_gap": null,
      "grid_row": null,
      "grid_template_areas": null,
      "grid_template_columns": null,
      "grid_template_rows": null,
      "height": null,
      "justify_content": null,
      "justify_items": null,
      "left": null,
      "margin": null,
      "max_height": null,
      "max_width": null,
      "min_height": null,
      "min_width": null,
      "object_fit": null,
      "object_position": null,
      "order": null,
      "overflow": null,
      "overflow_x": null,
      "overflow_y": null,
      "padding": null,
      "right": null,
      "top": null,
      "visibility": null,
      "width": null
     }
    },
    "0bf88ae43985462fbeb5f9fe3c0d4340": {
     "model_module": "@jupyter-widgets/controls",
     "model_module_version": "1.5.0",
     "model_name": "HTMLModel",
     "state": {
      "_dom_classes": [],
      "_model_module": "@jupyter-widgets/controls",
      "_model_module_version": "1.5.0",
      "_model_name": "HTMLModel",
      "_view_count": null,
      "_view_module": "@jupyter-widgets/controls",
      "_view_module_version": "1.5.0",
      "_view_name": "HTMLView",
      "description": "",
      "description_tooltip": null,
      "layout": "IPY_MODEL_da4d41a8a62c4e69a0542bbe2af87e15",
      "placeholder": "​",
      "style": "IPY_MODEL_d8f56774aa574ed9939b7b8bfd6b39c6",
      "value": "Expanding fragments:  15%"
     }
    },
    "0fc34d6ca6f0453a8be88d86f46cc8bb": {
     "model_module": "@jupyter-widgets/base",
     "model_module_version": "1.2.0",
     "model_name": "LayoutModel",
     "state": {
      "_model_module": "@jupyter-widgets/base",
      "_model_module_version": "1.2.0",
      "_model_name": "LayoutModel",
      "_view_count": null,
      "_view_module": "@jupyter-widgets/base",
      "_view_module_version": "1.2.0",
      "_view_name": "LayoutView",
      "align_content": null,
      "align_items": null,
      "align_self": null,
      "border": null,
      "bottom": null,
      "display": null,
      "flex": null,
      "flex_flow": null,
      "grid_area": null,
      "grid_auto_columns": null,
      "grid_auto_flow": null,
      "grid_auto_rows": null,
      "grid_column": null,
      "grid_gap": null,
      "grid_row": null,
      "grid_template_areas": null,
      "grid_template_columns": null,
      "grid_template_rows": null,
      "height": null,
      "justify_content": null,
      "justify_items": null,
      "left": null,
      "margin": null,
      "max_height": null,
      "max_width": null,
      "min_height": null,
      "min_width": null,
      "object_fit": null,
      "object_position": null,
      "order": null,
      "overflow": null,
      "overflow_x": null,
      "overflow_y": null,
      "padding": null,
      "right": null,
      "top": null,
      "visibility": null,
      "width": null
     }
    },
    "1124084678db4833b23e7e0471ab6356": {
     "model_module": "@jupyter-widgets/controls",
     "model_module_version": "1.5.0",
     "model_name": "HBoxModel",
     "state": {
      "_dom_classes": [],
      "_model_module": "@jupyter-widgets/controls",
      "_model_module_version": "1.5.0",
      "_model_name": "HBoxModel",
      "_view_count": null,
      "_view_module": "@jupyter-widgets/controls",
      "_view_module_version": "1.5.0",
      "_view_name": "HBoxView",
      "box_style": "",
      "children": [
       "IPY_MODEL_2ca5a294156247c0a2b6102453729b7e",
       "IPY_MODEL_77751aa5c2f945e0a9550d074e19343c",
       "IPY_MODEL_ebebd3be6475493d90cfe9791fc4f897"
      ],
      "layout": "IPY_MODEL_ba51558452b44225b2afa0b7b1bb3a99"
     }
    },
    "1169e4e96ed8453bb7ada39a257c046d": {
     "model_module": "@jupyter-widgets/base",
     "model_module_version": "1.2.0",
     "model_name": "LayoutModel",
     "state": {
      "_model_module": "@jupyter-widgets/base",
      "_model_module_version": "1.2.0",
      "_model_name": "LayoutModel",
      "_view_count": null,
      "_view_module": "@jupyter-widgets/base",
      "_view_module_version": "1.2.0",
      "_view_name": "LayoutView",
      "align_content": null,
      "align_items": null,
      "align_self": null,
      "border": null,
      "bottom": null,
      "display": null,
      "flex": null,
      "flex_flow": null,
      "grid_area": null,
      "grid_auto_columns": null,
      "grid_auto_flow": null,
      "grid_auto_rows": null,
      "grid_column": null,
      "grid_gap": null,
      "grid_row": null,
      "grid_template_areas": null,
      "grid_template_columns": null,
      "grid_template_rows": null,
      "height": null,
      "justify_content": null,
      "justify_items": null,
      "left": null,
      "margin": null,
      "max_height": null,
      "max_width": null,
      "min_height": null,
      "min_width": null,
      "object_fit": null,
      "object_position": null,
      "order": null,
      "overflow": null,
      "overflow_x": null,
      "overflow_y": null,
      "padding": null,
      "right": null,
      "top": null,
      "visibility": null,
      "width": null
     }
    },
    "1388dc91638142a78f381817ffc094fa": {
     "model_module": "@jupyter-widgets/base",
     "model_module_version": "1.2.0",
     "model_name": "LayoutModel",
     "state": {
      "_model_module": "@jupyter-widgets/base",
      "_model_module_version": "1.2.0",
      "_model_name": "LayoutModel",
      "_view_count": null,
      "_view_module": "@jupyter-widgets/base",
      "_view_module_version": "1.2.0",
      "_view_name": "LayoutView",
      "align_content": null,
      "align_items": null,
      "align_self": null,
      "border": null,
      "bottom": null,
      "display": null,
      "flex": null,
      "flex_flow": null,
      "grid_area": null,
      "grid_auto_columns": null,
      "grid_auto_flow": null,
      "grid_auto_rows": null,
      "grid_column": null,
      "grid_gap": null,
      "grid_row": null,
      "grid_template_areas": null,
      "grid_template_columns": null,
      "grid_template_rows": null,
      "height": null,
      "justify_content": null,
      "justify_items": null,
      "left": null,
      "margin": null,
      "max_height": null,
      "max_width": null,
      "min_height": null,
      "min_width": null,
      "object_fit": null,
      "object_position": null,
      "order": null,
      "overflow": null,
      "overflow_x": null,
      "overflow_y": null,
      "padding": null,
      "right": null,
      "top": null,
      "visibility": null,
      "width": null
     }
    },
    "162d2e1414734eda91bd22e6300c15fb": {
     "model_module": "@jupyter-widgets/controls",
     "model_module_version": "1.5.0",
     "model_name": "DescriptionStyleModel",
     "state": {
      "_model_module": "@jupyter-widgets/controls",
      "_model_module_version": "1.5.0",
      "_model_name": "DescriptionStyleModel",
      "_view_count": null,
      "_view_module": "@jupyter-widgets/base",
      "_view_module_version": "1.2.0",
      "_view_name": "StyleView",
      "description_width": ""
     }
    },
    "1831fcb7c5284ace957d8bd07bce1ab7": {
     "model_module": "@jupyter-widgets/base",
     "model_module_version": "1.2.0",
     "model_name": "LayoutModel",
     "state": {
      "_model_module": "@jupyter-widgets/base",
      "_model_module_version": "1.2.0",
      "_model_name": "LayoutModel",
      "_view_count": null,
      "_view_module": "@jupyter-widgets/base",
      "_view_module_version": "1.2.0",
      "_view_name": "LayoutView",
      "align_content": null,
      "align_items": null,
      "align_self": null,
      "border": null,
      "bottom": null,
      "display": null,
      "flex": null,
      "flex_flow": null,
      "grid_area": null,
      "grid_auto_columns": null,
      "grid_auto_flow": null,
      "grid_auto_rows": null,
      "grid_column": null,
      "grid_gap": null,
      "grid_row": null,
      "grid_template_areas": null,
      "grid_template_columns": null,
      "grid_template_rows": null,
      "height": null,
      "justify_content": null,
      "justify_items": null,
      "left": null,
      "margin": null,
      "max_height": null,
      "max_width": null,
      "min_height": null,
      "min_width": null,
      "object_fit": null,
      "object_position": null,
      "order": null,
      "overflow": null,
      "overflow_x": null,
      "overflow_y": null,
      "padding": null,
      "right": null,
      "top": null,
      "visibility": null,
      "width": null
     }
    },
    "184a7ecb168046d483ae8f9308a8a28a": {
     "model_module": "@jupyter-widgets/controls",
     "model_module_version": "1.5.0",
     "model_name": "HTMLModel",
     "state": {
      "_dom_classes": [],
      "_model_module": "@jupyter-widgets/controls",
      "_model_module_version": "1.5.0",
      "_model_name": "HTMLModel",
      "_view_count": null,
      "_view_module": "@jupyter-widgets/controls",
      "_view_module_version": "1.5.0",
      "_view_name": "HTMLView",
      "description": "",
      "description_tooltip": null,
      "layout": "IPY_MODEL_1169e4e96ed8453bb7ada39a257c046d",
      "placeholder": "​",
      "style": "IPY_MODEL_70163c647e004526b1dc8e18d70d31ce",
      "value": "Processing sentences: 100%"
     }
    },
    "1f6b16e9785548aab20dc29fb2e4aa6a": {
     "model_module": "@jupyter-widgets/controls",
     "model_module_version": "1.5.0",
     "model_name": "DescriptionStyleModel",
     "state": {
      "_model_module": "@jupyter-widgets/controls",
      "_model_module_version": "1.5.0",
      "_model_name": "DescriptionStyleModel",
      "_view_count": null,
      "_view_module": "@jupyter-widgets/base",
      "_view_module_version": "1.2.0",
      "_view_name": "StyleView",
      "description_width": ""
     }
    },
    "2022dfd2b6dc46b684bc41e0b3beec94": {
     "model_module": "@jupyter-widgets/base",
     "model_module_version": "1.2.0",
     "model_name": "LayoutModel",
     "state": {
      "_model_module": "@jupyter-widgets/base",
      "_model_module_version": "1.2.0",
      "_model_name": "LayoutModel",
      "_view_count": null,
      "_view_module": "@jupyter-widgets/base",
      "_view_module_version": "1.2.0",
      "_view_name": "LayoutView",
      "align_content": null,
      "align_items": null,
      "align_self": null,
      "border": null,
      "bottom": null,
      "display": null,
      "flex": null,
      "flex_flow": null,
      "grid_area": null,
      "grid_auto_columns": null,
      "grid_auto_flow": null,
      "grid_auto_rows": null,
      "grid_column": null,
      "grid_gap": null,
      "grid_row": null,
      "grid_template_areas": null,
      "grid_template_columns": null,
      "grid_template_rows": null,
      "height": null,
      "justify_content": null,
      "justify_items": null,
      "left": null,
      "margin": null,
      "max_height": null,
      "max_width": null,
      "min_height": null,
      "min_width": null,
      "object_fit": null,
      "object_position": null,
      "order": null,
      "overflow": null,
      "overflow_x": null,
      "overflow_y": null,
      "padding": null,
      "right": null,
      "top": null,
      "visibility": null,
      "width": null
     }
    },
    "2439b71dc2e5434d99ce6233f95b192d": {
     "model_module": "@jupyter-widgets/controls",
     "model_module_version": "1.5.0",
     "model_name": "DescriptionStyleModel",
     "state": {
      "_model_module": "@jupyter-widgets/controls",
      "_model_module_version": "1.5.0",
      "_model_name": "DescriptionStyleModel",
      "_view_count": null,
      "_view_module": "@jupyter-widgets/base",
      "_view_module_version": "1.2.0",
      "_view_name": "StyleView",
      "description_width": ""
     }
    },
    "26a1eb3550094d94a50788b863530f03": {
     "model_module": "@jupyter-widgets/base",
     "model_module_version": "1.2.0",
     "model_name": "LayoutModel",
     "state": {
      "_model_module": "@jupyter-widgets/base",
      "_model_module_version": "1.2.0",
      "_model_name": "LayoutModel",
      "_view_count": null,
      "_view_module": "@jupyter-widgets/base",
      "_view_module_version": "1.2.0",
      "_view_name": "LayoutView",
      "align_content": null,
      "align_items": null,
      "align_self": null,
      "border": null,
      "bottom": null,
      "display": null,
      "flex": null,
      "flex_flow": null,
      "grid_area": null,
      "grid_auto_columns": null,
      "grid_auto_flow": null,
      "grid_auto_rows": null,
      "grid_column": null,
      "grid_gap": null,
      "grid_row": null,
      "grid_template_areas": null,
      "grid_template_columns": null,
      "grid_template_rows": null,
      "height": null,
      "justify_content": null,
      "justify_items": null,
      "left": null,
      "margin": null,
      "max_height": null,
      "max_width": null,
      "min_height": null,
      "min_width": null,
      "object_fit": null,
      "object_position": null,
      "order": null,
      "overflow": null,
      "overflow_x": null,
      "overflow_y": null,
      "padding": null,
      "right": null,
      "top": null,
      "visibility": null,
      "width": null
     }
    },
    "28141334c73e4bb48123dd0ee67aead5": {
     "model_module": "@jupyter-widgets/controls",
     "model_module_version": "1.5.0",
     "model_name": "HTMLModel",
     "state": {
      "_dom_classes": [],
      "_model_module": "@jupyter-widgets/controls",
      "_model_module_version": "1.5.0",
      "_model_name": "HTMLModel",
      "_view_count": null,
      "_view_module": "@jupyter-widgets/controls",
      "_view_module_version": "1.5.0",
      "_view_name": "HTMLView",
      "description": "",
      "description_tooltip": null,
      "layout": "IPY_MODEL_b73818944c3149e8a1802e8fd540a527",
      "placeholder": "​",
      "style": "IPY_MODEL_63b742ccdae743bbac2bcb0aa1a6b4be",
      "value": "Expanding fragments:  15%"
     }
    },
    "296335ea7bf848a18a954cadd6cc1bbe": {
     "model_module": "@jupyter-widgets/controls",
     "model_module_version": "1.5.0",
     "model_name": "HBoxModel",
     "state": {
      "_dom_classes": [],
      "_model_module": "@jupyter-widgets/controls",
      "_model_module_version": "1.5.0",
      "_model_name": "HBoxModel",
      "_view_count": null,
      "_view_module": "@jupyter-widgets/controls",
      "_view_module_version": "1.5.0",
      "_view_name": "HBoxView",
      "box_style": "",
      "children": [
       "IPY_MODEL_004c8ede92e94e4d8580133c25b84b86",
       "IPY_MODEL_eaa35c2427bc42969e9253510a367952",
       "IPY_MODEL_664ba25148c847a9a988981336b2e4b1"
      ],
      "layout": "IPY_MODEL_b35b75935810496da3f9633b20927b86"
     }
    },
    "2add80cfdcea42ac8a9921ee2e96d0dc": {
     "model_module": "@jupyter-widgets/controls",
     "model_module_version": "1.5.0",
     "model_name": "FloatProgressModel",
     "state": {
      "_dom_classes": [],
      "_model_module": "@jupyter-widgets/controls",
      "_model_module_version": "1.5.0",
      "_model_name": "FloatProgressModel",
      "_view_count": null,
      "_view_module": "@jupyter-widgets/controls",
      "_view_module_version": "1.5.0",
      "_view_name": "ProgressView",
      "bar_style": "danger",
      "description": "",
      "description_tooltip": null,
      "layout": "IPY_MODEL_a2bfaf565da645fe8491a91fe5566d3a",
      "max": 25951,
      "min": 0,
      "orientation": "horizontal",
      "style": "IPY_MODEL_b07db48d5abd452689717ef5db90928a",
      "value": 3588
     }
    },
    "2ca5a294156247c0a2b6102453729b7e": {
     "model_module": "@jupyter-widgets/controls",
     "model_module_version": "1.5.0",
     "model_name": "HTMLModel",
     "state": {
      "_dom_classes": [],
      "_model_module": "@jupyter-widgets/controls",
      "_model_module_version": "1.5.0",
      "_model_name": "HTMLModel",
      "_view_count": null,
      "_view_module": "@jupyter-widgets/controls",
      "_view_module_version": "1.5.0",
      "_view_name": "HTMLView",
      "description": "",
      "description_tooltip": null,
      "layout": "IPY_MODEL_31304927a3114d448d1a035810d99c84",
      "placeholder": "​",
      "style": "IPY_MODEL_1f6b16e9785548aab20dc29fb2e4aa6a",
      "value": "Expanding fragments:  16%"
     }
    },
    "2ddbf53d3798440ea6d8d775b8e3be6d": {
     "model_module": "@jupyter-widgets/controls",
     "model_module_version": "1.5.0",
     "model_name": "DescriptionStyleModel",
     "state": {
      "_model_module": "@jupyter-widgets/controls",
      "_model_module_version": "1.5.0",
      "_model_name": "DescriptionStyleModel",
      "_view_count": null,
      "_view_module": "@jupyter-widgets/base",
      "_view_module_version": "1.2.0",
      "_view_name": "StyleView",
      "description_width": ""
     }
    },
    "2e04a4353d6f4f0d8cf311328dc78325": {
     "model_module": "@jupyter-widgets/controls",
     "model_module_version": "1.5.0",
     "model_name": "HTMLModel",
     "state": {
      "_dom_classes": [],
      "_model_module": "@jupyter-widgets/controls",
      "_model_module_version": "1.5.0",
      "_model_name": "HTMLModel",
      "_view_count": null,
      "_view_module": "@jupyter-widgets/controls",
      "_view_module_version": "1.5.0",
      "_view_name": "HTMLView",
      "description": "",
      "description_tooltip": null,
      "layout": "IPY_MODEL_a5a62fe5ecf84c6d9456dc0eeb0ce152",
      "placeholder": "​",
      "style": "IPY_MODEL_63cfb092a2b343758311f7c7af89be05",
      "value": "Expanding fragments:  14%"
     }
    },
    "30b8690d69cb46fd84344796d361945f": {
     "model_module": "@jupyter-widgets/base",
     "model_module_version": "1.2.0",
     "model_name": "LayoutModel",
     "state": {
      "_model_module": "@jupyter-widgets/base",
      "_model_module_version": "1.2.0",
      "_model_name": "LayoutModel",
      "_view_count": null,
      "_view_module": "@jupyter-widgets/base",
      "_view_module_version": "1.2.0",
      "_view_name": "LayoutView",
      "align_content": null,
      "align_items": null,
      "align_self": null,
      "border": null,
      "bottom": null,
      "display": null,
      "flex": null,
      "flex_flow": null,
      "grid_area": null,
      "grid_auto_columns": null,
      "grid_auto_flow": null,
      "grid_auto_rows": null,
      "grid_column": null,
      "grid_gap": null,
      "grid_row": null,
      "grid_template_areas": null,
      "grid_template_columns": null,
      "grid_template_rows": null,
      "height": null,
      "justify_content": null,
      "justify_items": null,
      "left": null,
      "margin": null,
      "max_height": null,
      "max_width": null,
      "min_height": null,
      "min_width": null,
      "object_fit": null,
      "object_position": null,
      "order": null,
      "overflow": null,
      "overflow_x": null,
      "overflow_y": null,
      "padding": null,
      "right": null,
      "top": null,
      "visibility": null,
      "width": null
     }
    },
    "31304927a3114d448d1a035810d99c84": {
     "model_module": "@jupyter-widgets/base",
     "model_module_version": "1.2.0",
     "model_name": "LayoutModel",
     "state": {
      "_model_module": "@jupyter-widgets/base",
      "_model_module_version": "1.2.0",
      "_model_name": "LayoutModel",
      "_view_count": null,
      "_view_module": "@jupyter-widgets/base",
      "_view_module_version": "1.2.0",
      "_view_name": "LayoutView",
      "align_content": null,
      "align_items": null,
      "align_self": null,
      "border": null,
      "bottom": null,
      "display": null,
      "flex": null,
      "flex_flow": null,
      "grid_area": null,
      "grid_auto_columns": null,
      "grid_auto_flow": null,
      "grid_auto_rows": null,
      "grid_column": null,
      "grid_gap": null,
      "grid_row": null,
      "grid_template_areas": null,
      "grid_template_columns": null,
      "grid_template_rows": null,
      "height": null,
      "justify_content": null,
      "justify_items": null,
      "left": null,
      "margin": null,
      "max_height": null,
      "max_width": null,
      "min_height": null,
      "min_width": null,
      "object_fit": null,
      "object_position": null,
      "order": null,
      "overflow": null,
      "overflow_x": null,
      "overflow_y": null,
      "padding": null,
      "right": null,
      "top": null,
      "visibility": null,
      "width": null
     }
    },
    "362e742b5e9249f6afdd57850fc84072": {
     "model_module": "@jupyter-widgets/controls",
     "model_module_version": "1.5.0",
     "model_name": "FloatProgressModel",
     "state": {
      "_dom_classes": [],
      "_model_module": "@jupyter-widgets/controls",
      "_model_module_version": "1.5.0",
      "_model_name": "FloatProgressModel",
      "_view_count": null,
      "_view_module": "@jupyter-widgets/controls",
      "_view_module_version": "1.5.0",
      "_view_name": "ProgressView",
      "bar_style": "danger",
      "description": "",
      "description_tooltip": null,
      "layout": "IPY_MODEL_d3314ab240bd49e3ba96def56a8e0e96",
      "max": 25951,
      "min": 0,
      "orientation": "horizontal",
      "style": "IPY_MODEL_7b7ddb1d7e02419493a3a8525e556037",
      "value": 3676
     }
    },
    "36c0e5b006464d4282744112847b7262": {
     "model_module": "@jupyter-widgets/base",
     "model_module_version": "1.2.0",
     "model_name": "LayoutModel",
     "state": {
      "_model_module": "@jupyter-widgets/base",
      "_model_module_version": "1.2.0",
      "_model_name": "LayoutModel",
      "_view_count": null,
      "_view_module": "@jupyter-widgets/base",
      "_view_module_version": "1.2.0",
      "_view_name": "LayoutView",
      "align_content": null,
      "align_items": null,
      "align_self": null,
      "border": null,
      "bottom": null,
      "display": null,
      "flex": null,
      "flex_flow": null,
      "grid_area": null,
      "grid_auto_columns": null,
      "grid_auto_flow": null,
      "grid_auto_rows": null,
      "grid_column": null,
      "grid_gap": null,
      "grid_row": null,
      "grid_template_areas": null,
      "grid_template_columns": null,
      "grid_template_rows": null,
      "height": null,
      "justify_content": null,
      "justify_items": null,
      "left": null,
      "margin": null,
      "max_height": null,
      "max_width": null,
      "min_height": null,
      "min_width": null,
      "object_fit": null,
      "object_position": null,
      "order": null,
      "overflow": null,
      "overflow_x": null,
      "overflow_y": null,
      "padding": null,
      "right": null,
      "top": null,
      "visibility": null,
      "width": null
     }
    },
    "37c42f1ddbf144128e64825b42c1664b": {
     "model_module": "@jupyter-widgets/base",
     "model_module_version": "1.2.0",
     "model_name": "LayoutModel",
     "state": {
      "_model_module": "@jupyter-widgets/base",
      "_model_module_version": "1.2.0",
      "_model_name": "LayoutModel",
      "_view_count": null,
      "_view_module": "@jupyter-widgets/base",
      "_view_module_version": "1.2.0",
      "_view_name": "LayoutView",
      "align_content": null,
      "align_items": null,
      "align_self": null,
      "border": null,
      "bottom": null,
      "display": null,
      "flex": null,
      "flex_flow": null,
      "grid_area": null,
      "grid_auto_columns": null,
      "grid_auto_flow": null,
      "grid_auto_rows": null,
      "grid_column": null,
      "grid_gap": null,
      "grid_row": null,
      "grid_template_areas": null,
      "grid_template_columns": null,
      "grid_template_rows": null,
      "height": null,
      "justify_content": null,
      "justify_items": null,
      "left": null,
      "margin": null,
      "max_height": null,
      "max_width": null,
      "min_height": null,
      "min_width": null,
      "object_fit": null,
      "object_position": null,
      "order": null,
      "overflow": null,
      "overflow_x": null,
      "overflow_y": null,
      "padding": null,
      "right": null,
      "top": null,
      "visibility": null,
      "width": null
     }
    },
    "3937fbe49e8d43098193ddabfa225f3e": {
     "model_module": "@jupyter-widgets/controls",
     "model_module_version": "1.5.0",
     "model_name": "HBoxModel",
     "state": {
      "_dom_classes": [],
      "_model_module": "@jupyter-widgets/controls",
      "_model_module_version": "1.5.0",
      "_model_name": "HBoxModel",
      "_view_count": null,
      "_view_module": "@jupyter-widgets/controls",
      "_view_module_version": "1.5.0",
      "_view_name": "HBoxView",
      "box_style": "",
      "children": [
       "IPY_MODEL_8162baa25c5a494eae1fc228703cd608",
       "IPY_MODEL_c08f02ef79954cedb5dbc897a88d6018",
       "IPY_MODEL_6ee50d3da2e74590bfb1d2748ca28238"
      ],
      "layout": "IPY_MODEL_0fc34d6ca6f0453a8be88d86f46cc8bb"
     }
    },
    "39a563f6a34d40a6ab4bb1a9aaf5052b": {
     "model_module": "@jupyter-widgets/controls",
     "model_module_version": "1.5.0",
     "model_name": "DescriptionStyleModel",
     "state": {
      "_model_module": "@jupyter-widgets/controls",
      "_model_module_version": "1.5.0",
      "_model_name": "DescriptionStyleModel",
      "_view_count": null,
      "_view_module": "@jupyter-widgets/base",
      "_view_module_version": "1.2.0",
      "_view_name": "StyleView",
      "description_width": ""
     }
    },
    "3e62aa5d5f294004a79796d3b096ddc5": {
     "model_module": "@jupyter-widgets/controls",
     "model_module_version": "1.5.0",
     "model_name": "ProgressStyleModel",
     "state": {
      "_model_module": "@jupyter-widgets/controls",
      "_model_module_version": "1.5.0",
      "_model_name": "ProgressStyleModel",
      "_view_count": null,
      "_view_module": "@jupyter-widgets/base",
      "_view_module_version": "1.2.0",
      "_view_name": "StyleView",
      "bar_color": null,
      "description_width": ""
     }
    },
    "3e8492f673a647efb2e6f16752436cb4": {
     "model_module": "@jupyter-widgets/controls",
     "model_module_version": "1.5.0",
     "model_name": "HTMLModel",
     "state": {
      "_dom_classes": [],
      "_model_module": "@jupyter-widgets/controls",
      "_model_module_version": "1.5.0",
      "_model_name": "HTMLModel",
      "_view_count": null,
      "_view_module": "@jupyter-widgets/controls",
      "_view_module_version": "1.5.0",
      "_view_name": "HTMLView",
      "description": "",
      "description_tooltip": null,
      "layout": "IPY_MODEL_26a1eb3550094d94a50788b863530f03",
      "placeholder": "​",
      "style": "IPY_MODEL_e581ecc00c8c47908eaef4a183d1c3e9",
      "value": " 120000/120000 [00:12&lt;00:00, 15703.85it/s]"
     }
    },
    "3fabc31065674e3cb2a1eef8cd74640f": {
     "model_module": "@jupyter-widgets/controls",
     "model_module_version": "1.5.0",
     "model_name": "HTMLModel",
     "state": {
      "_dom_classes": [],
      "_model_module": "@jupyter-widgets/controls",
      "_model_module_version": "1.5.0",
      "_model_name": "HTMLModel",
      "_view_count": null,
      "_view_module": "@jupyter-widgets/controls",
      "_view_module_version": "1.5.0",
      "_view_name": "HTMLView",
      "description": "",
      "description_tooltip": null,
      "layout": "IPY_MODEL_2022dfd2b6dc46b684bc41e0b3beec94",
      "placeholder": "​",
      "style": "IPY_MODEL_5d278225e1194ae2a4c7561f3af653ee",
      "value": " 3769/25951 [00:00&lt;00:02, 10601.62sent/s]"
     }
    },
    "42cc2749470645df9a5826f7d8480d39": {
     "model_module": "@jupyter-widgets/base",
     "model_module_version": "1.2.0",
     "model_name": "LayoutModel",
     "state": {
      "_model_module": "@jupyter-widgets/base",
      "_model_module_version": "1.2.0",
      "_model_name": "LayoutModel",
      "_view_count": null,
      "_view_module": "@jupyter-widgets/base",
      "_view_module_version": "1.2.0",
      "_view_name": "LayoutView",
      "align_content": null,
      "align_items": null,
      "align_self": null,
      "border": null,
      "bottom": null,
      "display": null,
      "flex": null,
      "flex_flow": null,
      "grid_area": null,
      "grid_auto_columns": null,
      "grid_auto_flow": null,
      "grid_auto_rows": null,
      "grid_column": null,
      "grid_gap": null,
      "grid_row": null,
      "grid_template_areas": null,
      "grid_template_columns": null,
      "grid_template_rows": null,
      "height": null,
      "justify_content": null,
      "justify_items": null,
      "left": null,
      "margin": null,
      "max_height": null,
      "max_width": null,
      "min_height": null,
      "min_width": null,
      "object_fit": null,
      "object_position": null,
      "order": null,
      "overflow": null,
      "overflow_x": null,
      "overflow_y": null,
      "padding": null,
      "right": null,
      "top": null,
      "visibility": null,
      "width": null
     }
    },
    "4367884572a04499b7c8b3784ff535f4": {
     "model_module": "@jupyter-widgets/controls",
     "model_module_version": "1.5.0",
     "model_name": "FloatProgressModel",
     "state": {
      "_dom_classes": [],
      "_model_module": "@jupyter-widgets/controls",
      "_model_module_version": "1.5.0",
      "_model_name": "FloatProgressModel",
      "_view_count": null,
      "_view_module": "@jupyter-widgets/controls",
      "_view_module_version": "1.5.0",
      "_view_name": "ProgressView",
      "bar_style": "success",
      "description": "",
      "description_tooltip": null,
      "layout": "IPY_MODEL_aa4c9da80275481bb257145394491eb0",
      "max": 120000,
      "min": 0,
      "orientation": "horizontal",
      "style": "IPY_MODEL_75b430332b734ee083f5010689082cbb",
      "value": 120000
     }
    },
    "44b6d37e7e37495885fda153c7b8c121": {
     "model_module": "@jupyter-widgets/controls",
     "model_module_version": "1.5.0",
     "model_name": "HTMLModel",
     "state": {
      "_dom_classes": [],
      "_model_module": "@jupyter-widgets/controls",
      "_model_module_version": "1.5.0",
      "_model_name": "HTMLModel",
      "_view_count": null,
      "_view_module": "@jupyter-widgets/controls",
      "_view_module_version": "1.5.0",
      "_view_name": "HTMLView",
      "description": "",
      "description_tooltip": null,
      "layout": "IPY_MODEL_a444d8f4750f457c8fc501ca35b9d88d",
      "placeholder": "​",
      "style": "IPY_MODEL_71a43759197c4b6abc6f87e75586e534",
      "value": " 3507/25951 [00:00&lt;00:02, 10948.48sent/s]"
     }
    },
    "454dd2970f58472791ff44d1553b8f94": {
     "model_module": "@jupyter-widgets/controls",
     "model_module_version": "1.5.0",
     "model_name": "FloatProgressModel",
     "state": {
      "_dom_classes": [],
      "_model_module": "@jupyter-widgets/controls",
      "_model_module_version": "1.5.0",
      "_model_name": "FloatProgressModel",
      "_view_count": null,
      "_view_module": "@jupyter-widgets/controls",
      "_view_module_version": "1.5.0",
      "_view_name": "ProgressView",
      "bar_style": "danger",
      "description": "",
      "description_tooltip": null,
      "layout": "IPY_MODEL_36c0e5b006464d4282744112847b7262",
      "max": 25951,
      "min": 0,
      "orientation": "horizontal",
      "style": "IPY_MODEL_701cdc6fd044441199c0a0759e3638db",
      "value": 3507
     }
    },
    "458e938604b445c9aa3b5abd87aba55f": {
     "model_module": "@jupyter-widgets/base",
     "model_module_version": "1.2.0",
     "model_name": "LayoutModel",
     "state": {
      "_model_module": "@jupyter-widgets/base",
      "_model_module_version": "1.2.0",
      "_model_name": "LayoutModel",
      "_view_count": null,
      "_view_module": "@jupyter-widgets/base",
      "_view_module_version": "1.2.0",
      "_view_name": "LayoutView",
      "align_content": null,
      "align_items": null,
      "align_self": null,
      "border": null,
      "bottom": null,
      "display": null,
      "flex": null,
      "flex_flow": null,
      "grid_area": null,
      "grid_auto_columns": null,
      "grid_auto_flow": null,
      "grid_auto_rows": null,
      "grid_column": null,
      "grid_gap": null,
      "grid_row": null,
      "grid_template_areas": null,
      "grid_template_columns": null,
      "grid_template_rows": null,
      "height": null,
      "justify_content": null,
      "justify_items": null,
      "left": null,
      "margin": null,
      "max_height": null,
      "max_width": null,
      "min_height": null,
      "min_width": null,
      "object_fit": null,
      "object_position": null,
      "order": null,
      "overflow": null,
      "overflow_x": null,
      "overflow_y": null,
      "padding": null,
      "right": null,
      "top": null,
      "visibility": null,
      "width": null
     }
    },
    "4730bc63592f4e2f920504665ad0ca3f": {
     "model_module": "@jupyter-widgets/base",
     "model_module_version": "1.2.0",
     "model_name": "LayoutModel",
     "state": {
      "_model_module": "@jupyter-widgets/base",
      "_model_module_version": "1.2.0",
      "_model_name": "LayoutModel",
      "_view_count": null,
      "_view_module": "@jupyter-widgets/base",
      "_view_module_version": "1.2.0",
      "_view_name": "LayoutView",
      "align_content": null,
      "align_items": null,
      "align_self": null,
      "border": null,
      "bottom": null,
      "display": null,
      "flex": null,
      "flex_flow": null,
      "grid_area": null,
      "grid_auto_columns": null,
      "grid_auto_flow": null,
      "grid_auto_rows": null,
      "grid_column": null,
      "grid_gap": null,
      "grid_row": null,
      "grid_template_areas": null,
      "grid_template_columns": null,
      "grid_template_rows": null,
      "height": null,
      "justify_content": null,
      "justify_items": null,
      "left": null,
      "margin": null,
      "max_height": null,
      "max_width": null,
      "min_height": null,
      "min_width": null,
      "object_fit": null,
      "object_position": null,
      "order": null,
      "overflow": null,
      "overflow_x": null,
      "overflow_y": null,
      "padding": null,
      "right": null,
      "top": null,
      "visibility": null,
      "width": null
     }
    },
    "4bb45e218eb3455280b8cf88aa86fcff": {
     "model_module": "@jupyter-widgets/controls",
     "model_module_version": "1.5.0",
     "model_name": "ProgressStyleModel",
     "state": {
      "_model_module": "@jupyter-widgets/controls",
      "_model_module_version": "1.5.0",
      "_model_name": "ProgressStyleModel",
      "_view_count": null,
      "_view_module": "@jupyter-widgets/base",
      "_view_module_version": "1.2.0",
      "_view_name": "StyleView",
      "bar_color": null,
      "description_width": ""
     }
    },
    "50a1c650e8c947d5a06388e706cbd4f0": {
     "model_module": "@jupyter-widgets/controls",
     "model_module_version": "1.5.0",
     "model_name": "HTMLModel",
     "state": {
      "_dom_classes": [],
      "_model_module": "@jupyter-widgets/controls",
      "_model_module_version": "1.5.0",
      "_model_name": "HTMLModel",
      "_view_count": null,
      "_view_module": "@jupyter-widgets/controls",
      "_view_module_version": "1.5.0",
      "_view_name": "HTMLView",
      "description": "",
      "description_tooltip": null,
      "layout": "IPY_MODEL_d245c71e3614402988a09cdf120d6e9f",
      "placeholder": "​",
      "style": "IPY_MODEL_da7128214a6345b39fa553b4573cf717",
      "value": "Expanding fragments:  14%"
     }
    },
    "50fc9832ba8a4c4e8a84f79310f11d24": {
     "model_module": "@jupyter-widgets/base",
     "model_module_version": "1.2.0",
     "model_name": "LayoutModel",
     "state": {
      "_model_module": "@jupyter-widgets/base",
      "_model_module_version": "1.2.0",
      "_model_name": "LayoutModel",
      "_view_count": null,
      "_view_module": "@jupyter-widgets/base",
      "_view_module_version": "1.2.0",
      "_view_name": "LayoutView",
      "align_content": null,
      "align_items": null,
      "align_self": null,
      "border": null,
      "bottom": null,
      "display": null,
      "flex": null,
      "flex_flow": null,
      "grid_area": null,
      "grid_auto_columns": null,
      "grid_auto_flow": null,
      "grid_auto_rows": null,
      "grid_column": null,
      "grid_gap": null,
      "grid_row": null,
      "grid_template_areas": null,
      "grid_template_columns": null,
      "grid_template_rows": null,
      "height": null,
      "justify_content": null,
      "justify_items": null,
      "left": null,
      "margin": null,
      "max_height": null,
      "max_width": null,
      "min_height": null,
      "min_width": null,
      "object_fit": null,
      "object_position": null,
      "order": null,
      "overflow": null,
      "overflow_x": null,
      "overflow_y": null,
      "padding": null,
      "right": null,
      "top": null,
      "visibility": null,
      "width": null
     }
    },
    "52997d2927154050973073fdf43de241": {
     "model_module": "@jupyter-widgets/base",
     "model_module_version": "1.2.0",
     "model_name": "LayoutModel",
     "state": {
      "_model_module": "@jupyter-widgets/base",
      "_model_module_version": "1.2.0",
      "_model_name": "LayoutModel",
      "_view_count": null,
      "_view_module": "@jupyter-widgets/base",
      "_view_module_version": "1.2.0",
      "_view_name": "LayoutView",
      "align_content": null,
      "align_items": null,
      "align_self": null,
      "border": null,
      "bottom": null,
      "display": null,
      "flex": null,
      "flex_flow": null,
      "grid_area": null,
      "grid_auto_columns": null,
      "grid_auto_flow": null,
      "grid_auto_rows": null,
      "grid_column": null,
      "grid_gap": null,
      "grid_row": null,
      "grid_template_areas": null,
      "grid_template_columns": null,
      "grid_template_rows": null,
      "height": null,
      "justify_content": null,
      "justify_items": null,
      "left": null,
      "margin": null,
      "max_height": null,
      "max_width": null,
      "min_height": null,
      "min_width": null,
      "object_fit": null,
      "object_position": null,
      "order": null,
      "overflow": null,
      "overflow_x": null,
      "overflow_y": null,
      "padding": null,
      "right": null,
      "top": null,
      "visibility": null,
      "width": null
     }
    },
    "53da13af17434131b71ee753e20a8a79": {
     "model_module": "@jupyter-widgets/controls",
     "model_module_version": "1.5.0",
     "model_name": "DescriptionStyleModel",
     "state": {
      "_model_module": "@jupyter-widgets/controls",
      "_model_module_version": "1.5.0",
      "_model_name": "DescriptionStyleModel",
      "_view_count": null,
      "_view_module": "@jupyter-widgets/base",
      "_view_module_version": "1.2.0",
      "_view_name": "StyleView",
      "description_width": ""
     }
    },
    "569a174f978a47feb1dfdbee20700ee3": {
     "model_module": "@jupyter-widgets/base",
     "model_module_version": "1.2.0",
     "model_name": "LayoutModel",
     "state": {
      "_model_module": "@jupyter-widgets/base",
      "_model_module_version": "1.2.0",
      "_model_name": "LayoutModel",
      "_view_count": null,
      "_view_module": "@jupyter-widgets/base",
      "_view_module_version": "1.2.0",
      "_view_name": "LayoutView",
      "align_content": null,
      "align_items": null,
      "align_self": null,
      "border": null,
      "bottom": null,
      "display": null,
      "flex": null,
      "flex_flow": null,
      "grid_area": null,
      "grid_auto_columns": null,
      "grid_auto_flow": null,
      "grid_auto_rows": null,
      "grid_column": null,
      "grid_gap": null,
      "grid_row": null,
      "grid_template_areas": null,
      "grid_template_columns": null,
      "grid_template_rows": null,
      "height": null,
      "justify_content": null,
      "justify_items": null,
      "left": null,
      "margin": null,
      "max_height": null,
      "max_width": null,
      "min_height": null,
      "min_width": null,
      "object_fit": null,
      "object_position": null,
      "order": null,
      "overflow": null,
      "overflow_x": null,
      "overflow_y": null,
      "padding": null,
      "right": null,
      "top": null,
      "visibility": null,
      "width": null
     }
    },
    "56f9ddb99db048e792c65bd34f206cf2": {
     "model_module": "@jupyter-widgets/base",
     "model_module_version": "1.2.0",
     "model_name": "LayoutModel",
     "state": {
      "_model_module": "@jupyter-widgets/base",
      "_model_module_version": "1.2.0",
      "_model_name": "LayoutModel",
      "_view_count": null,
      "_view_module": "@jupyter-widgets/base",
      "_view_module_version": "1.2.0",
      "_view_name": "LayoutView",
      "align_content": null,
      "align_items": null,
      "align_self": null,
      "border": null,
      "bottom": null,
      "display": null,
      "flex": null,
      "flex_flow": null,
      "grid_area": null,
      "grid_auto_columns": null,
      "grid_auto_flow": null,
      "grid_auto_rows": null,
      "grid_column": null,
      "grid_gap": null,
      "grid_row": null,
      "grid_template_areas": null,
      "grid_template_columns": null,
      "grid_template_rows": null,
      "height": null,
      "justify_content": null,
      "justify_items": null,
      "left": null,
      "margin": null,
      "max_height": null,
      "max_width": null,
      "min_height": null,
      "min_width": null,
      "object_fit": null,
      "object_position": null,
      "order": null,
      "overflow": null,
      "overflow_x": null,
      "overflow_y": null,
      "padding": null,
      "right": null,
      "top": null,
      "visibility": null,
      "width": null
     }
    },
    "59e555f9cb0648d88e5fdce6c92edd16": {
     "model_module": "@jupyter-widgets/base",
     "model_module_version": "1.2.0",
     "model_name": "LayoutModel",
     "state": {
      "_model_module": "@jupyter-widgets/base",
      "_model_module_version": "1.2.0",
      "_model_name": "LayoutModel",
      "_view_count": null,
      "_view_module": "@jupyter-widgets/base",
      "_view_module_version": "1.2.0",
      "_view_name": "LayoutView",
      "align_content": null,
      "align_items": null,
      "align_self": null,
      "border": null,
      "bottom": null,
      "display": null,
      "flex": null,
      "flex_flow": null,
      "grid_area": null,
      "grid_auto_columns": null,
      "grid_auto_flow": null,
      "grid_auto_rows": null,
      "grid_column": null,
      "grid_gap": null,
      "grid_row": null,
      "grid_template_areas": null,
      "grid_template_columns": null,
      "grid_template_rows": null,
      "height": null,
      "justify_content": null,
      "justify_items": null,
      "left": null,
      "margin": null,
      "max_height": null,
      "max_width": null,
      "min_height": null,
      "min_width": null,
      "object_fit": null,
      "object_position": null,
      "order": null,
      "overflow": null,
      "overflow_x": null,
      "overflow_y": null,
      "padding": null,
      "right": null,
      "top": null,
      "visibility": null,
      "width": null
     }
    },
    "5b41a832078c4a12a3421130961e4dfd": {
     "model_module": "@jupyter-widgets/base",
     "model_module_version": "1.2.0",
     "model_name": "LayoutModel",
     "state": {
      "_model_module": "@jupyter-widgets/base",
      "_model_module_version": "1.2.0",
      "_model_name": "LayoutModel",
      "_view_count": null,
      "_view_module": "@jupyter-widgets/base",
      "_view_module_version": "1.2.0",
      "_view_name": "LayoutView",
      "align_content": null,
      "align_items": null,
      "align_self": null,
      "border": null,
      "bottom": null,
      "display": null,
      "flex": null,
      "flex_flow": null,
      "grid_area": null,
      "grid_auto_columns": null,
      "grid_auto_flow": null,
      "grid_auto_rows": null,
      "grid_column": null,
      "grid_gap": null,
      "grid_row": null,
      "grid_template_areas": null,
      "grid_template_columns": null,
      "grid_template_rows": null,
      "height": null,
      "justify_content": null,
      "justify_items": null,
      "left": null,
      "margin": null,
      "max_height": null,
      "max_width": null,
      "min_height": null,
      "min_width": null,
      "object_fit": null,
      "object_position": null,
      "order": null,
      "overflow": null,
      "overflow_x": null,
      "overflow_y": null,
      "padding": null,
      "right": null,
      "top": null,
      "visibility": null,
      "width": null
     }
    },
    "5c0067063d914526a06750cd99dd1a4a": {
     "model_module": "@jupyter-widgets/controls",
     "model_module_version": "1.5.0",
     "model_name": "HBoxModel",
     "state": {
      "_dom_classes": [],
      "_model_module": "@jupyter-widgets/controls",
      "_model_module_version": "1.5.0",
      "_model_name": "HBoxModel",
      "_view_count": null,
      "_view_module": "@jupyter-widgets/controls",
      "_view_module_version": "1.5.0",
      "_view_name": "HBoxView",
      "box_style": "",
      "children": [
       "IPY_MODEL_b8ef3b895aa04023a83d870c9fe77b18",
       "IPY_MODEL_362e742b5e9249f6afdd57850fc84072",
       "IPY_MODEL_97be1b01997c410fa2e2a313e2f78d94"
      ],
      "layout": "IPY_MODEL_b2f6f3ebad4c478ba8ed6b14ab0a6e46"
     }
    },
    "5d278225e1194ae2a4c7561f3af653ee": {
     "model_module": "@jupyter-widgets/controls",
     "model_module_version": "1.5.0",
     "model_name": "DescriptionStyleModel",
     "state": {
      "_model_module": "@jupyter-widgets/controls",
      "_model_module_version": "1.5.0",
      "_model_name": "DescriptionStyleModel",
      "_view_count": null,
      "_view_module": "@jupyter-widgets/base",
      "_view_module_version": "1.2.0",
      "_view_name": "StyleView",
      "description_width": ""
     }
    },
    "60142a70ee1145edbc14208ff14c65e9": {
     "model_module": "@jupyter-widgets/base",
     "model_module_version": "1.2.0",
     "model_name": "LayoutModel",
     "state": {
      "_model_module": "@jupyter-widgets/base",
      "_model_module_version": "1.2.0",
      "_model_name": "LayoutModel",
      "_view_count": null,
      "_view_module": "@jupyter-widgets/base",
      "_view_module_version": "1.2.0",
      "_view_name": "LayoutView",
      "align_content": null,
      "align_items": null,
      "align_self": null,
      "border": null,
      "bottom": null,
      "display": null,
      "flex": null,
      "flex_flow": null,
      "grid_area": null,
      "grid_auto_columns": null,
      "grid_auto_flow": null,
      "grid_auto_rows": null,
      "grid_column": null,
      "grid_gap": null,
      "grid_row": null,
      "grid_template_areas": null,
      "grid_template_columns": null,
      "grid_template_rows": null,
      "height": null,
      "justify_content": null,
      "justify_items": null,
      "left": null,
      "margin": null,
      "max_height": null,
      "max_width": null,
      "min_height": null,
      "min_width": null,
      "object_fit": null,
      "object_position": null,
      "order": null,
      "overflow": null,
      "overflow_x": null,
      "overflow_y": null,
      "padding": null,
      "right": null,
      "top": null,
      "visibility": null,
      "width": null
     }
    },
    "6319977407c44a4dacb80619dbf78400": {
     "model_module": "@jupyter-widgets/controls",
     "model_module_version": "1.5.0",
     "model_name": "HBoxModel",
     "state": {
      "_dom_classes": [],
      "_model_module": "@jupyter-widgets/controls",
      "_model_module_version": "1.5.0",
      "_model_name": "HBoxModel",
      "_view_count": null,
      "_view_module": "@jupyter-widgets/controls",
      "_view_module_version": "1.5.0",
      "_view_name": "HBoxView",
      "box_style": "",
      "children": [
       "IPY_MODEL_6db26fea56244f3180a20d5ac20879e2",
       "IPY_MODEL_a11878ba4884400e912cdc7d6502964a",
       "IPY_MODEL_e23f6403d9b14e9491b24309607eeab4"
      ],
      "layout": "IPY_MODEL_37c42f1ddbf144128e64825b42c1664b"
     }
    },
    "63b742ccdae743bbac2bcb0aa1a6b4be": {
     "model_module": "@jupyter-widgets/controls",
     "model_module_version": "1.5.0",
     "model_name": "DescriptionStyleModel",
     "state": {
      "_model_module": "@jupyter-widgets/controls",
      "_model_module_version": "1.5.0",
      "_model_name": "DescriptionStyleModel",
      "_view_count": null,
      "_view_module": "@jupyter-widgets/base",
      "_view_module_version": "1.2.0",
      "_view_name": "StyleView",
      "description_width": ""
     }
    },
    "63cfb092a2b343758311f7c7af89be05": {
     "model_module": "@jupyter-widgets/controls",
     "model_module_version": "1.5.0",
     "model_name": "DescriptionStyleModel",
     "state": {
      "_model_module": "@jupyter-widgets/controls",
      "_model_module_version": "1.5.0",
      "_model_name": "DescriptionStyleModel",
      "_view_count": null,
      "_view_module": "@jupyter-widgets/base",
      "_view_module_version": "1.2.0",
      "_view_name": "StyleView",
      "description_width": ""
     }
    },
    "664ba25148c847a9a988981336b2e4b1": {
     "model_module": "@jupyter-widgets/controls",
     "model_module_version": "1.5.0",
     "model_name": "HTMLModel",
     "state": {
      "_dom_classes": [],
      "_model_module": "@jupyter-widgets/controls",
      "_model_module_version": "1.5.0",
      "_model_name": "HTMLModel",
      "_view_count": null,
      "_view_module": "@jupyter-widgets/controls",
      "_view_module_version": "1.5.0",
      "_view_name": "HTMLView",
      "description": "",
      "description_tooltip": null,
      "layout": "IPY_MODEL_b2a5512528d942d0a7e79deb75e03cc3",
      "placeholder": "​",
      "style": "IPY_MODEL_2439b71dc2e5434d99ce6233f95b192d",
      "value": " 4324/25951 [00:00&lt;00:02, 9044.22sent/s]"
     }
    },
    "68a1f30f08644a9fb1a71f81eeff44db": {
     "model_module": "@jupyter-widgets/controls",
     "model_module_version": "1.5.0",
     "model_name": "DescriptionStyleModel",
     "state": {
      "_model_module": "@jupyter-widgets/controls",
      "_model_module_version": "1.5.0",
      "_model_name": "DescriptionStyleModel",
      "_view_count": null,
      "_view_module": "@jupyter-widgets/base",
      "_view_module_version": "1.2.0",
      "_view_name": "StyleView",
      "description_width": ""
     }
    },
    "6a488a6df00041c3aa534c2dc91bbd2a": {
     "model_module": "@jupyter-widgets/controls",
     "model_module_version": "1.5.0",
     "model_name": "ProgressStyleModel",
     "state": {
      "_model_module": "@jupyter-widgets/controls",
      "_model_module_version": "1.5.0",
      "_model_name": "ProgressStyleModel",
      "_view_count": null,
      "_view_module": "@jupyter-widgets/base",
      "_view_module_version": "1.2.0",
      "_view_name": "StyleView",
      "bar_color": null,
      "description_width": ""
     }
    },
    "6a854cd9c28c42daa71ffaa2794a8b7a": {
     "model_module": "@jupyter-widgets/controls",
     "model_module_version": "1.5.0",
     "model_name": "DescriptionStyleModel",
     "state": {
      "_model_module": "@jupyter-widgets/controls",
      "_model_module_version": "1.5.0",
      "_model_name": "DescriptionStyleModel",
      "_view_count": null,
      "_view_module": "@jupyter-widgets/base",
      "_view_module_version": "1.2.0",
      "_view_name": "StyleView",
      "description_width": ""
     }
    },
    "6db26fea56244f3180a20d5ac20879e2": {
     "model_module": "@jupyter-widgets/controls",
     "model_module_version": "1.5.0",
     "model_name": "HTMLModel",
     "state": {
      "_dom_classes": [],
      "_model_module": "@jupyter-widgets/controls",
      "_model_module_version": "1.5.0",
      "_model_name": "HTMLModel",
      "_view_count": null,
      "_view_module": "@jupyter-widgets/controls",
      "_view_module_version": "1.5.0",
      "_view_name": "HTMLView",
      "description": "",
      "description_tooltip": null,
      "layout": "IPY_MODEL_1831fcb7c5284ace957d8bd07bce1ab7",
      "placeholder": "​",
      "style": "IPY_MODEL_162d2e1414734eda91bd22e6300c15fb",
      "value": "Expanding fragments:  37%"
     }
    },
    "6ee50d3da2e74590bfb1d2748ca28238": {
     "model_module": "@jupyter-widgets/controls",
     "model_module_version": "1.5.0",
     "model_name": "HTMLModel",
     "state": {
      "_dom_classes": [],
      "_model_module": "@jupyter-widgets/controls",
      "_model_module_version": "1.5.0",
      "_model_name": "HTMLModel",
      "_view_count": null,
      "_view_module": "@jupyter-widgets/controls",
      "_view_module_version": "1.5.0",
      "_view_name": "HTMLView",
      "description": "",
      "description_tooltip": null,
      "layout": "IPY_MODEL_56f9ddb99db048e792c65bd34f206cf2",
      "placeholder": "​",
      "style": "IPY_MODEL_53da13af17434131b71ee753e20a8a79",
      "value": " 4626/25951 [00:00&lt;00:04, 5269.49sent/s]"
     }
    },
    "70163c647e004526b1dc8e18d70d31ce": {
     "model_module": "@jupyter-widgets/controls",
     "model_module_version": "1.5.0",
     "model_name": "DescriptionStyleModel",
     "state": {
      "_model_module": "@jupyter-widgets/controls",
      "_model_module_version": "1.5.0",
      "_model_name": "DescriptionStyleModel",
      "_view_count": null,
      "_view_module": "@jupyter-widgets/base",
      "_view_module_version": "1.2.0",
      "_view_name": "StyleView",
      "description_width": ""
     }
    },
    "701cdc6fd044441199c0a0759e3638db": {
     "model_module": "@jupyter-widgets/controls",
     "model_module_version": "1.5.0",
     "model_name": "ProgressStyleModel",
     "state": {
      "_model_module": "@jupyter-widgets/controls",
      "_model_module_version": "1.5.0",
      "_model_name": "ProgressStyleModel",
      "_view_count": null,
      "_view_module": "@jupyter-widgets/base",
      "_view_module_version": "1.2.0",
      "_view_name": "StyleView",
      "bar_color": null,
      "description_width": ""
     }
    },
    "71a43759197c4b6abc6f87e75586e534": {
     "model_module": "@jupyter-widgets/controls",
     "model_module_version": "1.5.0",
     "model_name": "DescriptionStyleModel",
     "state": {
      "_model_module": "@jupyter-widgets/controls",
      "_model_module_version": "1.5.0",
      "_model_name": "DescriptionStyleModel",
      "_view_count": null,
      "_view_module": "@jupyter-widgets/base",
      "_view_module_version": "1.2.0",
      "_view_name": "StyleView",
      "description_width": ""
     }
    },
    "72f6463fe67a43dfb8869a8b9a7bdb22": {
     "model_module": "@jupyter-widgets/controls",
     "model_module_version": "1.5.0",
     "model_name": "DescriptionStyleModel",
     "state": {
      "_model_module": "@jupyter-widgets/controls",
      "_model_module_version": "1.5.0",
      "_model_name": "DescriptionStyleModel",
      "_view_count": null,
      "_view_module": "@jupyter-widgets/base",
      "_view_module_version": "1.2.0",
      "_view_name": "StyleView",
      "description_width": ""
     }
    },
    "752b09257d43426492b3a4b98ef3729c": {
     "model_module": "@jupyter-widgets/controls",
     "model_module_version": "1.5.0",
     "model_name": "HTMLModel",
     "state": {
      "_dom_classes": [],
      "_model_module": "@jupyter-widgets/controls",
      "_model_module_version": "1.5.0",
      "_model_name": "HTMLModel",
      "_view_count": null,
      "_view_module": "@jupyter-widgets/controls",
      "_view_module_version": "1.5.0",
      "_view_name": "HTMLView",
      "description": "",
      "description_tooltip": null,
      "layout": "IPY_MODEL_f23362c624a74d719e9dc73050df6625",
      "placeholder": "​",
      "style": "IPY_MODEL_dc02314851014ce49096fe8f6c99c02e",
      "value": "Processing sentences: 100%"
     }
    },
    "75b430332b734ee083f5010689082cbb": {
     "model_module": "@jupyter-widgets/controls",
     "model_module_version": "1.5.0",
     "model_name": "ProgressStyleModel",
     "state": {
      "_model_module": "@jupyter-widgets/controls",
      "_model_module_version": "1.5.0",
      "_model_name": "ProgressStyleModel",
      "_view_count": null,
      "_view_module": "@jupyter-widgets/base",
      "_view_module_version": "1.2.0",
      "_view_name": "StyleView",
      "bar_color": null,
      "description_width": ""
     }
    },
    "77751aa5c2f945e0a9550d074e19343c": {
     "model_module": "@jupyter-widgets/controls",
     "model_module_version": "1.5.0",
     "model_name": "FloatProgressModel",
     "state": {
      "_dom_classes": [],
      "_model_module": "@jupyter-widgets/controls",
      "_model_module_version": "1.5.0",
      "_model_name": "FloatProgressModel",
      "_view_count": null,
      "_view_module": "@jupyter-widgets/controls",
      "_view_module_version": "1.5.0",
      "_view_name": "ProgressView",
      "bar_style": "danger",
      "description": "",
      "description_tooltip": null,
      "layout": "IPY_MODEL_458e938604b445c9aa3b5abd87aba55f",
      "max": 25951,
      "min": 0,
      "orientation": "horizontal",
      "style": "IPY_MODEL_d26c94c0354d4ce88be732d282b7685a",
      "value": 4098
     }
    },
    "78e60995b44549b8b232da517875cc7c": {
     "model_module": "@jupyter-widgets/base",
     "model_module_version": "1.2.0",
     "model_name": "LayoutModel",
     "state": {
      "_model_module": "@jupyter-widgets/base",
      "_model_module_version": "1.2.0",
      "_model_name": "LayoutModel",
      "_view_count": null,
      "_view_module": "@jupyter-widgets/base",
      "_view_module_version": "1.2.0",
      "_view_name": "LayoutView",
      "align_content": null,
      "align_items": null,
      "align_self": null,
      "border": null,
      "bottom": null,
      "display": null,
      "flex": null,
      "flex_flow": null,
      "grid_area": null,
      "grid_auto_columns": null,
      "grid_auto_flow": null,
      "grid_auto_rows": null,
      "grid_column": null,
      "grid_gap": null,
      "grid_row": null,
      "grid_template_areas": null,
      "grid_template_columns": null,
      "grid_template_rows": null,
      "height": null,
      "justify_content": null,
      "justify_items": null,
      "left": null,
      "margin": null,
      "max_height": null,
      "max_width": null,
      "min_height": null,
      "min_width": null,
      "object_fit": null,
      "object_position": null,
      "order": null,
      "overflow": null,
      "overflow_x": null,
      "overflow_y": null,
      "padding": null,
      "right": null,
      "top": null,
      "visibility": null,
      "width": null
     }
    },
    "7b7ddb1d7e02419493a3a8525e556037": {
     "model_module": "@jupyter-widgets/controls",
     "model_module_version": "1.5.0",
     "model_name": "ProgressStyleModel",
     "state": {
      "_model_module": "@jupyter-widgets/controls",
      "_model_module_version": "1.5.0",
      "_model_name": "ProgressStyleModel",
      "_view_count": null,
      "_view_module": "@jupyter-widgets/base",
      "_view_module_version": "1.2.0",
      "_view_name": "StyleView",
      "bar_color": null,
      "description_width": ""
     }
    },
    "7c4b1bfb32a346caa8d8c4f112f84824": {
     "model_module": "@jupyter-widgets/controls",
     "model_module_version": "1.5.0",
     "model_name": "ProgressStyleModel",
     "state": {
      "_model_module": "@jupyter-widgets/controls",
      "_model_module_version": "1.5.0",
      "_model_name": "ProgressStyleModel",
      "_view_count": null,
      "_view_module": "@jupyter-widgets/base",
      "_view_module_version": "1.2.0",
      "_view_name": "StyleView",
      "bar_color": null,
      "description_width": ""
     }
    },
    "8162baa25c5a494eae1fc228703cd608": {
     "model_module": "@jupyter-widgets/controls",
     "model_module_version": "1.5.0",
     "model_name": "HTMLModel",
     "state": {
      "_dom_classes": [],
      "_model_module": "@jupyter-widgets/controls",
      "_model_module_version": "1.5.0",
      "_model_name": "HTMLModel",
      "_view_count": null,
      "_view_module": "@jupyter-widgets/controls",
      "_view_module_version": "1.5.0",
      "_view_name": "HTMLView",
      "description": "",
      "description_tooltip": null,
      "layout": "IPY_MODEL_569a174f978a47feb1dfdbee20700ee3",
      "placeholder": "​",
      "style": "IPY_MODEL_6a854cd9c28c42daa71ffaa2794a8b7a",
      "value": "Expanding fragments:  18%"
     }
    },
    "833d28a86b9b4f53ac1d313d9f881218": {
     "model_module": "@jupyter-widgets/base",
     "model_module_version": "1.2.0",
     "model_name": "LayoutModel",
     "state": {
      "_model_module": "@jupyter-widgets/base",
      "_model_module_version": "1.2.0",
      "_model_name": "LayoutModel",
      "_view_count": null,
      "_view_module": "@jupyter-widgets/base",
      "_view_module_version": "1.2.0",
      "_view_name": "LayoutView",
      "align_content": null,
      "align_items": null,
      "align_self": null,
      "border": null,
      "bottom": null,
      "display": null,
      "flex": null,
      "flex_flow": null,
      "grid_area": null,
      "grid_auto_columns": null,
      "grid_auto_flow": null,
      "grid_auto_rows": null,
      "grid_column": null,
      "grid_gap": null,
      "grid_row": null,
      "grid_template_areas": null,
      "grid_template_columns": null,
      "grid_template_rows": null,
      "height": null,
      "justify_content": null,
      "justify_items": null,
      "left": null,
      "margin": null,
      "max_height": null,
      "max_width": null,
      "min_height": null,
      "min_width": null,
      "object_fit": null,
      "object_position": null,
      "order": null,
      "overflow": null,
      "overflow_x": null,
      "overflow_y": null,
      "padding": null,
      "right": null,
      "top": null,
      "visibility": null,
      "width": null
     }
    },
    "8457710c7a10493db6afd71ccc5d8b14": {
     "model_module": "@jupyter-widgets/controls",
     "model_module_version": "1.5.0",
     "model_name": "HBoxModel",
     "state": {
      "_dom_classes": [],
      "_model_module": "@jupyter-widgets/controls",
      "_model_module_version": "1.5.0",
      "_model_name": "HBoxModel",
      "_view_count": null,
      "_view_module": "@jupyter-widgets/controls",
      "_view_module_version": "1.5.0",
      "_view_name": "HBoxView",
      "box_style": "",
      "children": [
       "IPY_MODEL_50a1c650e8c947d5a06388e706cbd4f0",
       "IPY_MODEL_454dd2970f58472791ff44d1553b8f94",
       "IPY_MODEL_44b6d37e7e37495885fda153c7b8c121"
      ],
      "layout": "IPY_MODEL_52997d2927154050973073fdf43de241"
     }
    },
    "8466aa18036e4e51b3d50ceebd875dff": {
     "model_module": "@jupyter-widgets/controls",
     "model_module_version": "1.5.0",
     "model_name": "HBoxModel",
     "state": {
      "_dom_classes": [],
      "_model_module": "@jupyter-widgets/controls",
      "_model_module_version": "1.5.0",
      "_model_name": "HBoxModel",
      "_view_count": null,
      "_view_module": "@jupyter-widgets/controls",
      "_view_module_version": "1.5.0",
      "_view_name": "HBoxView",
      "box_style": "",
      "children": [
       "IPY_MODEL_752b09257d43426492b3a4b98ef3729c",
       "IPY_MODEL_be9113be4eab40a086a0f34084166f18",
       "IPY_MODEL_b9cc63e3a7dd40658cec8c5b83fb3e87"
      ],
      "layout": "IPY_MODEL_f11bb06ebfed4ff89a647b508198fb75"
     }
    },
    "8572e7fb43f7484cb495375777ab6cfc": {
     "model_module": "@jupyter-widgets/controls",
     "model_module_version": "1.5.0",
     "model_name": "FloatProgressModel",
     "state": {
      "_dom_classes": [],
      "_model_module": "@jupyter-widgets/controls",
      "_model_module_version": "1.5.0",
      "_model_name": "FloatProgressModel",
      "_view_count": null,
      "_view_module": "@jupyter-widgets/controls",
      "_view_module_version": "1.5.0",
      "_view_name": "ProgressView",
      "bar_style": "danger",
      "description": "",
      "description_tooltip": null,
      "layout": "IPY_MODEL_833d28a86b9b4f53ac1d313d9f881218",
      "max": 25951,
      "min": 0,
      "orientation": "horizontal",
      "style": "IPY_MODEL_3e62aa5d5f294004a79796d3b096ddc5",
      "value": 3932
     }
    },
    "8b6c5befc37f44af954efbc022b83309": {
     "model_module": "@jupyter-widgets/base",
     "model_module_version": "1.2.0",
     "model_name": "LayoutModel",
     "state": {
      "_model_module": "@jupyter-widgets/base",
      "_model_module_version": "1.2.0",
      "_model_name": "LayoutModel",
      "_view_count": null,
      "_view_module": "@jupyter-widgets/base",
      "_view_module_version": "1.2.0",
      "_view_name": "LayoutView",
      "align_content": null,
      "align_items": null,
      "align_self": null,
      "border": null,
      "bottom": null,
      "display": null,
      "flex": null,
      "flex_flow": null,
      "grid_area": null,
      "grid_auto_columns": null,
      "grid_auto_flow": null,
      "grid_auto_rows": null,
      "grid_column": null,
      "grid_gap": null,
      "grid_row": null,
      "grid_template_areas": null,
      "grid_template_columns": null,
      "grid_template_rows": null,
      "height": null,
      "justify_content": null,
      "justify_items": null,
      "left": null,
      "margin": null,
      "max_height": null,
      "max_width": null,
      "min_height": null,
      "min_width": null,
      "object_fit": null,
      "object_position": null,
      "order": null,
      "overflow": null,
      "overflow_x": null,
      "overflow_y": null,
      "padding": null,
      "right": null,
      "top": null,
      "visibility": null,
      "width": null
     }
    },
    "8b7f5626e3ee4980874da433e2239a0c": {
     "model_module": "@jupyter-widgets/base",
     "model_module_version": "1.2.0",
     "model_name": "LayoutModel",
     "state": {
      "_model_module": "@jupyter-widgets/base",
      "_model_module_version": "1.2.0",
      "_model_name": "LayoutModel",
      "_view_count": null,
      "_view_module": "@jupyter-widgets/base",
      "_view_module_version": "1.2.0",
      "_view_name": "LayoutView",
      "align_content": null,
      "align_items": null,
      "align_self": null,
      "border": null,
      "bottom": null,
      "display": null,
      "flex": null,
      "flex_flow": null,
      "grid_area": null,
      "grid_auto_columns": null,
      "grid_auto_flow": null,
      "grid_auto_rows": null,
      "grid_column": null,
      "grid_gap": null,
      "grid_row": null,
      "grid_template_areas": null,
      "grid_template_columns": null,
      "grid_template_rows": null,
      "height": null,
      "justify_content": null,
      "justify_items": null,
      "left": null,
      "margin": null,
      "max_height": null,
      "max_width": null,
      "min_height": null,
      "min_width": null,
      "object_fit": null,
      "object_position": null,
      "order": null,
      "overflow": null,
      "overflow_x": null,
      "overflow_y": null,
      "padding": null,
      "right": null,
      "top": null,
      "visibility": null,
      "width": null
     }
    },
    "8e61278779b9411687c4a8727de4b7db": {
     "model_module": "@jupyter-widgets/base",
     "model_module_version": "1.2.0",
     "model_name": "LayoutModel",
     "state": {
      "_model_module": "@jupyter-widgets/base",
      "_model_module_version": "1.2.0",
      "_model_name": "LayoutModel",
      "_view_count": null,
      "_view_module": "@jupyter-widgets/base",
      "_view_module_version": "1.2.0",
      "_view_name": "LayoutView",
      "align_content": null,
      "align_items": null,
      "align_self": null,
      "border": null,
      "bottom": null,
      "display": null,
      "flex": null,
      "flex_flow": null,
      "grid_area": null,
      "grid_auto_columns": null,
      "grid_auto_flow": null,
      "grid_auto_rows": null,
      "grid_column": null,
      "grid_gap": null,
      "grid_row": null,
      "grid_template_areas": null,
      "grid_template_columns": null,
      "grid_template_rows": null,
      "height": null,
      "justify_content": null,
      "justify_items": null,
      "left": null,
      "margin": null,
      "max_height": null,
      "max_width": null,
      "min_height": null,
      "min_width": null,
      "object_fit": null,
      "object_position": null,
      "order": null,
      "overflow": null,
      "overflow_x": null,
      "overflow_y": null,
      "padding": null,
      "right": null,
      "top": null,
      "visibility": null,
      "width": null
     }
    },
    "8f2afcc53282470bb051375f620429cc": {
     "model_module": "@jupyter-widgets/controls",
     "model_module_version": "1.5.0",
     "model_name": "HTMLModel",
     "state": {
      "_dom_classes": [],
      "_model_module": "@jupyter-widgets/controls",
      "_model_module_version": "1.5.0",
      "_model_name": "HTMLModel",
      "_view_count": null,
      "_view_module": "@jupyter-widgets/controls",
      "_view_module_version": "1.5.0",
      "_view_name": "HTMLView",
      "description": "",
      "description_tooltip": null,
      "layout": "IPY_MODEL_d1a281b683e5461c93b71a384a2e57fc",
      "placeholder": "​",
      "style": "IPY_MODEL_72f6463fe67a43dfb8869a8b9a7bdb22",
      "value": " 3588/25951 [00:00&lt;00:02, 10625.53sent/s]"
     }
    },
    "97be1b01997c410fa2e2a313e2f78d94": {
     "model_module": "@jupyter-widgets/controls",
     "model_module_version": "1.5.0",
     "model_name": "HTMLModel",
     "state": {
      "_dom_classes": [],
      "_model_module": "@jupyter-widgets/controls",
      "_model_module_version": "1.5.0",
      "_model_name": "HTMLModel",
      "_view_count": null,
      "_view_module": "@jupyter-widgets/controls",
      "_view_module_version": "1.5.0",
      "_view_name": "HTMLView",
      "description": "",
      "description_tooltip": null,
      "layout": "IPY_MODEL_d49a5561390e4a21abe673a385861f61",
      "placeholder": "​",
      "style": "IPY_MODEL_9eb100144ada406d8dd5950b224c6c5f",
      "value": " 3676/25951 [00:00&lt;00:02, 9957.77sent/s]"
     }
    },
    "9bdc4ad6f1774ee0b18ceecbc9a55022": {
     "model_module": "@jupyter-widgets/base",
     "model_module_version": "1.2.0",
     "model_name": "LayoutModel",
     "state": {
      "_model_module": "@jupyter-widgets/base",
      "_model_module_version": "1.2.0",
      "_model_name": "LayoutModel",
      "_view_count": null,
      "_view_module": "@jupyter-widgets/base",
      "_view_module_version": "1.2.0",
      "_view_name": "LayoutView",
      "align_content": null,
      "align_items": null,
      "align_self": null,
      "border": null,
      "bottom": null,
      "display": null,
      "flex": null,
      "flex_flow": null,
      "grid_area": null,
      "grid_auto_columns": null,
      "grid_auto_flow": null,
      "grid_auto_rows": null,
      "grid_column": null,
      "grid_gap": null,
      "grid_row": null,
      "grid_template_areas": null,
      "grid_template_columns": null,
      "grid_template_rows": null,
      "height": null,
      "justify_content": null,
      "justify_items": null,
      "left": null,
      "margin": null,
      "max_height": null,
      "max_width": null,
      "min_height": null,
      "min_width": null,
      "object_fit": null,
      "object_position": null,
      "order": null,
      "overflow": null,
      "overflow_x": null,
      "overflow_y": null,
      "padding": null,
      "right": null,
      "top": null,
      "visibility": null,
      "width": null
     }
    },
    "9eb100144ada406d8dd5950b224c6c5f": {
     "model_module": "@jupyter-widgets/controls",
     "model_module_version": "1.5.0",
     "model_name": "DescriptionStyleModel",
     "state": {
      "_model_module": "@jupyter-widgets/controls",
      "_model_module_version": "1.5.0",
      "_model_name": "DescriptionStyleModel",
      "_view_count": null,
      "_view_module": "@jupyter-widgets/base",
      "_view_module_version": "1.2.0",
      "_view_name": "StyleView",
      "description_width": ""
     }
    },
    "a09305b4c0684b09bc46e1e211be3f3b": {
     "model_module": "@jupyter-widgets/controls",
     "model_module_version": "1.5.0",
     "model_name": "ProgressStyleModel",
     "state": {
      "_model_module": "@jupyter-widgets/controls",
      "_model_module_version": "1.5.0",
      "_model_name": "ProgressStyleModel",
      "_view_count": null,
      "_view_module": "@jupyter-widgets/base",
      "_view_module_version": "1.2.0",
      "_view_name": "StyleView",
      "bar_color": null,
      "description_width": ""
     }
    },
    "a11878ba4884400e912cdc7d6502964a": {
     "model_module": "@jupyter-widgets/controls",
     "model_module_version": "1.5.0",
     "model_name": "FloatProgressModel",
     "state": {
      "_dom_classes": [],
      "_model_module": "@jupyter-widgets/controls",
      "_model_module_version": "1.5.0",
      "_model_name": "FloatProgressModel",
      "_view_count": null,
      "_view_module": "@jupyter-widgets/controls",
      "_view_module_version": "1.5.0",
      "_view_name": "ProgressView",
      "bar_style": "danger",
      "description": "",
      "description_tooltip": null,
      "layout": "IPY_MODEL_8e61278779b9411687c4a8727de4b7db",
      "max": 105876,
      "min": 0,
      "orientation": "horizontal",
      "style": "IPY_MODEL_a09305b4c0684b09bc46e1e211be3f3b",
      "value": 39486
     }
    },
    "a147d22c3cbb41baa03a05ea1e5ab1cf": {
     "model_module": "@jupyter-widgets/base",
     "model_module_version": "1.2.0",
     "model_name": "LayoutModel",
     "state": {
      "_model_module": "@jupyter-widgets/base",
      "_model_module_version": "1.2.0",
      "_model_name": "LayoutModel",
      "_view_count": null,
      "_view_module": "@jupyter-widgets/base",
      "_view_module_version": "1.2.0",
      "_view_name": "LayoutView",
      "align_content": null,
      "align_items": null,
      "align_self": null,
      "border": null,
      "bottom": null,
      "display": null,
      "flex": null,
      "flex_flow": null,
      "grid_area": null,
      "grid_auto_columns": null,
      "grid_auto_flow": null,
      "grid_auto_rows": null,
      "grid_column": null,
      "grid_gap": null,
      "grid_row": null,
      "grid_template_areas": null,
      "grid_template_columns": null,
      "grid_template_rows": null,
      "height": null,
      "justify_content": null,
      "justify_items": null,
      "left": null,
      "margin": null,
      "max_height": null,
      "max_width": null,
      "min_height": null,
      "min_width": null,
      "object_fit": null,
      "object_position": null,
      "order": null,
      "overflow": null,
      "overflow_x": null,
      "overflow_y": null,
      "padding": null,
      "right": null,
      "top": null,
      "visibility": null,
      "width": null
     }
    },
    "a2bfaf565da645fe8491a91fe5566d3a": {
     "model_module": "@jupyter-widgets/base",
     "model_module_version": "1.2.0",
     "model_name": "LayoutModel",
     "state": {
      "_model_module": "@jupyter-widgets/base",
      "_model_module_version": "1.2.0",
      "_model_name": "LayoutModel",
      "_view_count": null,
      "_view_module": "@jupyter-widgets/base",
      "_view_module_version": "1.2.0",
      "_view_name": "LayoutView",
      "align_content": null,
      "align_items": null,
      "align_self": null,
      "border": null,
      "bottom": null,
      "display": null,
      "flex": null,
      "flex_flow": null,
      "grid_area": null,
      "grid_auto_columns": null,
      "grid_auto_flow": null,
      "grid_auto_rows": null,
      "grid_column": null,
      "grid_gap": null,
      "grid_row": null,
      "grid_template_areas": null,
      "grid_template_columns": null,
      "grid_template_rows": null,
      "height": null,
      "justify_content": null,
      "justify_items": null,
      "left": null,
      "margin": null,
      "max_height": null,
      "max_width": null,
      "min_height": null,
      "min_width": null,
      "object_fit": null,
      "object_position": null,
      "order": null,
      "overflow": null,
      "overflow_x": null,
      "overflow_y": null,
      "padding": null,
      "right": null,
      "top": null,
      "visibility": null,
      "width": null
     }
    },
    "a444d8f4750f457c8fc501ca35b9d88d": {
     "model_module": "@jupyter-widgets/base",
     "model_module_version": "1.2.0",
     "model_name": "LayoutModel",
     "state": {
      "_model_module": "@jupyter-widgets/base",
      "_model_module_version": "1.2.0",
      "_model_name": "LayoutModel",
      "_view_count": null,
      "_view_module": "@jupyter-widgets/base",
      "_view_module_version": "1.2.0",
      "_view_name": "LayoutView",
      "align_content": null,
      "align_items": null,
      "align_self": null,
      "border": null,
      "bottom": null,
      "display": null,
      "flex": null,
      "flex_flow": null,
      "grid_area": null,
      "grid_auto_columns": null,
      "grid_auto_flow": null,
      "grid_auto_rows": null,
      "grid_column": null,
      "grid_gap": null,
      "grid_row": null,
      "grid_template_areas": null,
      "grid_template_columns": null,
      "grid_template_rows": null,
      "height": null,
      "justify_content": null,
      "justify_items": null,
      "left": null,
      "margin": null,
      "max_height": null,
      "max_width": null,
      "min_height": null,
      "min_width": null,
      "object_fit": null,
      "object_position": null,
      "order": null,
      "overflow": null,
      "overflow_x": null,
      "overflow_y": null,
      "padding": null,
      "right": null,
      "top": null,
      "visibility": null,
      "width": null
     }
    },
    "a458afd5d69f43328cbbe8e1d005a71f": {
     "model_module": "@jupyter-widgets/controls",
     "model_module_version": "1.5.0",
     "model_name": "HBoxModel",
     "state": {
      "_dom_classes": [],
      "_model_module": "@jupyter-widgets/controls",
      "_model_module_version": "1.5.0",
      "_model_name": "HBoxModel",
      "_view_count": null,
      "_view_module": "@jupyter-widgets/controls",
      "_view_module_version": "1.5.0",
      "_view_name": "HBoxView",
      "box_style": "",
      "children": [
       "IPY_MODEL_0bf88ae43985462fbeb5f9fe3c0d4340",
       "IPY_MODEL_f92ff35dde9d47a99136aa6d8178cf77",
       "IPY_MODEL_3fabc31065674e3cb2a1eef8cd74640f"
      ],
      "layout": "IPY_MODEL_a878c8b0e72442a383730deae8daa76d"
     }
    },
    "a5a62fe5ecf84c6d9456dc0eeb0ce152": {
     "model_module": "@jupyter-widgets/base",
     "model_module_version": "1.2.0",
     "model_name": "LayoutModel",
     "state": {
      "_model_module": "@jupyter-widgets/base",
      "_model_module_version": "1.2.0",
      "_model_name": "LayoutModel",
      "_view_count": null,
      "_view_module": "@jupyter-widgets/base",
      "_view_module_version": "1.2.0",
      "_view_name": "LayoutView",
      "align_content": null,
      "align_items": null,
      "align_self": null,
      "border": null,
      "bottom": null,
      "display": null,
      "flex": null,
      "flex_flow": null,
      "grid_area": null,
      "grid_auto_columns": null,
      "grid_auto_flow": null,
      "grid_auto_rows": null,
      "grid_column": null,
      "grid_gap": null,
      "grid_row": null,
      "grid_template_areas": null,
      "grid_template_columns": null,
      "grid_template_rows": null,
      "height": null,
      "justify_content": null,
      "justify_items": null,
      "left": null,
      "margin": null,
      "max_height": null,
      "max_width": null,
      "min_height": null,
      "min_width": null,
      "object_fit": null,
      "object_position": null,
      "order": null,
      "overflow": null,
      "overflow_x": null,
      "overflow_y": null,
      "padding": null,
      "right": null,
      "top": null,
      "visibility": null,
      "width": null
     }
    },
    "a878c8b0e72442a383730deae8daa76d": {
     "model_module": "@jupyter-widgets/base",
     "model_module_version": "1.2.0",
     "model_name": "LayoutModel",
     "state": {
      "_model_module": "@jupyter-widgets/base",
      "_model_module_version": "1.2.0",
      "_model_name": "LayoutModel",
      "_view_count": null,
      "_view_module": "@jupyter-widgets/base",
      "_view_module_version": "1.2.0",
      "_view_name": "LayoutView",
      "align_content": null,
      "align_items": null,
      "align_self": null,
      "border": null,
      "bottom": null,
      "display": null,
      "flex": null,
      "flex_flow": null,
      "grid_area": null,
      "grid_auto_columns": null,
      "grid_auto_flow": null,
      "grid_auto_rows": null,
      "grid_column": null,
      "grid_gap": null,
      "grid_row": null,
      "grid_template_areas": null,
      "grid_template_columns": null,
      "grid_template_rows": null,
      "height": null,
      "justify_content": null,
      "justify_items": null,
      "left": null,
      "margin": null,
      "max_height": null,
      "max_width": null,
      "min_height": null,
      "min_width": null,
      "object_fit": null,
      "object_position": null,
      "order": null,
      "overflow": null,
      "overflow_x": null,
      "overflow_y": null,
      "padding": null,
      "right": null,
      "top": null,
      "visibility": null,
      "width": null
     }
    },
    "aa4c9da80275481bb257145394491eb0": {
     "model_module": "@jupyter-widgets/base",
     "model_module_version": "1.2.0",
     "model_name": "LayoutModel",
     "state": {
      "_model_module": "@jupyter-widgets/base",
      "_model_module_version": "1.2.0",
      "_model_name": "LayoutModel",
      "_view_count": null,
      "_view_module": "@jupyter-widgets/base",
      "_view_module_version": "1.2.0",
      "_view_name": "LayoutView",
      "align_content": null,
      "align_items": null,
      "align_self": null,
      "border": null,
      "bottom": null,
      "display": null,
      "flex": null,
      "flex_flow": null,
      "grid_area": null,
      "grid_auto_columns": null,
      "grid_auto_flow": null,
      "grid_auto_rows": null,
      "grid_column": null,
      "grid_gap": null,
      "grid_row": null,
      "grid_template_areas": null,
      "grid_template_columns": null,
      "grid_template_rows": null,
      "height": null,
      "justify_content": null,
      "justify_items": null,
      "left": null,
      "margin": null,
      "max_height": null,
      "max_width": null,
      "min_height": null,
      "min_width": null,
      "object_fit": null,
      "object_position": null,
      "order": null,
      "overflow": null,
      "overflow_x": null,
      "overflow_y": null,
      "padding": null,
      "right": null,
      "top": null,
      "visibility": null,
      "width": null
     }
    },
    "b053575bee544e94a6d32638de528008": {
     "model_module": "@jupyter-widgets/controls",
     "model_module_version": "1.5.0",
     "model_name": "HBoxModel",
     "state": {
      "_dom_classes": [],
      "_model_module": "@jupyter-widgets/controls",
      "_model_module_version": "1.5.0",
      "_model_name": "HBoxModel",
      "_view_count": null,
      "_view_module": "@jupyter-widgets/controls",
      "_view_module_version": "1.5.0",
      "_view_name": "HBoxView",
      "box_style": "",
      "children": [
       "IPY_MODEL_184a7ecb168046d483ae8f9308a8a28a",
       "IPY_MODEL_4367884572a04499b7c8b3784ff535f4",
       "IPY_MODEL_3e8492f673a647efb2e6f16752436cb4"
      ],
      "layout": "IPY_MODEL_60142a70ee1145edbc14208ff14c65e9"
     }
    },
    "b07db48d5abd452689717ef5db90928a": {
     "model_module": "@jupyter-widgets/controls",
     "model_module_version": "1.5.0",
     "model_name": "ProgressStyleModel",
     "state": {
      "_model_module": "@jupyter-widgets/controls",
      "_model_module_version": "1.5.0",
      "_model_name": "ProgressStyleModel",
      "_view_count": null,
      "_view_module": "@jupyter-widgets/base",
      "_view_module_version": "1.2.0",
      "_view_name": "StyleView",
      "bar_color": null,
      "description_width": ""
     }
    },
    "b1ef67dae7ff4716813df15880d0f448": {
     "model_module": "@jupyter-widgets/base",
     "model_module_version": "1.2.0",
     "model_name": "LayoutModel",
     "state": {
      "_model_module": "@jupyter-widgets/base",
      "_model_module_version": "1.2.0",
      "_model_name": "LayoutModel",
      "_view_count": null,
      "_view_module": "@jupyter-widgets/base",
      "_view_module_version": "1.2.0",
      "_view_name": "LayoutView",
      "align_content": null,
      "align_items": null,
      "align_self": null,
      "border": null,
      "bottom": null,
      "display": null,
      "flex": null,
      "flex_flow": null,
      "grid_area": null,
      "grid_auto_columns": null,
      "grid_auto_flow": null,
      "grid_auto_rows": null,
      "grid_column": null,
      "grid_gap": null,
      "grid_row": null,
      "grid_template_areas": null,
      "grid_template_columns": null,
      "grid_template_rows": null,
      "height": null,
      "justify_content": null,
      "justify_items": null,
      "left": null,
      "margin": null,
      "max_height": null,
      "max_width": null,
      "min_height": null,
      "min_width": null,
      "object_fit": null,
      "object_position": null,
      "order": null,
      "overflow": null,
      "overflow_x": null,
      "overflow_y": null,
      "padding": null,
      "right": null,
      "top": null,
      "visibility": null,
      "width": null
     }
    },
    "b2a5512528d942d0a7e79deb75e03cc3": {
     "model_module": "@jupyter-widgets/base",
     "model_module_version": "1.2.0",
     "model_name": "LayoutModel",
     "state": {
      "_model_module": "@jupyter-widgets/base",
      "_model_module_version": "1.2.0",
      "_model_name": "LayoutModel",
      "_view_count": null,
      "_view_module": "@jupyter-widgets/base",
      "_view_module_version": "1.2.0",
      "_view_name": "LayoutView",
      "align_content": null,
      "align_items": null,
      "align_self": null,
      "border": null,
      "bottom": null,
      "display": null,
      "flex": null,
      "flex_flow": null,
      "grid_area": null,
      "grid_auto_columns": null,
      "grid_auto_flow": null,
      "grid_auto_rows": null,
      "grid_column": null,
      "grid_gap": null,
      "grid_row": null,
      "grid_template_areas": null,
      "grid_template_columns": null,
      "grid_template_rows": null,
      "height": null,
      "justify_content": null,
      "justify_items": null,
      "left": null,
      "margin": null,
      "max_height": null,
      "max_width": null,
      "min_height": null,
      "min_width": null,
      "object_fit": null,
      "object_position": null,
      "order": null,
      "overflow": null,
      "overflow_x": null,
      "overflow_y": null,
      "padding": null,
      "right": null,
      "top": null,
      "visibility": null,
      "width": null
     }
    },
    "b2f6f3ebad4c478ba8ed6b14ab0a6e46": {
     "model_module": "@jupyter-widgets/base",
     "model_module_version": "1.2.0",
     "model_name": "LayoutModel",
     "state": {
      "_model_module": "@jupyter-widgets/base",
      "_model_module_version": "1.2.0",
      "_model_name": "LayoutModel",
      "_view_count": null,
      "_view_module": "@jupyter-widgets/base",
      "_view_module_version": "1.2.0",
      "_view_name": "LayoutView",
      "align_content": null,
      "align_items": null,
      "align_self": null,
      "border": null,
      "bottom": null,
      "display": null,
      "flex": null,
      "flex_flow": null,
      "grid_area": null,
      "grid_auto_columns": null,
      "grid_auto_flow": null,
      "grid_auto_rows": null,
      "grid_column": null,
      "grid_gap": null,
      "grid_row": null,
      "grid_template_areas": null,
      "grid_template_columns": null,
      "grid_template_rows": null,
      "height": null,
      "justify_content": null,
      "justify_items": null,
      "left": null,
      "margin": null,
      "max_height": null,
      "max_width": null,
      "min_height": null,
      "min_width": null,
      "object_fit": null,
      "object_position": null,
      "order": null,
      "overflow": null,
      "overflow_x": null,
      "overflow_y": null,
      "padding": null,
      "right": null,
      "top": null,
      "visibility": null,
      "width": null
     }
    },
    "b35b75935810496da3f9633b20927b86": {
     "model_module": "@jupyter-widgets/base",
     "model_module_version": "1.2.0",
     "model_name": "LayoutModel",
     "state": {
      "_model_module": "@jupyter-widgets/base",
      "_model_module_version": "1.2.0",
      "_model_name": "LayoutModel",
      "_view_count": null,
      "_view_module": "@jupyter-widgets/base",
      "_view_module_version": "1.2.0",
      "_view_name": "LayoutView",
      "align_content": null,
      "align_items": null,
      "align_self": null,
      "border": null,
      "bottom": null,
      "display": null,
      "flex": null,
      "flex_flow": null,
      "grid_area": null,
      "grid_auto_columns": null,
      "grid_auto_flow": null,
      "grid_auto_rows": null,
      "grid_column": null,
      "grid_gap": null,
      "grid_row": null,
      "grid_template_areas": null,
      "grid_template_columns": null,
      "grid_template_rows": null,
      "height": null,
      "justify_content": null,
      "justify_items": null,
      "left": null,
      "margin": null,
      "max_height": null,
      "max_width": null,
      "min_height": null,
      "min_width": null,
      "object_fit": null,
      "object_position": null,
      "order": null,
      "overflow": null,
      "overflow_x": null,
      "overflow_y": null,
      "padding": null,
      "right": null,
      "top": null,
      "visibility": null,
      "width": null
     }
    },
    "b73818944c3149e8a1802e8fd540a527": {
     "model_module": "@jupyter-widgets/base",
     "model_module_version": "1.2.0",
     "model_name": "LayoutModel",
     "state": {
      "_model_module": "@jupyter-widgets/base",
      "_model_module_version": "1.2.0",
      "_model_name": "LayoutModel",
      "_view_count": null,
      "_view_module": "@jupyter-widgets/base",
      "_view_module_version": "1.2.0",
      "_view_name": "LayoutView",
      "align_content": null,
      "align_items": null,
      "align_self": null,
      "border": null,
      "bottom": null,
      "display": null,
      "flex": null,
      "flex_flow": null,
      "grid_area": null,
      "grid_auto_columns": null,
      "grid_auto_flow": null,
      "grid_auto_rows": null,
      "grid_column": null,
      "grid_gap": null,
      "grid_row": null,
      "grid_template_areas": null,
      "grid_template_columns": null,
      "grid_template_rows": null,
      "height": null,
      "justify_content": null,
      "justify_items": null,
      "left": null,
      "margin": null,
      "max_height": null,
      "max_width": null,
      "min_height": null,
      "min_width": null,
      "object_fit": null,
      "object_position": null,
      "order": null,
      "overflow": null,
      "overflow_x": null,
      "overflow_y": null,
      "padding": null,
      "right": null,
      "top": null,
      "visibility": null,
      "width": null
     }
    },
    "b7b4d41ad06c4a7ca474ef58193411f2": {
     "model_module": "@jupyter-widgets/controls",
     "model_module_version": "1.5.0",
     "model_name": "HTMLModel",
     "state": {
      "_dom_classes": [],
      "_model_module": "@jupyter-widgets/controls",
      "_model_module_version": "1.5.0",
      "_model_name": "HTMLModel",
      "_view_count": null,
      "_view_module": "@jupyter-widgets/controls",
      "_view_module_version": "1.5.0",
      "_view_name": "HTMLView",
      "description": "",
      "description_tooltip": null,
      "layout": "IPY_MODEL_30b8690d69cb46fd84344796d361945f",
      "placeholder": "​",
      "style": "IPY_MODEL_39a563f6a34d40a6ab4bb1a9aaf5052b",
      "value": " 3447/25951 [00:00&lt;00:02, 9965.30sent/s]"
     }
    },
    "b8ef3b895aa04023a83d870c9fe77b18": {
     "model_module": "@jupyter-widgets/controls",
     "model_module_version": "1.5.0",
     "model_name": "HTMLModel",
     "state": {
      "_dom_classes": [],
      "_model_module": "@jupyter-widgets/controls",
      "_model_module_version": "1.5.0",
      "_model_name": "HTMLModel",
      "_view_count": null,
      "_view_module": "@jupyter-widgets/controls",
      "_view_module_version": "1.5.0",
      "_view_name": "HTMLView",
      "description": "",
      "description_tooltip": null,
      "layout": "IPY_MODEL_50fc9832ba8a4c4e8a84f79310f11d24",
      "placeholder": "​",
      "style": "IPY_MODEL_d35a6645195a4a3681a179b89056442c",
      "value": "Expanding fragments:  14%"
     }
    },
    "b9cc63e3a7dd40658cec8c5b83fb3e87": {
     "model_module": "@jupyter-widgets/controls",
     "model_module_version": "1.5.0",
     "model_name": "HTMLModel",
     "state": {
      "_dom_classes": [],
      "_model_module": "@jupyter-widgets/controls",
      "_model_module_version": "1.5.0",
      "_model_name": "HTMLModel",
      "_view_count": null,
      "_view_module": "@jupyter-widgets/controls",
      "_view_module_version": "1.5.0",
      "_view_name": "HTMLView",
      "description": "",
      "description_tooltip": null,
      "layout": "IPY_MODEL_9bdc4ad6f1774ee0b18ceecbc9a55022",
      "placeholder": "​",
      "style": "IPY_MODEL_ee3535b5b3df4252a9bcff65965f0824",
      "value": " 45341/45341 [00:09&lt;00:00, 5667.38it/s]"
     }
    },
    "ba51558452b44225b2afa0b7b1bb3a99": {
     "model_module": "@jupyter-widgets/base",
     "model_module_version": "1.2.0",
     "model_name": "LayoutModel",
     "state": {
      "_model_module": "@jupyter-widgets/base",
      "_model_module_version": "1.2.0",
      "_model_name": "LayoutModel",
      "_view_count": null,
      "_view_module": "@jupyter-widgets/base",
      "_view_module_version": "1.2.0",
      "_view_name": "LayoutView",
      "align_content": null,
      "align_items": null,
      "align_self": null,
      "border": null,
      "bottom": null,
      "display": null,
      "flex": null,
      "flex_flow": null,
      "grid_area": null,
      "grid_auto_columns": null,
      "grid_auto_flow": null,
      "grid_auto_rows": null,
      "grid_column": null,
      "grid_gap": null,
      "grid_row": null,
      "grid_template_areas": null,
      "grid_template_columns": null,
      "grid_template_rows": null,
      "height": null,
      "justify_content": null,
      "justify_items": null,
      "left": null,
      "margin": null,
      "max_height": null,
      "max_width": null,
      "min_height": null,
      "min_width": null,
      "object_fit": null,
      "object_position": null,
      "order": null,
      "overflow": null,
      "overflow_x": null,
      "overflow_y": null,
      "padding": null,
      "right": null,
      "top": null,
      "visibility": null,
      "width": null
     }
    },
    "be9113be4eab40a086a0f34084166f18": {
     "model_module": "@jupyter-widgets/controls",
     "model_module_version": "1.5.0",
     "model_name": "FloatProgressModel",
     "state": {
      "_dom_classes": [],
      "_model_module": "@jupyter-widgets/controls",
      "_model_module_version": "1.5.0",
      "_model_name": "FloatProgressModel",
      "_view_count": null,
      "_view_module": "@jupyter-widgets/controls",
      "_view_module_version": "1.5.0",
      "_view_name": "ProgressView",
      "bar_style": "success",
      "description": "",
      "description_tooltip": null,
      "layout": "IPY_MODEL_b1ef67dae7ff4716813df15880d0f448",
      "max": 45341,
      "min": 0,
      "orientation": "horizontal",
      "style": "IPY_MODEL_7c4b1bfb32a346caa8d8c4f112f84824",
      "value": 45341
     }
    },
    "bf982edc2eda442bab686f015e168f91": {
     "model_module": "@jupyter-widgets/controls",
     "model_module_version": "1.5.0",
     "model_name": "HTMLModel",
     "state": {
      "_dom_classes": [],
      "_model_module": "@jupyter-widgets/controls",
      "_model_module_version": "1.5.0",
      "_model_name": "HTMLModel",
      "_view_count": null,
      "_view_module": "@jupyter-widgets/controls",
      "_view_module_version": "1.5.0",
      "_view_name": "HTMLView",
      "description": "",
      "description_tooltip": null,
      "layout": "IPY_MODEL_42cc2749470645df9a5826f7d8480d39",
      "placeholder": "​",
      "style": "IPY_MODEL_68a1f30f08644a9fb1a71f81eeff44db",
      "value": " 3932/25951 [00:00&lt;00:02, 10513.32sent/s]"
     }
    },
    "c08f02ef79954cedb5dbc897a88d6018": {
     "model_module": "@jupyter-widgets/controls",
     "model_module_version": "1.5.0",
     "model_name": "FloatProgressModel",
     "state": {
      "_dom_classes": [],
      "_model_module": "@jupyter-widgets/controls",
      "_model_module_version": "1.5.0",
      "_model_name": "FloatProgressModel",
      "_view_count": null,
      "_view_module": "@jupyter-widgets/controls",
      "_view_module_version": "1.5.0",
      "_view_name": "ProgressView",
      "bar_style": "danger",
      "description": "",
      "description_tooltip": null,
      "layout": "IPY_MODEL_8b7f5626e3ee4980874da433e2239a0c",
      "max": 25951,
      "min": 0,
      "orientation": "horizontal",
      "style": "IPY_MODEL_c116c194bf3d41a9b5397de5ae625fb4",
      "value": 4626
     }
    },
    "c116c194bf3d41a9b5397de5ae625fb4": {
     "model_module": "@jupyter-widgets/controls",
     "model_module_version": "1.5.0",
     "model_name": "ProgressStyleModel",
     "state": {
      "_model_module": "@jupyter-widgets/controls",
      "_model_module_version": "1.5.0",
      "_model_name": "ProgressStyleModel",
      "_view_count": null,
      "_view_module": "@jupyter-widgets/base",
      "_view_module_version": "1.2.0",
      "_view_name": "StyleView",
      "bar_color": null,
      "description_width": ""
     }
    },
    "c4e3e9919a274adeb47b52a4257c43f3": {
     "model_module": "@jupyter-widgets/controls",
     "model_module_version": "1.5.0",
     "model_name": "DescriptionStyleModel",
     "state": {
      "_model_module": "@jupyter-widgets/controls",
      "_model_module_version": "1.5.0",
      "_model_name": "DescriptionStyleModel",
      "_view_count": null,
      "_view_module": "@jupyter-widgets/base",
      "_view_module_version": "1.2.0",
      "_view_name": "StyleView",
      "description_width": ""
     }
    },
    "d1a281b683e5461c93b71a384a2e57fc": {
     "model_module": "@jupyter-widgets/base",
     "model_module_version": "1.2.0",
     "model_name": "LayoutModel",
     "state": {
      "_model_module": "@jupyter-widgets/base",
      "_model_module_version": "1.2.0",
      "_model_name": "LayoutModel",
      "_view_count": null,
      "_view_module": "@jupyter-widgets/base",
      "_view_module_version": "1.2.0",
      "_view_name": "LayoutView",
      "align_content": null,
      "align_items": null,
      "align_self": null,
      "border": null,
      "bottom": null,
      "display": null,
      "flex": null,
      "flex_flow": null,
      "grid_area": null,
      "grid_auto_columns": null,
      "grid_auto_flow": null,
      "grid_auto_rows": null,
      "grid_column": null,
      "grid_gap": null,
      "grid_row": null,
      "grid_template_areas": null,
      "grid_template_columns": null,
      "grid_template_rows": null,
      "height": null,
      "justify_content": null,
      "justify_items": null,
      "left": null,
      "margin": null,
      "max_height": null,
      "max_width": null,
      "min_height": null,
      "min_width": null,
      "object_fit": null,
      "object_position": null,
      "order": null,
      "overflow": null,
      "overflow_x": null,
      "overflow_y": null,
      "padding": null,
      "right": null,
      "top": null,
      "visibility": null,
      "width": null
     }
    },
    "d245c71e3614402988a09cdf120d6e9f": {
     "model_module": "@jupyter-widgets/base",
     "model_module_version": "1.2.0",
     "model_name": "LayoutModel",
     "state": {
      "_model_module": "@jupyter-widgets/base",
      "_model_module_version": "1.2.0",
      "_model_name": "LayoutModel",
      "_view_count": null,
      "_view_module": "@jupyter-widgets/base",
      "_view_module_version": "1.2.0",
      "_view_name": "LayoutView",
      "align_content": null,
      "align_items": null,
      "align_self": null,
      "border": null,
      "bottom": null,
      "display": null,
      "flex": null,
      "flex_flow": null,
      "grid_area": null,
      "grid_auto_columns": null,
      "grid_auto_flow": null,
      "grid_auto_rows": null,
      "grid_column": null,
      "grid_gap": null,
      "grid_row": null,
      "grid_template_areas": null,
      "grid_template_columns": null,
      "grid_template_rows": null,
      "height": null,
      "justify_content": null,
      "justify_items": null,
      "left": null,
      "margin": null,
      "max_height": null,
      "max_width": null,
      "min_height": null,
      "min_width": null,
      "object_fit": null,
      "object_position": null,
      "order": null,
      "overflow": null,
      "overflow_x": null,
      "overflow_y": null,
      "padding": null,
      "right": null,
      "top": null,
      "visibility": null,
      "width": null
     }
    },
    "d26c94c0354d4ce88be732d282b7685a": {
     "model_module": "@jupyter-widgets/controls",
     "model_module_version": "1.5.0",
     "model_name": "ProgressStyleModel",
     "state": {
      "_model_module": "@jupyter-widgets/controls",
      "_model_module_version": "1.5.0",
      "_model_name": "ProgressStyleModel",
      "_view_count": null,
      "_view_module": "@jupyter-widgets/base",
      "_view_module_version": "1.2.0",
      "_view_name": "StyleView",
      "bar_color": null,
      "description_width": ""
     }
    },
    "d298751670d648b7acf78764b8e35a0b": {
     "model_module": "@jupyter-widgets/controls",
     "model_module_version": "1.5.0",
     "model_name": "FloatProgressModel",
     "state": {
      "_dom_classes": [],
      "_model_module": "@jupyter-widgets/controls",
      "_model_module_version": "1.5.0",
      "_model_name": "FloatProgressModel",
      "_view_count": null,
      "_view_module": "@jupyter-widgets/controls",
      "_view_module_version": "1.5.0",
      "_view_name": "ProgressView",
      "bar_style": "danger",
      "description": "",
      "description_tooltip": null,
      "layout": "IPY_MODEL_e3ab743244d849e6b486f01aa6d78ee3",
      "max": 25951,
      "min": 0,
      "orientation": "horizontal",
      "style": "IPY_MODEL_6a488a6df00041c3aa534c2dc91bbd2a",
      "value": 3447
     }
    },
    "d3314ab240bd49e3ba96def56a8e0e96": {
     "model_module": "@jupyter-widgets/base",
     "model_module_version": "1.2.0",
     "model_name": "LayoutModel",
     "state": {
      "_model_module": "@jupyter-widgets/base",
      "_model_module_version": "1.2.0",
      "_model_name": "LayoutModel",
      "_view_count": null,
      "_view_module": "@jupyter-widgets/base",
      "_view_module_version": "1.2.0",
      "_view_name": "LayoutView",
      "align_content": null,
      "align_items": null,
      "align_self": null,
      "border": null,
      "bottom": null,
      "display": null,
      "flex": null,
      "flex_flow": null,
      "grid_area": null,
      "grid_auto_columns": null,
      "grid_auto_flow": null,
      "grid_auto_rows": null,
      "grid_column": null,
      "grid_gap": null,
      "grid_row": null,
      "grid_template_areas": null,
      "grid_template_columns": null,
      "grid_template_rows": null,
      "height": null,
      "justify_content": null,
      "justify_items": null,
      "left": null,
      "margin": null,
      "max_height": null,
      "max_width": null,
      "min_height": null,
      "min_width": null,
      "object_fit": null,
      "object_position": null,
      "order": null,
      "overflow": null,
      "overflow_x": null,
      "overflow_y": null,
      "padding": null,
      "right": null,
      "top": null,
      "visibility": null,
      "width": null
     }
    },
    "d35a6645195a4a3681a179b89056442c": {
     "model_module": "@jupyter-widgets/controls",
     "model_module_version": "1.5.0",
     "model_name": "DescriptionStyleModel",
     "state": {
      "_model_module": "@jupyter-widgets/controls",
      "_model_module_version": "1.5.0",
      "_model_name": "DescriptionStyleModel",
      "_view_count": null,
      "_view_module": "@jupyter-widgets/base",
      "_view_module_version": "1.2.0",
      "_view_name": "StyleView",
      "description_width": ""
     }
    },
    "d49a5561390e4a21abe673a385861f61": {
     "model_module": "@jupyter-widgets/base",
     "model_module_version": "1.2.0",
     "model_name": "LayoutModel",
     "state": {
      "_model_module": "@jupyter-widgets/base",
      "_model_module_version": "1.2.0",
      "_model_name": "LayoutModel",
      "_view_count": null,
      "_view_module": "@jupyter-widgets/base",
      "_view_module_version": "1.2.0",
      "_view_name": "LayoutView",
      "align_content": null,
      "align_items": null,
      "align_self": null,
      "border": null,
      "bottom": null,
      "display": null,
      "flex": null,
      "flex_flow": null,
      "grid_area": null,
      "grid_auto_columns": null,
      "grid_auto_flow": null,
      "grid_auto_rows": null,
      "grid_column": null,
      "grid_gap": null,
      "grid_row": null,
      "grid_template_areas": null,
      "grid_template_columns": null,
      "grid_template_rows": null,
      "height": null,
      "justify_content": null,
      "justify_items": null,
      "left": null,
      "margin": null,
      "max_height": null,
      "max_width": null,
      "min_height": null,
      "min_width": null,
      "object_fit": null,
      "object_position": null,
      "order": null,
      "overflow": null,
      "overflow_x": null,
      "overflow_y": null,
      "padding": null,
      "right": null,
      "top": null,
      "visibility": null,
      "width": null
     }
    },
    "d82420f540ec42bfb2d597087daf8234": {
     "model_module": "@jupyter-widgets/controls",
     "model_module_version": "1.5.0",
     "model_name": "HBoxModel",
     "state": {
      "_dom_classes": [],
      "_model_module": "@jupyter-widgets/controls",
      "_model_module_version": "1.5.0",
      "_model_name": "HBoxModel",
      "_view_count": null,
      "_view_module": "@jupyter-widgets/controls",
      "_view_module_version": "1.5.0",
      "_view_name": "HBoxView",
      "box_style": "",
      "children": [
       "IPY_MODEL_fa816387b9ed4e89b4f29ed103ea656d",
       "IPY_MODEL_d298751670d648b7acf78764b8e35a0b",
       "IPY_MODEL_b7b4d41ad06c4a7ca474ef58193411f2"
      ],
      "layout": "IPY_MODEL_1388dc91638142a78f381817ffc094fa"
     }
    },
    "d8f56774aa574ed9939b7b8bfd6b39c6": {
     "model_module": "@jupyter-widgets/controls",
     "model_module_version": "1.5.0",
     "model_name": "DescriptionStyleModel",
     "state": {
      "_model_module": "@jupyter-widgets/controls",
      "_model_module_version": "1.5.0",
      "_model_name": "DescriptionStyleModel",
      "_view_count": null,
      "_view_module": "@jupyter-widgets/base",
      "_view_module_version": "1.2.0",
      "_view_name": "StyleView",
      "description_width": ""
     }
    },
    "da4d41a8a62c4e69a0542bbe2af87e15": {
     "model_module": "@jupyter-widgets/base",
     "model_module_version": "1.2.0",
     "model_name": "LayoutModel",
     "state": {
      "_model_module": "@jupyter-widgets/base",
      "_model_module_version": "1.2.0",
      "_model_name": "LayoutModel",
      "_view_count": null,
      "_view_module": "@jupyter-widgets/base",
      "_view_module_version": "1.2.0",
      "_view_name": "LayoutView",
      "align_content": null,
      "align_items": null,
      "align_self": null,
      "border": null,
      "bottom": null,
      "display": null,
      "flex": null,
      "flex_flow": null,
      "grid_area": null,
      "grid_auto_columns": null,
      "grid_auto_flow": null,
      "grid_auto_rows": null,
      "grid_column": null,
      "grid_gap": null,
      "grid_row": null,
      "grid_template_areas": null,
      "grid_template_columns": null,
      "grid_template_rows": null,
      "height": null,
      "justify_content": null,
      "justify_items": null,
      "left": null,
      "margin": null,
      "max_height": null,
      "max_width": null,
      "min_height": null,
      "min_width": null,
      "object_fit": null,
      "object_position": null,
      "order": null,
      "overflow": null,
      "overflow_x": null,
      "overflow_y": null,
      "padding": null,
      "right": null,
      "top": null,
      "visibility": null,
      "width": null
     }
    },
    "da7128214a6345b39fa553b4573cf717": {
     "model_module": "@jupyter-widgets/controls",
     "model_module_version": "1.5.0",
     "model_name": "DescriptionStyleModel",
     "state": {
      "_model_module": "@jupyter-widgets/controls",
      "_model_module_version": "1.5.0",
      "_model_name": "DescriptionStyleModel",
      "_view_count": null,
      "_view_module": "@jupyter-widgets/base",
      "_view_module_version": "1.2.0",
      "_view_name": "StyleView",
      "description_width": ""
     }
    },
    "db4a2a8034ec44e5a080800106dcd591": {
     "model_module": "@jupyter-widgets/controls",
     "model_module_version": "1.5.0",
     "model_name": "ProgressStyleModel",
     "state": {
      "_model_module": "@jupyter-widgets/controls",
      "_model_module_version": "1.5.0",
      "_model_name": "ProgressStyleModel",
      "_view_count": null,
      "_view_module": "@jupyter-widgets/base",
      "_view_module_version": "1.2.0",
      "_view_name": "StyleView",
      "bar_color": null,
      "description_width": ""
     }
    },
    "dc02314851014ce49096fe8f6c99c02e": {
     "model_module": "@jupyter-widgets/controls",
     "model_module_version": "1.5.0",
     "model_name": "DescriptionStyleModel",
     "state": {
      "_model_module": "@jupyter-widgets/controls",
      "_model_module_version": "1.5.0",
      "_model_name": "DescriptionStyleModel",
      "_view_count": null,
      "_view_module": "@jupyter-widgets/base",
      "_view_module_version": "1.2.0",
      "_view_name": "StyleView",
      "description_width": ""
     }
    },
    "e23f6403d9b14e9491b24309607eeab4": {
     "model_module": "@jupyter-widgets/controls",
     "model_module_version": "1.5.0",
     "model_name": "HTMLModel",
     "state": {
      "_dom_classes": [],
      "_model_module": "@jupyter-widgets/controls",
      "_model_module_version": "1.5.0",
      "_model_name": "HTMLModel",
      "_view_count": null,
      "_view_module": "@jupyter-widgets/controls",
      "_view_module_version": "1.5.0",
      "_view_name": "HTMLView",
      "description": "",
      "description_tooltip": null,
      "layout": "IPY_MODEL_78e60995b44549b8b232da517875cc7c",
      "placeholder": "​",
      "style": "IPY_MODEL_2ddbf53d3798440ea6d8d775b8e3be6d",
      "value": " 39486/105876 [00:04&lt;00:10, 6174.10sent/s]"
     }
    },
    "e3ab743244d849e6b486f01aa6d78ee3": {
     "model_module": "@jupyter-widgets/base",
     "model_module_version": "1.2.0",
     "model_name": "LayoutModel",
     "state": {
      "_model_module": "@jupyter-widgets/base",
      "_model_module_version": "1.2.0",
      "_model_name": "LayoutModel",
      "_view_count": null,
      "_view_module": "@jupyter-widgets/base",
      "_view_module_version": "1.2.0",
      "_view_name": "LayoutView",
      "align_content": null,
      "align_items": null,
      "align_self": null,
      "border": null,
      "bottom": null,
      "display": null,
      "flex": null,
      "flex_flow": null,
      "grid_area": null,
      "grid_auto_columns": null,
      "grid_auto_flow": null,
      "grid_auto_rows": null,
      "grid_column": null,
      "grid_gap": null,
      "grid_row": null,
      "grid_template_areas": null,
      "grid_template_columns": null,
      "grid_template_rows": null,
      "height": null,
      "justify_content": null,
      "justify_items": null,
      "left": null,
      "margin": null,
      "max_height": null,
      "max_width": null,
      "min_height": null,
      "min_width": null,
      "object_fit": null,
      "object_position": null,
      "order": null,
      "overflow": null,
      "overflow_x": null,
      "overflow_y": null,
      "padding": null,
      "right": null,
      "top": null,
      "visibility": null,
      "width": null
     }
    },
    "e581ecc00c8c47908eaef4a183d1c3e9": {
     "model_module": "@jupyter-widgets/controls",
     "model_module_version": "1.5.0",
     "model_name": "DescriptionStyleModel",
     "state": {
      "_model_module": "@jupyter-widgets/controls",
      "_model_module_version": "1.5.0",
      "_model_name": "DescriptionStyleModel",
      "_view_count": null,
      "_view_module": "@jupyter-widgets/base",
      "_view_module_version": "1.2.0",
      "_view_name": "StyleView",
      "description_width": ""
     }
    },
    "e7bec6331cd64db9b22a93a5a539c66c": {
     "model_module": "@jupyter-widgets/base",
     "model_module_version": "1.2.0",
     "model_name": "LayoutModel",
     "state": {
      "_model_module": "@jupyter-widgets/base",
      "_model_module_version": "1.2.0",
      "_model_name": "LayoutModel",
      "_view_count": null,
      "_view_module": "@jupyter-widgets/base",
      "_view_module_version": "1.2.0",
      "_view_name": "LayoutView",
      "align_content": null,
      "align_items": null,
      "align_self": null,
      "border": null,
      "bottom": null,
      "display": null,
      "flex": null,
      "flex_flow": null,
      "grid_area": null,
      "grid_auto_columns": null,
      "grid_auto_flow": null,
      "grid_auto_rows": null,
      "grid_column": null,
      "grid_gap": null,
      "grid_row": null,
      "grid_template_areas": null,
      "grid_template_columns": null,
      "grid_template_rows": null,
      "height": null,
      "justify_content": null,
      "justify_items": null,
      "left": null,
      "margin": null,
      "max_height": null,
      "max_width": null,
      "min_height": null,
      "min_width": null,
      "object_fit": null,
      "object_position": null,
      "order": null,
      "overflow": null,
      "overflow_x": null,
      "overflow_y": null,
      "padding": null,
      "right": null,
      "top": null,
      "visibility": null,
      "width": null
     }
    },
    "eaa35c2427bc42969e9253510a367952": {
     "model_module": "@jupyter-widgets/controls",
     "model_module_version": "1.5.0",
     "model_name": "FloatProgressModel",
     "state": {
      "_dom_classes": [],
      "_model_module": "@jupyter-widgets/controls",
      "_model_module_version": "1.5.0",
      "_model_name": "FloatProgressModel",
      "_view_count": null,
      "_view_module": "@jupyter-widgets/controls",
      "_view_module_version": "1.5.0",
      "_view_name": "ProgressView",
      "bar_style": "danger",
      "description": "",
      "description_tooltip": null,
      "layout": "IPY_MODEL_a147d22c3cbb41baa03a05ea1e5ab1cf",
      "max": 25951,
      "min": 0,
      "orientation": "horizontal",
      "style": "IPY_MODEL_db4a2a8034ec44e5a080800106dcd591",
      "value": 4324
     }
    },
    "ebebd3be6475493d90cfe9791fc4f897": {
     "model_module": "@jupyter-widgets/controls",
     "model_module_version": "1.5.0",
     "model_name": "HTMLModel",
     "state": {
      "_dom_classes": [],
      "_model_module": "@jupyter-widgets/controls",
      "_model_module_version": "1.5.0",
      "_model_name": "HTMLModel",
      "_view_count": null,
      "_view_module": "@jupyter-widgets/controls",
      "_view_module_version": "1.5.0",
      "_view_name": "HTMLView",
      "description": "",
      "description_tooltip": null,
      "layout": "IPY_MODEL_59e555f9cb0648d88e5fdce6c92edd16",
      "placeholder": "​",
      "style": "IPY_MODEL_f729aa10b96b4e00817842209ed4163f",
      "value": " 4098/25951 [00:00&lt;00:02, 10561.84sent/s]"
     }
    },
    "ee3535b5b3df4252a9bcff65965f0824": {
     "model_module": "@jupyter-widgets/controls",
     "model_module_version": "1.5.0",
     "model_name": "DescriptionStyleModel",
     "state": {
      "_model_module": "@jupyter-widgets/controls",
      "_model_module_version": "1.5.0",
      "_model_name": "DescriptionStyleModel",
      "_view_count": null,
      "_view_module": "@jupyter-widgets/base",
      "_view_module_version": "1.2.0",
      "_view_name": "StyleView",
      "description_width": ""
     }
    },
    "eeebe683400144c4a306009e842d325a": {
     "model_module": "@jupyter-widgets/controls",
     "model_module_version": "1.5.0",
     "model_name": "DescriptionStyleModel",
     "state": {
      "_model_module": "@jupyter-widgets/controls",
      "_model_module_version": "1.5.0",
      "_model_name": "DescriptionStyleModel",
      "_view_count": null,
      "_view_module": "@jupyter-widgets/base",
      "_view_module_version": "1.2.0",
      "_view_name": "StyleView",
      "description_width": ""
     }
    },
    "f11bb06ebfed4ff89a647b508198fb75": {
     "model_module": "@jupyter-widgets/base",
     "model_module_version": "1.2.0",
     "model_name": "LayoutModel",
     "state": {
      "_model_module": "@jupyter-widgets/base",
      "_model_module_version": "1.2.0",
      "_model_name": "LayoutModel",
      "_view_count": null,
      "_view_module": "@jupyter-widgets/base",
      "_view_module_version": "1.2.0",
      "_view_name": "LayoutView",
      "align_content": null,
      "align_items": null,
      "align_self": null,
      "border": null,
      "bottom": null,
      "display": null,
      "flex": null,
      "flex_flow": null,
      "grid_area": null,
      "grid_auto_columns": null,
      "grid_auto_flow": null,
      "grid_auto_rows": null,
      "grid_column": null,
      "grid_gap": null,
      "grid_row": null,
      "grid_template_areas": null,
      "grid_template_columns": null,
      "grid_template_rows": null,
      "height": null,
      "justify_content": null,
      "justify_items": null,
      "left": null,
      "margin": null,
      "max_height": null,
      "max_width": null,
      "min_height": null,
      "min_width": null,
      "object_fit": null,
      "object_position": null,
      "order": null,
      "overflow": null,
      "overflow_x": null,
      "overflow_y": null,
      "padding": null,
      "right": null,
      "top": null,
      "visibility": null,
      "width": null
     }
    },
    "f22c91b4251445ae805d7a8be7736f0c": {
     "model_module": "@jupyter-widgets/controls",
     "model_module_version": "1.5.0",
     "model_name": "HBoxModel",
     "state": {
      "_dom_classes": [],
      "_model_module": "@jupyter-widgets/controls",
      "_model_module_version": "1.5.0",
      "_model_name": "HBoxModel",
      "_view_count": null,
      "_view_module": "@jupyter-widgets/controls",
      "_view_module_version": "1.5.0",
      "_view_name": "HBoxView",
      "box_style": "",
      "children": [
       "IPY_MODEL_2e04a4353d6f4f0d8cf311328dc78325",
       "IPY_MODEL_2add80cfdcea42ac8a9921ee2e96d0dc",
       "IPY_MODEL_8f2afcc53282470bb051375f620429cc"
      ],
      "layout": "IPY_MODEL_8b6c5befc37f44af954efbc022b83309"
     }
    },
    "f23362c624a74d719e9dc73050df6625": {
     "model_module": "@jupyter-widgets/base",
     "model_module_version": "1.2.0",
     "model_name": "LayoutModel",
     "state": {
      "_model_module": "@jupyter-widgets/base",
      "_model_module_version": "1.2.0",
      "_model_name": "LayoutModel",
      "_view_count": null,
      "_view_module": "@jupyter-widgets/base",
      "_view_module_version": "1.2.0",
      "_view_name": "LayoutView",
      "align_content": null,
      "align_items": null,
      "align_self": null,
      "border": null,
      "bottom": null,
      "display": null,
      "flex": null,
      "flex_flow": null,
      "grid_area": null,
      "grid_auto_columns": null,
      "grid_auto_flow": null,
      "grid_auto_rows": null,
      "grid_column": null,
      "grid_gap": null,
      "grid_row": null,
      "grid_template_areas": null,
      "grid_template_columns": null,
      "grid_template_rows": null,
      "height": null,
      "justify_content": null,
      "justify_items": null,
      "left": null,
      "margin": null,
      "max_height": null,
      "max_width": null,
      "min_height": null,
      "min_width": null,
      "object_fit": null,
      "object_position": null,
      "order": null,
      "overflow": null,
      "overflow_x": null,
      "overflow_y": null,
      "padding": null,
      "right": null,
      "top": null,
      "visibility": null,
      "width": null
     }
    },
    "f729aa10b96b4e00817842209ed4163f": {
     "model_module": "@jupyter-widgets/controls",
     "model_module_version": "1.5.0",
     "model_name": "DescriptionStyleModel",
     "state": {
      "_model_module": "@jupyter-widgets/controls",
      "_model_module_version": "1.5.0",
      "_model_name": "DescriptionStyleModel",
      "_view_count": null,
      "_view_module": "@jupyter-widgets/base",
      "_view_module_version": "1.2.0",
      "_view_name": "StyleView",
      "description_width": ""
     }
    },
    "f805929956854662b94fb6e3ceedcff7": {
     "model_module": "@jupyter-widgets/controls",
     "model_module_version": "1.5.0",
     "model_name": "HBoxModel",
     "state": {
      "_dom_classes": [],
      "_model_module": "@jupyter-widgets/controls",
      "_model_module_version": "1.5.0",
      "_model_name": "HBoxModel",
      "_view_count": null,
      "_view_module": "@jupyter-widgets/controls",
      "_view_module_version": "1.5.0",
      "_view_name": "HBoxView",
      "box_style": "",
      "children": [
       "IPY_MODEL_28141334c73e4bb48123dd0ee67aead5",
       "IPY_MODEL_8572e7fb43f7484cb495375777ab6cfc",
       "IPY_MODEL_bf982edc2eda442bab686f015e168f91"
      ],
      "layout": "IPY_MODEL_4730bc63592f4e2f920504665ad0ca3f"
     }
    },
    "f92ff35dde9d47a99136aa6d8178cf77": {
     "model_module": "@jupyter-widgets/controls",
     "model_module_version": "1.5.0",
     "model_name": "FloatProgressModel",
     "state": {
      "_dom_classes": [],
      "_model_module": "@jupyter-widgets/controls",
      "_model_module_version": "1.5.0",
      "_model_name": "FloatProgressModel",
      "_view_count": null,
      "_view_module": "@jupyter-widgets/controls",
      "_view_module_version": "1.5.0",
      "_view_name": "ProgressView",
      "bar_style": "danger",
      "description": "",
      "description_tooltip": null,
      "layout": "IPY_MODEL_0975925f7e9f4d21a5c9b7c7a0902ebf",
      "max": 25951,
      "min": 0,
      "orientation": "horizontal",
      "style": "IPY_MODEL_4bb45e218eb3455280b8cf88aa86fcff",
      "value": 3769
     }
    },
    "fa816387b9ed4e89b4f29ed103ea656d": {
     "model_module": "@jupyter-widgets/controls",
     "model_module_version": "1.5.0",
     "model_name": "HTMLModel",
     "state": {
      "_dom_classes": [],
      "_model_module": "@jupyter-widgets/controls",
      "_model_module_version": "1.5.0",
      "_model_name": "HTMLModel",
      "_view_count": null,
      "_view_module": "@jupyter-widgets/controls",
      "_view_module_version": "1.5.0",
      "_view_name": "HTMLView",
      "description": "",
      "description_tooltip": null,
      "layout": "IPY_MODEL_5b41a832078c4a12a3421130961e4dfd",
      "placeholder": "​",
      "style": "IPY_MODEL_c4e3e9919a274adeb47b52a4257c43f3",
      "value": "Expanding fragments:  13%"
     }
    }
   }
  }
 },
 "nbformat": 4,
 "nbformat_minor": 0
}
