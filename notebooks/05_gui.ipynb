{
 "cells": [
  {
   "cell_type": "markdown",
   "metadata": {},
   "source": [
    "# 📘 Notebook: 05_gui.ipynb\n",
    "_**Part of the Fragma IPython Notebook Project Series**_\n",
    "\n",
    "*Focused on deploying a user-friendly GUI for the Fragma fragment detection system.*\n",
    "\n",
    "---\n",
    "\n",
    "## 🧭 Table of Contents\n",
    "\n",
    "1. [📘 Overview & Navigation](#overview)\n",
    "2. [🧠 Context & Purpose](#context)\n",
    "3. [📦 Dependencies & Imports](#imports)\n",
    "4. [🛠️ Repository Setup](#setup)\n",
    "5. [🚀 Running the GUI](#gui)\n",
    "6. [🔍 GUI Overview](#overview)\n",
    "\n",
    "> **Quick Links:** [🏠 Home](#overview) | [🔄 Status](#gui) | [📚 Docs](#overview)\n",
    "\n",
    "---\n",
    "\n",
    "## 🧪 Overview & Navigation {#overview}\n",
    "\n",
    "This notebook sets up and runs the Fragma GUI application, providing a user-friendly interface for interacting with the fragment detection system.\n",
    "It provides: **A clean, accessible way to test sentences, visualize predictions, and understand model behavior.**\n",
    "\n",
    "---\n",
    "\n",
    "## 🧠 Context & Purpose {#context}\n",
    "\n",
    "**🎯 Purpose:**  \n",
    "To deploy a graphical user interface for the Fragma fragment detection system, making it accessible to users without technical knowledge.\n",
    "\n",
    "**🎯 Objectives:**  \n",
    "- Clone the Fragma-GUI repository\n",
    "- Set up the necessary environment\n",
    "- Run the GUI application\n",
    "- Demonstrate key features of the interface\n",
    "\n",
    "**📘 Context:**  \n",
    "This notebook builds on the models developed in previous notebooks by providing an intuitive interface for interacting with them. The GUI allows users to easily test sentences, view predictions, and understand how the model classifies text as fragments or complete sentences.\n"
   ]
  },
  {
   "cell_type": "markdown",
   "metadata": {},
   "source": [
    "## 🧭 Notebook Structure\n",
    "\n",
    "| 🔢 Order | 📓 Notebook | 📝 Description |\n",
    "|---------:|------------|----------------|\n",
    "| 0 | [00-Fragma-Overview.ipynb](https://colab.research.google.com/drive/1oUmSqBuPqv2gObJjhezXaa6xBxe_Tl4g?usp=sharing) | Project overview and setup |\n",
    "| 1 | [01-Fragment-DS-Generator.ipynb](https://colab.research.google.com/drive/1aAVCptdYyRHmytnY7O__anYKpZh5Hl-w?usp=sharing) | Dataset generation |\n",
    "| 2 | [02-Data-Preprocessing.ipynb](https://colab.research.google.com/drive/1QbVTz71jGvVvr2rXwJk9RKGKS4r1ntCC?usp=sharing) | Text preprocessing |\n",
    "| 3 | [03-Random-Forest-Regressor.ipynb](https://colab.research.google.com/drive/1CDwjXuqBj1LBdXXvvFymNh6etWNpUnth?usp=sharing) | Baseline model |\n",
    "| 4 | [04-LSTM-Model.ipynb](https://colab.research.google.com/drive/196Spb8P56B8fwFdnkp8Kmiq9uitzLrH1) | Deep learning model (Current) |\n",
    "\n",
    "> ⏮ **Previous:** [03-Random-Forest-Regressor.ipynb](https://colab.research.google.com/drive/1CDwjXuqBj1LBdXXvvFymNh6etWNpUnth?usp=sharing)"
   ]
  },
  {
   "cell_type": "markdown",
   "metadata": {},
   "source": [
    "## 📦 Dependencies & Imports {#imports}\n",
    "\n",
    "Let's install the necessary dependencies for running the GUI application."
   ]
  },
  {
   "cell_type": "code",
   "execution_count": null,
   "metadata": {},
   "outputs": [],
   "source": [
    "import os\n",
    "import sys\n",
    "import subprocess\n",
    "from IPython.display import clear_output, display, HTML\n",
    "import shutil\n",
    "import time\n",
    "\n",
    "# Utility functions for display\n",
    "def header(text):\n",
    "    display(HTML(f\"<h2>{text}</h2>\"))\n",
    "    \n",
    "def info(text):\n",
    "    display(HTML(f\"<div style='color: #3498db; padding: 10px; border-left: 5px solid #3498db;'>{text}</div>\"))\n",
    "    \n",
    "def success(text):\n",
    "    display(HTML(f\"<div style='color: #2ecc71; padding: 10px; border-left: 5px solid #2ecc71;'>{text}</div>\"))\n",
    "    \n",
    "def warning(text):\n",
    "    display(HTML(f\"<div style='color: #e67e22; padding: 10px; border-left: 5px solid #e67e22;'>{text}</div>\"))\n",
    "    \n",
    "def error(text):\n",
    "    display(HTML(f\"<div style='color: #e74c3c; padding: 10px; border-left: 5px solid #e74c3c;'>{text}</div>\"))\n",
    "    \n",
    "def list_(items):\n",
    "    list_items = \"\".join([f\"<li>{item}</li>\" for item in items])\n",
    "    display(HTML(f\"<ul>{list_items}</ul>\"))"
   ]
  },
  {
   "cell_type": "markdown",
   "metadata": {},
   "source": [
    "## 🛠️ Repository Setup {#setup}\n",
    "\n",
    "Now we'll clone the Fragma-GUI repository and set up the necessary environment."
   ]
  },
  {
   "cell_type": "code",
   "execution_count": null,
   "metadata": {},
   "outputs": [],
   "source": [
    "REPO_URL = \"https://github.com/alaamer12/Fragma-GUI\"\n",
    "REPO_DIR = \"Fragma-GUI\"\n",
    "\n",
    "# Check if directory already exists and remove it if it does\n",
    "if os.path.exists(REPO_DIR):\n",
    "    shutil.rmtree(REPO_DIR)\n",
    "    info(f\"Removed existing {REPO_DIR} directory\")\n",
    "\n",
    "# Clone the repository\n",
    "info(f\"Cloning the Fragma-GUI repository from {REPO_URL}...\")\n",
    "try:\n",
    "    result = subprocess.run([\"git\", \"clone\", REPO_URL], \n",
    "                           check=True, \n",
    "                           stdout=subprocess.PIPE, \n",
    "                           stderr=subprocess.PIPE,\n",
    "                           text=True)\n",
    "    success(\"Repository cloned successfully!\")\n",
    "except subprocess.CalledProcessError as e:\n",
    "    error(f\"Failed to clone repository: {e.stderr}\")\n",
    "    raise\n",
    "\n",
    "# List the contents of the repository\n",
    "info(\"Contents of the Fragma-GUI repository:\")\n",
    "result = subprocess.run([\"ls\", \"-la\", REPO_DIR], \n",
    "                       check=True, \n",
    "                       stdout=subprocess.PIPE, \n",
    "                       stderr=subprocess.PIPE,\n",
    "                       text=True)\n",
    "print(result.stdout)"
   ]
  },
  {
   "cell_type": "markdown",
   "metadata": {},
   "source": [
    "## 🚀 Running the GUI {#gui}\n",
    "\n",
    "Now that we have the repository, let's install any required dependencies and run the GUI application."
   ]
  },
  {
   "cell_type": "code",
   "execution_count": null,
   "metadata": {},
   "outputs": [],
   "source": [
    "# Change to the repository directory\n",
    "os.chdir(REPO_DIR)\n",
    "info(f\"Changed directory to {os.getcwd()}\")\n",
    "\n",
    "# Install dependencies if requirements.txt exists\n",
    "if os.path.exists(\"requirements.txt\"):\n",
    "    info(\"Installing dependencies...\")\n",
    "    try:\n",
    "        subprocess.run([\"pip\", \"install\", \"-r\", \"requirements.txt\"], \n",
    "                      check=True, \n",
    "                      stdout=subprocess.PIPE, \n",
    "                      stderr=subprocess.PIPE,\n",
    "                      text=True)\n",
    "        success(\"Dependencies installed successfully!\")\n",
    "    except subprocess.CalledProcessError as e:\n",
    "        warning(f\"Some dependencies may not have installed correctly: {e.stderr}\")\n",
    "else:\n",
    "    info(\"No requirements.txt found. Skipping dependency installation.\")"
   ]
  },
  {
   "cell_type": "code",
   "execution_count": null,
   "metadata": {},
   "outputs": [],
   "source": [
    "# Check if app.py exists\n",
    "if not os.path.exists(\"app.py\"):\n",
    "    error(\"app.py not found in the repository!\")\n",
    "else:\n",
    "    info(\"Found app.py. Running the Fragma GUI...\")\n",
    "    try:\n",
    "        # For Colab, we can use Colab's network URL feature\n",
    "        if 'google.colab' in sys.modules:\n",
    "            from google.colab.output import eval_js\n",
    "            print(\"Running in Google Colab environment...\")\n",
    "            print(\"Setting up a public URL for the app...\")\n",
    "            # Run python app.py in the background\n",
    "            subprocess.Popen([\"python\", \"app.py\"])\n",
    "            # Wait for the server to start\n",
    "            time.sleep(3)\n",
    "            # Get the public URL\n",
    "            print(\"App is running! Access it through the URL below:\")\n",
    "            eval_js(\"google.colab.kernel.proxyPort(5000)\")\n",
    "        else:\n",
    "            # For local Jupyter, just run the app\n",
    "            print(\"Running the app locally. Access it at http://localhost:5000 when ready.\")\n",
    "            subprocess.run([\"python\", \"app.py\"])\n",
    "    except Exception as e:\n",
    "        error(f\"Error running the GUI application: {str(e)}\")\n"
   ]
  },
  {
   "cell_type": "markdown",
   "metadata": {},
   "source": [
    "## 🔍 GUI Overview {#overview}\n",
    "\n",
    "The Fragma GUI provides an intuitive interface for interacting with the fragment detection system. Key features include:\n",
    "\n",
    "1. **Text Input Area**: Enter sentences to test for fragment classification\n",
    "2. **Model Selection**: Choose between different trained models\n",
    "3. **Prediction Display**: View the model's classification result and confidence score\n",
    "4. **Feature Highlighting**: Visualize important features that influenced the prediction\n",
    "5. **Batch Processing**: Test multiple sentences at once\n",
    "6. **Result Export**: Save classification results for further analysis\n",
    "\n",
    "### Using the GUI\n",
    "\n",
    "1. Enter a sentence in the input field\n",
    "2. Click the \"Analyze\" button\n",
    "3. View the classification result (Fragment or Complete Sentence)\n",
    "4. Explore the confidence score and highlighted features\n",
    "\n",
    "The GUI makes the fragment detection system accessible to users without technical expertise, providing a straightforward way to leverage the power of the LSTM and other models developed in previous notebooks."
   ]
  },
  {
   "cell_type": "markdown",
   "metadata": {},
   "source": [
    "## 🏁 Conclusion\n",
    "\n",
    "In this notebook, we've successfully:\n",
    "\n",
    "- Cloned the Fragma-GUI repository\n",
    "- Set up the necessary environment\n",
    "- Launched the GUI application\n",
    "- Provided an overview of the GUI features and usage\n",
    "\n",
    "The GUI offers a user-friendly way to interact with the fragment detection models, making the technology accessible to a wider audience. It complements the technical depth of the previous notebooks by providing a practical interface for day-to-day use.\n",
    "\n",
    "\n",
    "✨ Thank you for using the Fragma Fragment Detection System! ✨"
   ]
  }
 ],
 "metadata": {
  "kernelspec": {
   "display_name": "Python 3",
   "language": "python",
   "name": "python3"
  },
  "language_info": {
   "codemirror_mode": {
    "name": "ipython",
    "version": 3
   },
   "file_extension": ".py",
   "mimetype": "text/x-python",
   "name": "python",
   "nbconvert_exporter": "python",
   "pygments_lexer": "ipython3",
   "version": "3.8.8"
  }
 },
 "nbformat": 4,
 "nbformat_minor": 4
}
